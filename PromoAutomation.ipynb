{
  "nbformat": 4,
  "nbformat_minor": 0,
  "metadata": {
    "colab": {
      "provenance": []
    },
    "kernelspec": {
      "name": "python3",
      "display_name": "Python 3"
    },
    "language_info": {
      "name": "python"
    }
  },
  "cells": [
    {
      "cell_type": "code",
      "metadata": {
        "colab": {
          "base_uri": "https://localhost:8080/"
        },
        "id": "kLXKHUqDrXtf",
        "outputId": "29a9d32f-c6aa-404a-cd9e-34e9a398e283"
      },
      "source": [
        "!pip install pymysql"
      ],
      "execution_count": null,
      "outputs": [
        {
          "output_type": "stream",
          "text": [
            "Requirement already satisfied: pymysql in /usr/local/lib/python3.7/dist-packages (1.0.2)\n"
          ],
          "name": "stdout"
        }
      ]
    },
    {
      "cell_type": "code",
      "metadata": {
        "id": "Qa0iT-W_nqwm"
      },
      "source": [
        "import pymysql\n",
        "import pandas as pd\n",
        "import numpy as np\n",
        "import matplotlib.pyplot as plt\n",
        "from datetime import date\n",
        "import datetime"
      ],
      "execution_count": null,
      "outputs": []
    },
    {
      "cell_type": "code",
      "metadata": {
        "id": "1JU6dtWIoEY0"
      },
      "source": [
        "import seaborn as sns"
      ],
      "execution_count": null,
      "outputs": []
    },
    {
      "cell_type": "code",
      "metadata": {
        "id": "3dlKY_KH4mBs"
      },
      "source": [
        "\n",
        "pd.set_option('display.max_column', None)\n",
        "pd.set_option('display.max_rows', None)"
      ],
      "execution_count": null,
      "outputs": []
    },
    {
      "cell_type": "code",
      "metadata": {
        "id": "Mucttu1RrSEB"
      },
      "source": [
        "e='RDS link'\n",
        "u='user name'\n",
        "p='password'\n",
        "db='daatabase LINK'\n",
        "connection=pymysql.connect(host=e,user=u,passwd=p,db=db)"
      ],
      "execution_count": null,
      "outputs": []
    },
    {
      "cell_type": "code",
      "metadata": {
        "id": "AINHI3bDru5h"
      },
      "source": [
        "cursors=connection.cursor()\n",
        "cursors.execute(\"\"\"select *,date_format(CONVERT_TZ(orders.created_at, '+00:00', '+5:00'), '%h %p') As Hour from orders\n",
        "inner join address\n",
        "on orders.address_id=address.id\n",
        "inner join service_area\n",
        "on address.service_area_id=service_area.id\n",
        "where CONVERT_TZ(orders.created_at, '+00:00', '+5:00') >=  now() - interval 24 hour and orders.is_order_fake=0;\n",
        "\"\"\")\n",
        "rows=cursors.fetchall()\n",
        "data=pd.DataFrame(rows)\n",
        "arra=[]\n",
        "for col in range(0,len(data.columns)):\n",
        "  arra.append(cursors.description[col][0])\n",
        "arra[5]='order_status'\n",
        "data.columns=arra"
      ],
      "execution_count": null,
      "outputs": []
    },
    {
      "cell_type": "code",
      "metadata": {
        "id": "7mZiGBISJ0ce"
      },
      "source": [
        "time=[]\n",
        "Total_order=[]\n",
        "completed_order=[]\n",
        "service_area=[]"
      ],
      "execution_count": null,
      "outputs": []
    },
    {
      "cell_type": "code",
      "metadata": {
        "id": "a0Dkkfk_3vwn"
      },
      "source": [
        "for area in data['service_area_id'].unique():\n",
        "  for val in data['Hour'].unique():\n",
        "    #print(val+\": \")\n",
        "    service_area.append(area)\n",
        "    time.append(val)\n",
        "    #print(\"Total Orders  : \" , data[data['Hour']==val].count()[1])\n",
        "    Total_order.append(data[(data['Hour']==val) & (data['service_area_id']==area)].count()[1])\n",
        "    #print(\"Total Order Complete : \" , data[(data['order_status']==9) & (data['Hour']==val)].count()[1])\n",
        "    completed_order.append(data[(data['order_status']==9) & (data['Hour']==val)  & (data['service_area_id']==area)].count()[1])\n"
      ],
      "execution_count": null,
      "outputs": []
    },
    {
      "cell_type": "code",
      "metadata": {
        "id": "RVF9g98PKkfe"
      },
      "source": [
        "time=np.array(time)\n",
        "Total_order=np.array(Total_order)\n",
        "\n",
        "completed_order=np.array(completed_order)\n",
        "service_area=np.array(service_area)"
      ],
      "execution_count": null,
      "outputs": []
    },
    {
      "cell_type": "code",
      "metadata": {
        "id": "nf1N3oSoYgS6"
      },
      "source": [
        "Output=pd.DataFrame()\n"
      ],
      "execution_count": null,
      "outputs": []
    },
    {
      "cell_type": "code",
      "metadata": {
        "id": "Zn49ZDfyYs2x"
      },
      "source": [
        "Output['Time']=time\n",
        "Output['service_area']=service_area\n",
        "Output['Total_order']=Total_order\n",
        "Output['completed_order']=completed_order\n",
        "Output['per_order_complete']=round(Output['completed_order']*100/Output['Total_order'])"
      ],
      "execution_count": null,
      "outputs": []
    },
    {
      "cell_type": "code",
      "metadata": {
        "id": "OGOXldqov81L"
      },
      "source": [
        "Output=Output.fillna(-1)"
      ],
      "execution_count": null,
      "outputs": []
    },
    {
      "cell_type": "code",
      "metadata": {
        "colab": {
          "base_uri": "https://localhost:8080/"
        },
        "id": "-d2OaJJ7u_rG",
        "outputId": "ae8e996e-11a2-4945-fe54-d672f57e517f"
      },
      "source": [
        "Output.info()"
      ],
      "execution_count": null,
      "outputs": [
        {
          "output_type": "stream",
          "text": [
            "<class 'pandas.core.frame.DataFrame'>\n",
            "RangeIndex: 425 entries, 0 to 424\n",
            "Data columns (total 5 columns):\n",
            " #   Column              Non-Null Count  Dtype  \n",
            "---  ------              --------------  -----  \n",
            " 0   Time                425 non-null    object \n",
            " 1   service_area        425 non-null    int64  \n",
            " 2   Total_order         425 non-null    int64  \n",
            " 3   completed_order     425 non-null    int64  \n",
            " 4   per_order_complete  425 non-null    float64\n",
            "dtypes: float64(1), int64(3), object(1)\n",
            "memory usage: 16.7+ KB\n"
          ],
          "name": "stdout"
        }
      ]
    },
    {
      "cell_type": "code",
      "metadata": {
        "id": "WVyDop84udJb"
      },
      "source": [
        "Output['per_order_complete']=Output['per_order_complete'].astype('Int64')\n",
        "#In [3]:myt.round().astype('Int64')\n"
      ],
      "execution_count": null,
      "outputs": []
    },
    {
      "cell_type": "code",
      "metadata": {
        "id": "0zevhJEywM4i"
      },
      "source": [],
      "execution_count": null,
      "outputs": []
    },
    {
      "cell_type": "code",
      "metadata": {
        "id": "BTm8nVukJQbR"
      },
      "source": [
        "Output['Time']=Output.sort_values('Time')"
      ],
      "execution_count": null,
      "outputs": []
    },
    {
      "cell_type": "code",
      "metadata": {
        "id": "kdYHXzt0skAL"
      },
      "source": [
        "x=Output['Time'].value_counts().count()\n",
        "y=Output['service_area'].value_counts().count()"
      ],
      "execution_count": null,
      "outputs": []
    },
    {
      "cell_type": "code",
      "metadata": {
        "colab": {
          "base_uri": "https://localhost:8080/"
        },
        "id": "NOZB_GtphiNr",
        "outputId": "523028d7-36ab-436e-ac65-327984f62dc4"
      },
      "source": [
        "Output2=pd.DataFrame(pd.np.empty((x, y)))\n",
        "Output2.index=Output['Time'].unique()\n",
        "Output2.columns=Output['service_area'].unique()\n",
        "\n",
        "for x in Output['Time'].unique():\n",
        "  for y in Output['service_area'].unique():\n",
        "    Output2.loc[x][y]=Output[(Output['service_area']==y) & (Output['Time']==x)]['per_order_complete']\n",
        "\n",
        ""
      ],
      "execution_count": null,
      "outputs": [
        {
          "output_type": "stream",
          "text": [
            "/usr/local/lib/python3.7/dist-packages/ipykernel_launcher.py:1: FutureWarning: The pandas.np module is deprecated and will be removed from pandas in a future version. Import numpy directly instead\n",
            "  \"\"\"Entry point for launching an IPython kernel.\n"
          ],
          "name": "stderr"
        }
      ]
    },
    {
      "cell_type": "code",
      "metadata": {
        "id": "3Amh4SmvqkGK"
      },
      "source": [
        "Output2=Output2.astype('int')"
      ],
      "execution_count": null,
      "outputs": []
    },
    {
      "cell_type": "code",
      "metadata": {
        "id": "CGzChfajn30q"
      },
      "source": [
        "def color_negative_red(value):\n",
        "  \"\"\"\n",
        "  Colors elements in a dateframe\n",
        "  green if positive and red if\n",
        "  negative. Does not color NaN\n",
        "  values.\n",
        "  \"\"\"\n",
        "  if ((value < 30) & (value >= 0)):\n",
        "    color = 'red'\n",
        "  elif value > 30:\n",
        "    color = 'green'\n",
        "  else:\n",
        "    color = 'blue'\n",
        "\n",
        "  return 'color: %s' % color\n",
        "th_props = [\n",
        "  ('font-size', '19px'),\n",
        "  ('text-align', 'center'),\n",
        "  ('font-weight', 'bold'),\n",
        "  ('color', '#6d6d6d'),\n",
        "  ('background-color', '#f7f7f9'),\n",
        "  ( 'margin', '400px'),\n",
        "\n",
        "  ]\n",
        "\n",
        "# Set CSS properties for td elements in dataframe\n",
        "td_props = [\n",
        "  ('font-size', '14px'),\n",
        "  ('text-align', 'center'),\n",
        "\n",
        "  ]\n",
        "\n",
        "# Set table styles\n",
        "styles = [\n",
        "  dict(selector=\"th\", props=th_props),\n",
        "  dict(selector=\"td\", props=td_props)\n",
        "  ]\n",
        "Output3=Output2.style.applymap(color_negative_red).format({'total_amt_usd_pct_diff': \"{:.2%}\"}).set_table_styles(styles)\n"
      ],
      "execution_count": null,
      "outputs": []
    },
    {
      "cell_type": "code",
      "metadata": {
        "colab": {
          "base_uri": "https://localhost:8080/",
          "height": 501
        },
        "id": "vPT3_277tgcT",
        "outputId": "be167cac-ac3e-41a9-90a2-e2c2de19d89b"
      },
      "source": [
        "Output3"
      ],
      "execution_count": null,
      "outputs": [
        {
          "output_type": "execute_result",
          "data": {
            "text/html": [
              "<style  type=\"text/css\" >\n",
              "    #T_34ede88a_f79e_11eb_8d96_0242ac1c0002 th {\n",
              "          font-size: 19px;\n",
              "          text-align: center;\n",
              "          font-weight: bold;\n",
              "          color: #6d6d6d;\n",
              "          background-color: #f7f7f9;\n",
              "          margin: 400px;\n",
              "    }    #T_34ede88a_f79e_11eb_8d96_0242ac1c0002 td {\n",
              "          font-size: 14px;\n",
              "          text-align: center;\n",
              "    }#T_34ede88a_f79e_11eb_8d96_0242ac1c0002row0_col0,#T_34ede88a_f79e_11eb_8d96_0242ac1c0002row0_col1,#T_34ede88a_f79e_11eb_8d96_0242ac1c0002row0_col3,#T_34ede88a_f79e_11eb_8d96_0242ac1c0002row0_col4,#T_34ede88a_f79e_11eb_8d96_0242ac1c0002row0_col5,#T_34ede88a_f79e_11eb_8d96_0242ac1c0002row0_col6,#T_34ede88a_f79e_11eb_8d96_0242ac1c0002row0_col7,#T_34ede88a_f79e_11eb_8d96_0242ac1c0002row0_col8,#T_34ede88a_f79e_11eb_8d96_0242ac1c0002row0_col9,#T_34ede88a_f79e_11eb_8d96_0242ac1c0002row0_col11,#T_34ede88a_f79e_11eb_8d96_0242ac1c0002row0_col12,#T_34ede88a_f79e_11eb_8d96_0242ac1c0002row0_col14,#T_34ede88a_f79e_11eb_8d96_0242ac1c0002row0_col15,#T_34ede88a_f79e_11eb_8d96_0242ac1c0002row0_col16,#T_34ede88a_f79e_11eb_8d96_0242ac1c0002row0_col17,#T_34ede88a_f79e_11eb_8d96_0242ac1c0002row0_col19,#T_34ede88a_f79e_11eb_8d96_0242ac1c0002row0_col22,#T_34ede88a_f79e_11eb_8d96_0242ac1c0002row0_col24,#T_34ede88a_f79e_11eb_8d96_0242ac1c0002row1_col0,#T_34ede88a_f79e_11eb_8d96_0242ac1c0002row1_col1,#T_34ede88a_f79e_11eb_8d96_0242ac1c0002row1_col3,#T_34ede88a_f79e_11eb_8d96_0242ac1c0002row1_col4,#T_34ede88a_f79e_11eb_8d96_0242ac1c0002row1_col5,#T_34ede88a_f79e_11eb_8d96_0242ac1c0002row1_col6,#T_34ede88a_f79e_11eb_8d96_0242ac1c0002row1_col7,#T_34ede88a_f79e_11eb_8d96_0242ac1c0002row1_col8,#T_34ede88a_f79e_11eb_8d96_0242ac1c0002row1_col9,#T_34ede88a_f79e_11eb_8d96_0242ac1c0002row1_col10,#T_34ede88a_f79e_11eb_8d96_0242ac1c0002row1_col11,#T_34ede88a_f79e_11eb_8d96_0242ac1c0002row1_col12,#T_34ede88a_f79e_11eb_8d96_0242ac1c0002row1_col13,#T_34ede88a_f79e_11eb_8d96_0242ac1c0002row1_col14,#T_34ede88a_f79e_11eb_8d96_0242ac1c0002row1_col15,#T_34ede88a_f79e_11eb_8d96_0242ac1c0002row1_col16,#T_34ede88a_f79e_11eb_8d96_0242ac1c0002row1_col17,#T_34ede88a_f79e_11eb_8d96_0242ac1c0002row1_col18,#T_34ede88a_f79e_11eb_8d96_0242ac1c0002row1_col19,#T_34ede88a_f79e_11eb_8d96_0242ac1c0002row1_col20,#T_34ede88a_f79e_11eb_8d96_0242ac1c0002row1_col21,#T_34ede88a_f79e_11eb_8d96_0242ac1c0002row2_col0,#T_34ede88a_f79e_11eb_8d96_0242ac1c0002row2_col1,#T_34ede88a_f79e_11eb_8d96_0242ac1c0002row2_col3,#T_34ede88a_f79e_11eb_8d96_0242ac1c0002row2_col4,#T_34ede88a_f79e_11eb_8d96_0242ac1c0002row2_col6,#T_34ede88a_f79e_11eb_8d96_0242ac1c0002row2_col7,#T_34ede88a_f79e_11eb_8d96_0242ac1c0002row2_col9,#T_34ede88a_f79e_11eb_8d96_0242ac1c0002row2_col10,#T_34ede88a_f79e_11eb_8d96_0242ac1c0002row2_col11,#T_34ede88a_f79e_11eb_8d96_0242ac1c0002row2_col12,#T_34ede88a_f79e_11eb_8d96_0242ac1c0002row2_col13,#T_34ede88a_f79e_11eb_8d96_0242ac1c0002row2_col14,#T_34ede88a_f79e_11eb_8d96_0242ac1c0002row2_col15,#T_34ede88a_f79e_11eb_8d96_0242ac1c0002row2_col16,#T_34ede88a_f79e_11eb_8d96_0242ac1c0002row2_col17,#T_34ede88a_f79e_11eb_8d96_0242ac1c0002row2_col19,#T_34ede88a_f79e_11eb_8d96_0242ac1c0002row2_col20,#T_34ede88a_f79e_11eb_8d96_0242ac1c0002row2_col21,#T_34ede88a_f79e_11eb_8d96_0242ac1c0002row2_col22,#T_34ede88a_f79e_11eb_8d96_0242ac1c0002row2_col23,#T_34ede88a_f79e_11eb_8d96_0242ac1c0002row3_col0,#T_34ede88a_f79e_11eb_8d96_0242ac1c0002row3_col1,#T_34ede88a_f79e_11eb_8d96_0242ac1c0002row3_col2,#T_34ede88a_f79e_11eb_8d96_0242ac1c0002row3_col3,#T_34ede88a_f79e_11eb_8d96_0242ac1c0002row3_col4,#T_34ede88a_f79e_11eb_8d96_0242ac1c0002row3_col5,#T_34ede88a_f79e_11eb_8d96_0242ac1c0002row3_col6,#T_34ede88a_f79e_11eb_8d96_0242ac1c0002row3_col7,#T_34ede88a_f79e_11eb_8d96_0242ac1c0002row3_col8,#T_34ede88a_f79e_11eb_8d96_0242ac1c0002row3_col9,#T_34ede88a_f79e_11eb_8d96_0242ac1c0002row3_col10,#T_34ede88a_f79e_11eb_8d96_0242ac1c0002row3_col11,#T_34ede88a_f79e_11eb_8d96_0242ac1c0002row3_col12,#T_34ede88a_f79e_11eb_8d96_0242ac1c0002row3_col13,#T_34ede88a_f79e_11eb_8d96_0242ac1c0002row3_col14,#T_34ede88a_f79e_11eb_8d96_0242ac1c0002row3_col15,#T_34ede88a_f79e_11eb_8d96_0242ac1c0002row3_col16,#T_34ede88a_f79e_11eb_8d96_0242ac1c0002row3_col17,#T_34ede88a_f79e_11eb_8d96_0242ac1c0002row3_col19,#T_34ede88a_f79e_11eb_8d96_0242ac1c0002row3_col20,#T_34ede88a_f79e_11eb_8d96_0242ac1c0002row3_col22,#T_34ede88a_f79e_11eb_8d96_0242ac1c0002row4_col0,#T_34ede88a_f79e_11eb_8d96_0242ac1c0002row4_col1,#T_34ede88a_f79e_11eb_8d96_0242ac1c0002row4_col2,#T_34ede88a_f79e_11eb_8d96_0242ac1c0002row4_col3,#T_34ede88a_f79e_11eb_8d96_0242ac1c0002row4_col4,#T_34ede88a_f79e_11eb_8d96_0242ac1c0002row4_col5,#T_34ede88a_f79e_11eb_8d96_0242ac1c0002row4_col6,#T_34ede88a_f79e_11eb_8d96_0242ac1c0002row4_col8,#T_34ede88a_f79e_11eb_8d96_0242ac1c0002row4_col9,#T_34ede88a_f79e_11eb_8d96_0242ac1c0002row4_col10,#T_34ede88a_f79e_11eb_8d96_0242ac1c0002row4_col11,#T_34ede88a_f79e_11eb_8d96_0242ac1c0002row4_col12,#T_34ede88a_f79e_11eb_8d96_0242ac1c0002row4_col13,#T_34ede88a_f79e_11eb_8d96_0242ac1c0002row4_col15,#T_34ede88a_f79e_11eb_8d96_0242ac1c0002row4_col16,#T_34ede88a_f79e_11eb_8d96_0242ac1c0002row4_col19,#T_34ede88a_f79e_11eb_8d96_0242ac1c0002row4_col21,#T_34ede88a_f79e_11eb_8d96_0242ac1c0002row4_col22,#T_34ede88a_f79e_11eb_8d96_0242ac1c0002row5_col0,#T_34ede88a_f79e_11eb_8d96_0242ac1c0002row5_col1,#T_34ede88a_f79e_11eb_8d96_0242ac1c0002row5_col2,#T_34ede88a_f79e_11eb_8d96_0242ac1c0002row5_col3,#T_34ede88a_f79e_11eb_8d96_0242ac1c0002row5_col4,#T_34ede88a_f79e_11eb_8d96_0242ac1c0002row5_col6,#T_34ede88a_f79e_11eb_8d96_0242ac1c0002row5_col9,#T_34ede88a_f79e_11eb_8d96_0242ac1c0002row5_col11,#T_34ede88a_f79e_11eb_8d96_0242ac1c0002row5_col16,#T_34ede88a_f79e_11eb_8d96_0242ac1c0002row5_col17,#T_34ede88a_f79e_11eb_8d96_0242ac1c0002row5_col20,#T_34ede88a_f79e_11eb_8d96_0242ac1c0002row5_col21,#T_34ede88a_f79e_11eb_8d96_0242ac1c0002row5_col23,#T_34ede88a_f79e_11eb_8d96_0242ac1c0002row6_col0,#T_34ede88a_f79e_11eb_8d96_0242ac1c0002row6_col1,#T_34ede88a_f79e_11eb_8d96_0242ac1c0002row6_col2,#T_34ede88a_f79e_11eb_8d96_0242ac1c0002row6_col3,#T_34ede88a_f79e_11eb_8d96_0242ac1c0002row6_col4,#T_34ede88a_f79e_11eb_8d96_0242ac1c0002row6_col5,#T_34ede88a_f79e_11eb_8d96_0242ac1c0002row6_col6,#T_34ede88a_f79e_11eb_8d96_0242ac1c0002row6_col7,#T_34ede88a_f79e_11eb_8d96_0242ac1c0002row6_col9,#T_34ede88a_f79e_11eb_8d96_0242ac1c0002row6_col11,#T_34ede88a_f79e_11eb_8d96_0242ac1c0002row6_col13,#T_34ede88a_f79e_11eb_8d96_0242ac1c0002row6_col14,#T_34ede88a_f79e_11eb_8d96_0242ac1c0002row6_col16,#T_34ede88a_f79e_11eb_8d96_0242ac1c0002row6_col17,#T_34ede88a_f79e_11eb_8d96_0242ac1c0002row6_col22,#T_34ede88a_f79e_11eb_8d96_0242ac1c0002row7_col0,#T_34ede88a_f79e_11eb_8d96_0242ac1c0002row7_col5,#T_34ede88a_f79e_11eb_8d96_0242ac1c0002row7_col6,#T_34ede88a_f79e_11eb_8d96_0242ac1c0002row7_col7,#T_34ede88a_f79e_11eb_8d96_0242ac1c0002row7_col8,#T_34ede88a_f79e_11eb_8d96_0242ac1c0002row7_col14,#T_34ede88a_f79e_11eb_8d96_0242ac1c0002row7_col15,#T_34ede88a_f79e_11eb_8d96_0242ac1c0002row7_col16,#T_34ede88a_f79e_11eb_8d96_0242ac1c0002row7_col22,#T_34ede88a_f79e_11eb_8d96_0242ac1c0002row8_col7,#T_34ede88a_f79e_11eb_8d96_0242ac1c0002row9_col4,#T_34ede88a_f79e_11eb_8d96_0242ac1c0002row10_col14,#T_34ede88a_f79e_11eb_8d96_0242ac1c0002row11_col0,#T_34ede88a_f79e_11eb_8d96_0242ac1c0002row11_col3,#T_34ede88a_f79e_11eb_8d96_0242ac1c0002row11_col4,#T_34ede88a_f79e_11eb_8d96_0242ac1c0002row11_col6,#T_34ede88a_f79e_11eb_8d96_0242ac1c0002row11_col10,#T_34ede88a_f79e_11eb_8d96_0242ac1c0002row11_col11,#T_34ede88a_f79e_11eb_8d96_0242ac1c0002row11_col12,#T_34ede88a_f79e_11eb_8d96_0242ac1c0002row11_col14,#T_34ede88a_f79e_11eb_8d96_0242ac1c0002row11_col17,#T_34ede88a_f79e_11eb_8d96_0242ac1c0002row12_col0,#T_34ede88a_f79e_11eb_8d96_0242ac1c0002row12_col1,#T_34ede88a_f79e_11eb_8d96_0242ac1c0002row12_col2,#T_34ede88a_f79e_11eb_8d96_0242ac1c0002row12_col4,#T_34ede88a_f79e_11eb_8d96_0242ac1c0002row12_col6,#T_34ede88a_f79e_11eb_8d96_0242ac1c0002row12_col7,#T_34ede88a_f79e_11eb_8d96_0242ac1c0002row12_col8,#T_34ede88a_f79e_11eb_8d96_0242ac1c0002row12_col9,#T_34ede88a_f79e_11eb_8d96_0242ac1c0002row12_col10,#T_34ede88a_f79e_11eb_8d96_0242ac1c0002row12_col11,#T_34ede88a_f79e_11eb_8d96_0242ac1c0002row12_col12,#T_34ede88a_f79e_11eb_8d96_0242ac1c0002row12_col13,#T_34ede88a_f79e_11eb_8d96_0242ac1c0002row12_col14,#T_34ede88a_f79e_11eb_8d96_0242ac1c0002row12_col17,#T_34ede88a_f79e_11eb_8d96_0242ac1c0002row13_col1,#T_34ede88a_f79e_11eb_8d96_0242ac1c0002row13_col2,#T_34ede88a_f79e_11eb_8d96_0242ac1c0002row13_col3,#T_34ede88a_f79e_11eb_8d96_0242ac1c0002row13_col4,#T_34ede88a_f79e_11eb_8d96_0242ac1c0002row13_col5,#T_34ede88a_f79e_11eb_8d96_0242ac1c0002row13_col6,#T_34ede88a_f79e_11eb_8d96_0242ac1c0002row13_col8,#T_34ede88a_f79e_11eb_8d96_0242ac1c0002row13_col9,#T_34ede88a_f79e_11eb_8d96_0242ac1c0002row13_col12,#T_34ede88a_f79e_11eb_8d96_0242ac1c0002row13_col13,#T_34ede88a_f79e_11eb_8d96_0242ac1c0002row13_col14,#T_34ede88a_f79e_11eb_8d96_0242ac1c0002row13_col17,#T_34ede88a_f79e_11eb_8d96_0242ac1c0002row13_col20,#T_34ede88a_f79e_11eb_8d96_0242ac1c0002row14_col1,#T_34ede88a_f79e_11eb_8d96_0242ac1c0002row14_col2,#T_34ede88a_f79e_11eb_8d96_0242ac1c0002row14_col3,#T_34ede88a_f79e_11eb_8d96_0242ac1c0002row14_col4,#T_34ede88a_f79e_11eb_8d96_0242ac1c0002row14_col5,#T_34ede88a_f79e_11eb_8d96_0242ac1c0002row14_col6,#T_34ede88a_f79e_11eb_8d96_0242ac1c0002row14_col7,#T_34ede88a_f79e_11eb_8d96_0242ac1c0002row14_col8,#T_34ede88a_f79e_11eb_8d96_0242ac1c0002row14_col9,#T_34ede88a_f79e_11eb_8d96_0242ac1c0002row14_col10,#T_34ede88a_f79e_11eb_8d96_0242ac1c0002row14_col11,#T_34ede88a_f79e_11eb_8d96_0242ac1c0002row14_col12,#T_34ede88a_f79e_11eb_8d96_0242ac1c0002row14_col13,#T_34ede88a_f79e_11eb_8d96_0242ac1c0002row14_col14,#T_34ede88a_f79e_11eb_8d96_0242ac1c0002row14_col15,#T_34ede88a_f79e_11eb_8d96_0242ac1c0002row14_col17,#T_34ede88a_f79e_11eb_8d96_0242ac1c0002row14_col19,#T_34ede88a_f79e_11eb_8d96_0242ac1c0002row14_col20,#T_34ede88a_f79e_11eb_8d96_0242ac1c0002row14_col22,#T_34ede88a_f79e_11eb_8d96_0242ac1c0002row15_col0,#T_34ede88a_f79e_11eb_8d96_0242ac1c0002row15_col1,#T_34ede88a_f79e_11eb_8d96_0242ac1c0002row15_col2,#T_34ede88a_f79e_11eb_8d96_0242ac1c0002row15_col3,#T_34ede88a_f79e_11eb_8d96_0242ac1c0002row15_col4,#T_34ede88a_f79e_11eb_8d96_0242ac1c0002row15_col5,#T_34ede88a_f79e_11eb_8d96_0242ac1c0002row15_col6,#T_34ede88a_f79e_11eb_8d96_0242ac1c0002row15_col7,#T_34ede88a_f79e_11eb_8d96_0242ac1c0002row15_col8,#T_34ede88a_f79e_11eb_8d96_0242ac1c0002row15_col9,#T_34ede88a_f79e_11eb_8d96_0242ac1c0002row15_col13,#T_34ede88a_f79e_11eb_8d96_0242ac1c0002row15_col14,#T_34ede88a_f79e_11eb_8d96_0242ac1c0002row15_col15,#T_34ede88a_f79e_11eb_8d96_0242ac1c0002row15_col16,#T_34ede88a_f79e_11eb_8d96_0242ac1c0002row15_col17,#T_34ede88a_f79e_11eb_8d96_0242ac1c0002row15_col20,#T_34ede88a_f79e_11eb_8d96_0242ac1c0002row15_col22,#T_34ede88a_f79e_11eb_8d96_0242ac1c0002row15_col23,#T_34ede88a_f79e_11eb_8d96_0242ac1c0002row16_col0,#T_34ede88a_f79e_11eb_8d96_0242ac1c0002row16_col1,#T_34ede88a_f79e_11eb_8d96_0242ac1c0002row16_col2,#T_34ede88a_f79e_11eb_8d96_0242ac1c0002row16_col3,#T_34ede88a_f79e_11eb_8d96_0242ac1c0002row16_col4,#T_34ede88a_f79e_11eb_8d96_0242ac1c0002row16_col6,#T_34ede88a_f79e_11eb_8d96_0242ac1c0002row16_col7,#T_34ede88a_f79e_11eb_8d96_0242ac1c0002row16_col8,#T_34ede88a_f79e_11eb_8d96_0242ac1c0002row16_col9,#T_34ede88a_f79e_11eb_8d96_0242ac1c0002row16_col10,#T_34ede88a_f79e_11eb_8d96_0242ac1c0002row16_col11,#T_34ede88a_f79e_11eb_8d96_0242ac1c0002row16_col12,#T_34ede88a_f79e_11eb_8d96_0242ac1c0002row16_col13,#T_34ede88a_f79e_11eb_8d96_0242ac1c0002row16_col14,#T_34ede88a_f79e_11eb_8d96_0242ac1c0002row16_col15,#T_34ede88a_f79e_11eb_8d96_0242ac1c0002row16_col16,#T_34ede88a_f79e_11eb_8d96_0242ac1c0002row16_col17,#T_34ede88a_f79e_11eb_8d96_0242ac1c0002row16_col19,#T_34ede88a_f79e_11eb_8d96_0242ac1c0002row16_col20,#T_34ede88a_f79e_11eb_8d96_0242ac1c0002row16_col24{\n",
              "            color:  green;\n",
              "        }#T_34ede88a_f79e_11eb_8d96_0242ac1c0002row0_col2,#T_34ede88a_f79e_11eb_8d96_0242ac1c0002row0_col10,#T_34ede88a_f79e_11eb_8d96_0242ac1c0002row0_col13,#T_34ede88a_f79e_11eb_8d96_0242ac1c0002row1_col23,#T_34ede88a_f79e_11eb_8d96_0242ac1c0002row2_col2,#T_34ede88a_f79e_11eb_8d96_0242ac1c0002row2_col5,#T_34ede88a_f79e_11eb_8d96_0242ac1c0002row2_col8,#T_34ede88a_f79e_11eb_8d96_0242ac1c0002row2_col18,#T_34ede88a_f79e_11eb_8d96_0242ac1c0002row2_col24,#T_34ede88a_f79e_11eb_8d96_0242ac1c0002row3_col18,#T_34ede88a_f79e_11eb_8d96_0242ac1c0002row4_col7,#T_34ede88a_f79e_11eb_8d96_0242ac1c0002row4_col14,#T_34ede88a_f79e_11eb_8d96_0242ac1c0002row4_col17,#T_34ede88a_f79e_11eb_8d96_0242ac1c0002row4_col20,#T_34ede88a_f79e_11eb_8d96_0242ac1c0002row5_col8,#T_34ede88a_f79e_11eb_8d96_0242ac1c0002row5_col10,#T_34ede88a_f79e_11eb_8d96_0242ac1c0002row5_col12,#T_34ede88a_f79e_11eb_8d96_0242ac1c0002row5_col13,#T_34ede88a_f79e_11eb_8d96_0242ac1c0002row5_col14,#T_34ede88a_f79e_11eb_8d96_0242ac1c0002row5_col15,#T_34ede88a_f79e_11eb_8d96_0242ac1c0002row5_col22,#T_34ede88a_f79e_11eb_8d96_0242ac1c0002row6_col10,#T_34ede88a_f79e_11eb_8d96_0242ac1c0002row6_col15,#T_34ede88a_f79e_11eb_8d96_0242ac1c0002row7_col2,#T_34ede88a_f79e_11eb_8d96_0242ac1c0002row7_col3,#T_34ede88a_f79e_11eb_8d96_0242ac1c0002row7_col4,#T_34ede88a_f79e_11eb_8d96_0242ac1c0002row7_col9,#T_34ede88a_f79e_11eb_8d96_0242ac1c0002row7_col10,#T_34ede88a_f79e_11eb_8d96_0242ac1c0002row7_col11,#T_34ede88a_f79e_11eb_8d96_0242ac1c0002row7_col17,#T_34ede88a_f79e_11eb_8d96_0242ac1c0002row7_col20,#T_34ede88a_f79e_11eb_8d96_0242ac1c0002row8_col14,#T_34ede88a_f79e_11eb_8d96_0242ac1c0002row11_col7,#T_34ede88a_f79e_11eb_8d96_0242ac1c0002row11_col9,#T_34ede88a_f79e_11eb_8d96_0242ac1c0002row11_col19,#T_34ede88a_f79e_11eb_8d96_0242ac1c0002row12_col3,#T_34ede88a_f79e_11eb_8d96_0242ac1c0002row12_col16,#T_34ede88a_f79e_11eb_8d96_0242ac1c0002row13_col19,#T_34ede88a_f79e_11eb_8d96_0242ac1c0002row14_col0,#T_34ede88a_f79e_11eb_8d96_0242ac1c0002row14_col16,#T_34ede88a_f79e_11eb_8d96_0242ac1c0002row15_col11,#T_34ede88a_f79e_11eb_8d96_0242ac1c0002row15_col12,#T_34ede88a_f79e_11eb_8d96_0242ac1c0002row15_col19,#T_34ede88a_f79e_11eb_8d96_0242ac1c0002row15_col24,#T_34ede88a_f79e_11eb_8d96_0242ac1c0002row16_col5{\n",
              "            color:  red;\n",
              "        }#T_34ede88a_f79e_11eb_8d96_0242ac1c0002row0_col18,#T_34ede88a_f79e_11eb_8d96_0242ac1c0002row0_col20,#T_34ede88a_f79e_11eb_8d96_0242ac1c0002row0_col21,#T_34ede88a_f79e_11eb_8d96_0242ac1c0002row0_col23,#T_34ede88a_f79e_11eb_8d96_0242ac1c0002row1_col2,#T_34ede88a_f79e_11eb_8d96_0242ac1c0002row1_col22,#T_34ede88a_f79e_11eb_8d96_0242ac1c0002row1_col24,#T_34ede88a_f79e_11eb_8d96_0242ac1c0002row3_col21,#T_34ede88a_f79e_11eb_8d96_0242ac1c0002row3_col23,#T_34ede88a_f79e_11eb_8d96_0242ac1c0002row3_col24,#T_34ede88a_f79e_11eb_8d96_0242ac1c0002row4_col18,#T_34ede88a_f79e_11eb_8d96_0242ac1c0002row4_col23,#T_34ede88a_f79e_11eb_8d96_0242ac1c0002row4_col24,#T_34ede88a_f79e_11eb_8d96_0242ac1c0002row5_col5,#T_34ede88a_f79e_11eb_8d96_0242ac1c0002row5_col7,#T_34ede88a_f79e_11eb_8d96_0242ac1c0002row5_col18,#T_34ede88a_f79e_11eb_8d96_0242ac1c0002row5_col19,#T_34ede88a_f79e_11eb_8d96_0242ac1c0002row5_col24,#T_34ede88a_f79e_11eb_8d96_0242ac1c0002row6_col8,#T_34ede88a_f79e_11eb_8d96_0242ac1c0002row6_col12,#T_34ede88a_f79e_11eb_8d96_0242ac1c0002row6_col18,#T_34ede88a_f79e_11eb_8d96_0242ac1c0002row6_col19,#T_34ede88a_f79e_11eb_8d96_0242ac1c0002row6_col20,#T_34ede88a_f79e_11eb_8d96_0242ac1c0002row6_col21,#T_34ede88a_f79e_11eb_8d96_0242ac1c0002row6_col23,#T_34ede88a_f79e_11eb_8d96_0242ac1c0002row6_col24,#T_34ede88a_f79e_11eb_8d96_0242ac1c0002row7_col1,#T_34ede88a_f79e_11eb_8d96_0242ac1c0002row7_col12,#T_34ede88a_f79e_11eb_8d96_0242ac1c0002row7_col13,#T_34ede88a_f79e_11eb_8d96_0242ac1c0002row7_col18,#T_34ede88a_f79e_11eb_8d96_0242ac1c0002row7_col19,#T_34ede88a_f79e_11eb_8d96_0242ac1c0002row7_col21,#T_34ede88a_f79e_11eb_8d96_0242ac1c0002row7_col23,#T_34ede88a_f79e_11eb_8d96_0242ac1c0002row7_col24,#T_34ede88a_f79e_11eb_8d96_0242ac1c0002row8_col0,#T_34ede88a_f79e_11eb_8d96_0242ac1c0002row8_col1,#T_34ede88a_f79e_11eb_8d96_0242ac1c0002row8_col2,#T_34ede88a_f79e_11eb_8d96_0242ac1c0002row8_col3,#T_34ede88a_f79e_11eb_8d96_0242ac1c0002row8_col4,#T_34ede88a_f79e_11eb_8d96_0242ac1c0002row8_col5,#T_34ede88a_f79e_11eb_8d96_0242ac1c0002row8_col6,#T_34ede88a_f79e_11eb_8d96_0242ac1c0002row8_col8,#T_34ede88a_f79e_11eb_8d96_0242ac1c0002row8_col9,#T_34ede88a_f79e_11eb_8d96_0242ac1c0002row8_col10,#T_34ede88a_f79e_11eb_8d96_0242ac1c0002row8_col11,#T_34ede88a_f79e_11eb_8d96_0242ac1c0002row8_col12,#T_34ede88a_f79e_11eb_8d96_0242ac1c0002row8_col13,#T_34ede88a_f79e_11eb_8d96_0242ac1c0002row8_col15,#T_34ede88a_f79e_11eb_8d96_0242ac1c0002row8_col16,#T_34ede88a_f79e_11eb_8d96_0242ac1c0002row8_col17,#T_34ede88a_f79e_11eb_8d96_0242ac1c0002row8_col18,#T_34ede88a_f79e_11eb_8d96_0242ac1c0002row8_col19,#T_34ede88a_f79e_11eb_8d96_0242ac1c0002row8_col20,#T_34ede88a_f79e_11eb_8d96_0242ac1c0002row8_col21,#T_34ede88a_f79e_11eb_8d96_0242ac1c0002row8_col22,#T_34ede88a_f79e_11eb_8d96_0242ac1c0002row8_col23,#T_34ede88a_f79e_11eb_8d96_0242ac1c0002row8_col24,#T_34ede88a_f79e_11eb_8d96_0242ac1c0002row9_col0,#T_34ede88a_f79e_11eb_8d96_0242ac1c0002row9_col1,#T_34ede88a_f79e_11eb_8d96_0242ac1c0002row9_col2,#T_34ede88a_f79e_11eb_8d96_0242ac1c0002row9_col3,#T_34ede88a_f79e_11eb_8d96_0242ac1c0002row9_col5,#T_34ede88a_f79e_11eb_8d96_0242ac1c0002row9_col6,#T_34ede88a_f79e_11eb_8d96_0242ac1c0002row9_col7,#T_34ede88a_f79e_11eb_8d96_0242ac1c0002row9_col8,#T_34ede88a_f79e_11eb_8d96_0242ac1c0002row9_col9,#T_34ede88a_f79e_11eb_8d96_0242ac1c0002row9_col10,#T_34ede88a_f79e_11eb_8d96_0242ac1c0002row9_col11,#T_34ede88a_f79e_11eb_8d96_0242ac1c0002row9_col12,#T_34ede88a_f79e_11eb_8d96_0242ac1c0002row9_col13,#T_34ede88a_f79e_11eb_8d96_0242ac1c0002row9_col14,#T_34ede88a_f79e_11eb_8d96_0242ac1c0002row9_col15,#T_34ede88a_f79e_11eb_8d96_0242ac1c0002row9_col16,#T_34ede88a_f79e_11eb_8d96_0242ac1c0002row9_col17,#T_34ede88a_f79e_11eb_8d96_0242ac1c0002row9_col18,#T_34ede88a_f79e_11eb_8d96_0242ac1c0002row9_col19,#T_34ede88a_f79e_11eb_8d96_0242ac1c0002row9_col20,#T_34ede88a_f79e_11eb_8d96_0242ac1c0002row9_col21,#T_34ede88a_f79e_11eb_8d96_0242ac1c0002row9_col22,#T_34ede88a_f79e_11eb_8d96_0242ac1c0002row9_col23,#T_34ede88a_f79e_11eb_8d96_0242ac1c0002row9_col24,#T_34ede88a_f79e_11eb_8d96_0242ac1c0002row10_col0,#T_34ede88a_f79e_11eb_8d96_0242ac1c0002row10_col1,#T_34ede88a_f79e_11eb_8d96_0242ac1c0002row10_col2,#T_34ede88a_f79e_11eb_8d96_0242ac1c0002row10_col3,#T_34ede88a_f79e_11eb_8d96_0242ac1c0002row10_col4,#T_34ede88a_f79e_11eb_8d96_0242ac1c0002row10_col5,#T_34ede88a_f79e_11eb_8d96_0242ac1c0002row10_col6,#T_34ede88a_f79e_11eb_8d96_0242ac1c0002row10_col7,#T_34ede88a_f79e_11eb_8d96_0242ac1c0002row10_col8,#T_34ede88a_f79e_11eb_8d96_0242ac1c0002row10_col9,#T_34ede88a_f79e_11eb_8d96_0242ac1c0002row10_col10,#T_34ede88a_f79e_11eb_8d96_0242ac1c0002row10_col11,#T_34ede88a_f79e_11eb_8d96_0242ac1c0002row10_col12,#T_34ede88a_f79e_11eb_8d96_0242ac1c0002row10_col13,#T_34ede88a_f79e_11eb_8d96_0242ac1c0002row10_col15,#T_34ede88a_f79e_11eb_8d96_0242ac1c0002row10_col16,#T_34ede88a_f79e_11eb_8d96_0242ac1c0002row10_col17,#T_34ede88a_f79e_11eb_8d96_0242ac1c0002row10_col18,#T_34ede88a_f79e_11eb_8d96_0242ac1c0002row10_col19,#T_34ede88a_f79e_11eb_8d96_0242ac1c0002row10_col20,#T_34ede88a_f79e_11eb_8d96_0242ac1c0002row10_col21,#T_34ede88a_f79e_11eb_8d96_0242ac1c0002row10_col22,#T_34ede88a_f79e_11eb_8d96_0242ac1c0002row10_col23,#T_34ede88a_f79e_11eb_8d96_0242ac1c0002row10_col24,#T_34ede88a_f79e_11eb_8d96_0242ac1c0002row11_col1,#T_34ede88a_f79e_11eb_8d96_0242ac1c0002row11_col2,#T_34ede88a_f79e_11eb_8d96_0242ac1c0002row11_col5,#T_34ede88a_f79e_11eb_8d96_0242ac1c0002row11_col8,#T_34ede88a_f79e_11eb_8d96_0242ac1c0002row11_col13,#T_34ede88a_f79e_11eb_8d96_0242ac1c0002row11_col15,#T_34ede88a_f79e_11eb_8d96_0242ac1c0002row11_col16,#T_34ede88a_f79e_11eb_8d96_0242ac1c0002row11_col18,#T_34ede88a_f79e_11eb_8d96_0242ac1c0002row11_col20,#T_34ede88a_f79e_11eb_8d96_0242ac1c0002row11_col21,#T_34ede88a_f79e_11eb_8d96_0242ac1c0002row11_col22,#T_34ede88a_f79e_11eb_8d96_0242ac1c0002row11_col23,#T_34ede88a_f79e_11eb_8d96_0242ac1c0002row11_col24,#T_34ede88a_f79e_11eb_8d96_0242ac1c0002row12_col5,#T_34ede88a_f79e_11eb_8d96_0242ac1c0002row12_col15,#T_34ede88a_f79e_11eb_8d96_0242ac1c0002row12_col18,#T_34ede88a_f79e_11eb_8d96_0242ac1c0002row12_col19,#T_34ede88a_f79e_11eb_8d96_0242ac1c0002row12_col20,#T_34ede88a_f79e_11eb_8d96_0242ac1c0002row12_col21,#T_34ede88a_f79e_11eb_8d96_0242ac1c0002row12_col22,#T_34ede88a_f79e_11eb_8d96_0242ac1c0002row12_col23,#T_34ede88a_f79e_11eb_8d96_0242ac1c0002row12_col24,#T_34ede88a_f79e_11eb_8d96_0242ac1c0002row13_col0,#T_34ede88a_f79e_11eb_8d96_0242ac1c0002row13_col7,#T_34ede88a_f79e_11eb_8d96_0242ac1c0002row13_col10,#T_34ede88a_f79e_11eb_8d96_0242ac1c0002row13_col11,#T_34ede88a_f79e_11eb_8d96_0242ac1c0002row13_col15,#T_34ede88a_f79e_11eb_8d96_0242ac1c0002row13_col16,#T_34ede88a_f79e_11eb_8d96_0242ac1c0002row13_col18,#T_34ede88a_f79e_11eb_8d96_0242ac1c0002row13_col21,#T_34ede88a_f79e_11eb_8d96_0242ac1c0002row13_col22,#T_34ede88a_f79e_11eb_8d96_0242ac1c0002row13_col23,#T_34ede88a_f79e_11eb_8d96_0242ac1c0002row13_col24,#T_34ede88a_f79e_11eb_8d96_0242ac1c0002row14_col18,#T_34ede88a_f79e_11eb_8d96_0242ac1c0002row14_col21,#T_34ede88a_f79e_11eb_8d96_0242ac1c0002row14_col23,#T_34ede88a_f79e_11eb_8d96_0242ac1c0002row14_col24,#T_34ede88a_f79e_11eb_8d96_0242ac1c0002row15_col10,#T_34ede88a_f79e_11eb_8d96_0242ac1c0002row15_col18,#T_34ede88a_f79e_11eb_8d96_0242ac1c0002row15_col21,#T_34ede88a_f79e_11eb_8d96_0242ac1c0002row16_col18,#T_34ede88a_f79e_11eb_8d96_0242ac1c0002row16_col21,#T_34ede88a_f79e_11eb_8d96_0242ac1c0002row16_col22,#T_34ede88a_f79e_11eb_8d96_0242ac1c0002row16_col23{\n",
              "            color:  blue;\n",
              "        }</style><table id=\"T_34ede88a_f79e_11eb_8d96_0242ac1c0002\" ><thead>    <tr>        <th class=\"blank level0\" ></th>        <th class=\"col_heading level0 col0\" >10027</th>        <th class=\"col_heading level0 col1\" >11</th>        <th class=\"col_heading level0 col2\" >13</th>        <th class=\"col_heading level0 col3\" >12</th>        <th class=\"col_heading level0 col4\" >10023</th>        <th class=\"col_heading level0 col5\" >10051</th>        <th class=\"col_heading level0 col6\" >22</th>        <th class=\"col_heading level0 col7\" >10052</th>        <th class=\"col_heading level0 col8\" >10053</th>        <th class=\"col_heading level0 col9\" >26</th>        <th class=\"col_heading level0 col10\" >10048</th>        <th class=\"col_heading level0 col11\" >10016</th>        <th class=\"col_heading level0 col12\" >10044</th>        <th class=\"col_heading level0 col13\" >10057</th>        <th class=\"col_heading level0 col14\" >10038</th>        <th class=\"col_heading level0 col15\" >10049</th>        <th class=\"col_heading level0 col16\" >10017</th>        <th class=\"col_heading level0 col17\" >10034</th>        <th class=\"col_heading level0 col18\" >10026</th>        <th class=\"col_heading level0 col19\" >10043</th>        <th class=\"col_heading level0 col20\" >10002</th>        <th class=\"col_heading level0 col21\" >10047</th>        <th class=\"col_heading level0 col22\" >10040</th>        <th class=\"col_heading level0 col23\" >10028</th>        <th class=\"col_heading level0 col24\" >10042</th>    </tr></thead><tbody>\n",
              "                <tr>\n",
              "                        <th id=\"T_34ede88a_f79e_11eb_8d96_0242ac1c0002level0_row0\" class=\"row_heading level0 row0\" >04 PM</th>\n",
              "                        <td id=\"T_34ede88a_f79e_11eb_8d96_0242ac1c0002row0_col0\" class=\"data row0 col0\" >73</td>\n",
              "                        <td id=\"T_34ede88a_f79e_11eb_8d96_0242ac1c0002row0_col1\" class=\"data row0 col1\" >62</td>\n",
              "                        <td id=\"T_34ede88a_f79e_11eb_8d96_0242ac1c0002row0_col2\" class=\"data row0 col2\" >28</td>\n",
              "                        <td id=\"T_34ede88a_f79e_11eb_8d96_0242ac1c0002row0_col3\" class=\"data row0 col3\" >70</td>\n",
              "                        <td id=\"T_34ede88a_f79e_11eb_8d96_0242ac1c0002row0_col4\" class=\"data row0 col4\" >60</td>\n",
              "                        <td id=\"T_34ede88a_f79e_11eb_8d96_0242ac1c0002row0_col5\" class=\"data row0 col5\" >56</td>\n",
              "                        <td id=\"T_34ede88a_f79e_11eb_8d96_0242ac1c0002row0_col6\" class=\"data row0 col6\" >82</td>\n",
              "                        <td id=\"T_34ede88a_f79e_11eb_8d96_0242ac1c0002row0_col7\" class=\"data row0 col7\" >83</td>\n",
              "                        <td id=\"T_34ede88a_f79e_11eb_8d96_0242ac1c0002row0_col8\" class=\"data row0 col8\" >78</td>\n",
              "                        <td id=\"T_34ede88a_f79e_11eb_8d96_0242ac1c0002row0_col9\" class=\"data row0 col9\" >71</td>\n",
              "                        <td id=\"T_34ede88a_f79e_11eb_8d96_0242ac1c0002row0_col10\" class=\"data row0 col10\" >20</td>\n",
              "                        <td id=\"T_34ede88a_f79e_11eb_8d96_0242ac1c0002row0_col11\" class=\"data row0 col11\" >83</td>\n",
              "                        <td id=\"T_34ede88a_f79e_11eb_8d96_0242ac1c0002row0_col12\" class=\"data row0 col12\" >75</td>\n",
              "                        <td id=\"T_34ede88a_f79e_11eb_8d96_0242ac1c0002row0_col13\" class=\"data row0 col13\" >17</td>\n",
              "                        <td id=\"T_34ede88a_f79e_11eb_8d96_0242ac1c0002row0_col14\" class=\"data row0 col14\" >100</td>\n",
              "                        <td id=\"T_34ede88a_f79e_11eb_8d96_0242ac1c0002row0_col15\" class=\"data row0 col15\" >78</td>\n",
              "                        <td id=\"T_34ede88a_f79e_11eb_8d96_0242ac1c0002row0_col16\" class=\"data row0 col16\" >100</td>\n",
              "                        <td id=\"T_34ede88a_f79e_11eb_8d96_0242ac1c0002row0_col17\" class=\"data row0 col17\" >67</td>\n",
              "                        <td id=\"T_34ede88a_f79e_11eb_8d96_0242ac1c0002row0_col18\" class=\"data row0 col18\" >-1</td>\n",
              "                        <td id=\"T_34ede88a_f79e_11eb_8d96_0242ac1c0002row0_col19\" class=\"data row0 col19\" >100</td>\n",
              "                        <td id=\"T_34ede88a_f79e_11eb_8d96_0242ac1c0002row0_col20\" class=\"data row0 col20\" >-1</td>\n",
              "                        <td id=\"T_34ede88a_f79e_11eb_8d96_0242ac1c0002row0_col21\" class=\"data row0 col21\" >-1</td>\n",
              "                        <td id=\"T_34ede88a_f79e_11eb_8d96_0242ac1c0002row0_col22\" class=\"data row0 col22\" >100</td>\n",
              "                        <td id=\"T_34ede88a_f79e_11eb_8d96_0242ac1c0002row0_col23\" class=\"data row0 col23\" >-1</td>\n",
              "                        <td id=\"T_34ede88a_f79e_11eb_8d96_0242ac1c0002row0_col24\" class=\"data row0 col24\" >100</td>\n",
              "            </tr>\n",
              "            <tr>\n",
              "                        <th id=\"T_34ede88a_f79e_11eb_8d96_0242ac1c0002level0_row1\" class=\"row_heading level0 row1\" >05 PM</th>\n",
              "                        <td id=\"T_34ede88a_f79e_11eb_8d96_0242ac1c0002row1_col0\" class=\"data row1 col0\" >56</td>\n",
              "                        <td id=\"T_34ede88a_f79e_11eb_8d96_0242ac1c0002row1_col1\" class=\"data row1 col1\" >71</td>\n",
              "                        <td id=\"T_34ede88a_f79e_11eb_8d96_0242ac1c0002row1_col2\" class=\"data row1 col2\" >30</td>\n",
              "                        <td id=\"T_34ede88a_f79e_11eb_8d96_0242ac1c0002row1_col3\" class=\"data row1 col3\" >52</td>\n",
              "                        <td id=\"T_34ede88a_f79e_11eb_8d96_0242ac1c0002row1_col4\" class=\"data row1 col4\" >56</td>\n",
              "                        <td id=\"T_34ede88a_f79e_11eb_8d96_0242ac1c0002row1_col5\" class=\"data row1 col5\" >50</td>\n",
              "                        <td id=\"T_34ede88a_f79e_11eb_8d96_0242ac1c0002row1_col6\" class=\"data row1 col6\" >80</td>\n",
              "                        <td id=\"T_34ede88a_f79e_11eb_8d96_0242ac1c0002row1_col7\" class=\"data row1 col7\" >59</td>\n",
              "                        <td id=\"T_34ede88a_f79e_11eb_8d96_0242ac1c0002row1_col8\" class=\"data row1 col8\" >36</td>\n",
              "                        <td id=\"T_34ede88a_f79e_11eb_8d96_0242ac1c0002row1_col9\" class=\"data row1 col9\" >54</td>\n",
              "                        <td id=\"T_34ede88a_f79e_11eb_8d96_0242ac1c0002row1_col10\" class=\"data row1 col10\" >70</td>\n",
              "                        <td id=\"T_34ede88a_f79e_11eb_8d96_0242ac1c0002row1_col11\" class=\"data row1 col11\" >90</td>\n",
              "                        <td id=\"T_34ede88a_f79e_11eb_8d96_0242ac1c0002row1_col12\" class=\"data row1 col12\" >40</td>\n",
              "                        <td id=\"T_34ede88a_f79e_11eb_8d96_0242ac1c0002row1_col13\" class=\"data row1 col13\" >100</td>\n",
              "                        <td id=\"T_34ede88a_f79e_11eb_8d96_0242ac1c0002row1_col14\" class=\"data row1 col14\" >60</td>\n",
              "                        <td id=\"T_34ede88a_f79e_11eb_8d96_0242ac1c0002row1_col15\" class=\"data row1 col15\" >75</td>\n",
              "                        <td id=\"T_34ede88a_f79e_11eb_8d96_0242ac1c0002row1_col16\" class=\"data row1 col16\" >75</td>\n",
              "                        <td id=\"T_34ede88a_f79e_11eb_8d96_0242ac1c0002row1_col17\" class=\"data row1 col17\" >75</td>\n",
              "                        <td id=\"T_34ede88a_f79e_11eb_8d96_0242ac1c0002row1_col18\" class=\"data row1 col18\" >33</td>\n",
              "                        <td id=\"T_34ede88a_f79e_11eb_8d96_0242ac1c0002row1_col19\" class=\"data row1 col19\" >100</td>\n",
              "                        <td id=\"T_34ede88a_f79e_11eb_8d96_0242ac1c0002row1_col20\" class=\"data row1 col20\" >80</td>\n",
              "                        <td id=\"T_34ede88a_f79e_11eb_8d96_0242ac1c0002row1_col21\" class=\"data row1 col21\" >100</td>\n",
              "                        <td id=\"T_34ede88a_f79e_11eb_8d96_0242ac1c0002row1_col22\" class=\"data row1 col22\" >-1</td>\n",
              "                        <td id=\"T_34ede88a_f79e_11eb_8d96_0242ac1c0002row1_col23\" class=\"data row1 col23\" >0</td>\n",
              "                        <td id=\"T_34ede88a_f79e_11eb_8d96_0242ac1c0002row1_col24\" class=\"data row1 col24\" >-1</td>\n",
              "            </tr>\n",
              "            <tr>\n",
              "                        <th id=\"T_34ede88a_f79e_11eb_8d96_0242ac1c0002level0_row2\" class=\"row_heading level0 row2\" >06 PM</th>\n",
              "                        <td id=\"T_34ede88a_f79e_11eb_8d96_0242ac1c0002row2_col0\" class=\"data row2 col0\" >76</td>\n",
              "                        <td id=\"T_34ede88a_f79e_11eb_8d96_0242ac1c0002row2_col1\" class=\"data row2 col1\" >92</td>\n",
              "                        <td id=\"T_34ede88a_f79e_11eb_8d96_0242ac1c0002row2_col2\" class=\"data row2 col2\" >26</td>\n",
              "                        <td id=\"T_34ede88a_f79e_11eb_8d96_0242ac1c0002row2_col3\" class=\"data row2 col3\" >50</td>\n",
              "                        <td id=\"T_34ede88a_f79e_11eb_8d96_0242ac1c0002row2_col4\" class=\"data row2 col4\" >50</td>\n",
              "                        <td id=\"T_34ede88a_f79e_11eb_8d96_0242ac1c0002row2_col5\" class=\"data row2 col5\" >21</td>\n",
              "                        <td id=\"T_34ede88a_f79e_11eb_8d96_0242ac1c0002row2_col6\" class=\"data row2 col6\" >41</td>\n",
              "                        <td id=\"T_34ede88a_f79e_11eb_8d96_0242ac1c0002row2_col7\" class=\"data row2 col7\" >74</td>\n",
              "                        <td id=\"T_34ede88a_f79e_11eb_8d96_0242ac1c0002row2_col8\" class=\"data row2 col8\" >24</td>\n",
              "                        <td id=\"T_34ede88a_f79e_11eb_8d96_0242ac1c0002row2_col9\" class=\"data row2 col9\" >63</td>\n",
              "                        <td id=\"T_34ede88a_f79e_11eb_8d96_0242ac1c0002row2_col10\" class=\"data row2 col10\" >62</td>\n",
              "                        <td id=\"T_34ede88a_f79e_11eb_8d96_0242ac1c0002row2_col11\" class=\"data row2 col11\" >56</td>\n",
              "                        <td id=\"T_34ede88a_f79e_11eb_8d96_0242ac1c0002row2_col12\" class=\"data row2 col12\" >64</td>\n",
              "                        <td id=\"T_34ede88a_f79e_11eb_8d96_0242ac1c0002row2_col13\" class=\"data row2 col13\" >50</td>\n",
              "                        <td id=\"T_34ede88a_f79e_11eb_8d96_0242ac1c0002row2_col14\" class=\"data row2 col14\" >94</td>\n",
              "                        <td id=\"T_34ede88a_f79e_11eb_8d96_0242ac1c0002row2_col15\" class=\"data row2 col15\" >33</td>\n",
              "                        <td id=\"T_34ede88a_f79e_11eb_8d96_0242ac1c0002row2_col16\" class=\"data row2 col16\" >64</td>\n",
              "                        <td id=\"T_34ede88a_f79e_11eb_8d96_0242ac1c0002row2_col17\" class=\"data row2 col17\" >100</td>\n",
              "                        <td id=\"T_34ede88a_f79e_11eb_8d96_0242ac1c0002row2_col18\" class=\"data row2 col18\" >0</td>\n",
              "                        <td id=\"T_34ede88a_f79e_11eb_8d96_0242ac1c0002row2_col19\" class=\"data row2 col19\" >100</td>\n",
              "                        <td id=\"T_34ede88a_f79e_11eb_8d96_0242ac1c0002row2_col20\" class=\"data row2 col20\" >33</td>\n",
              "                        <td id=\"T_34ede88a_f79e_11eb_8d96_0242ac1c0002row2_col21\" class=\"data row2 col21\" >67</td>\n",
              "                        <td id=\"T_34ede88a_f79e_11eb_8d96_0242ac1c0002row2_col22\" class=\"data row2 col22\" >83</td>\n",
              "                        <td id=\"T_34ede88a_f79e_11eb_8d96_0242ac1c0002row2_col23\" class=\"data row2 col23\" >50</td>\n",
              "                        <td id=\"T_34ede88a_f79e_11eb_8d96_0242ac1c0002row2_col24\" class=\"data row2 col24\" >0</td>\n",
              "            </tr>\n",
              "            <tr>\n",
              "                        <th id=\"T_34ede88a_f79e_11eb_8d96_0242ac1c0002level0_row3\" class=\"row_heading level0 row3\" >07 PM</th>\n",
              "                        <td id=\"T_34ede88a_f79e_11eb_8d96_0242ac1c0002row3_col0\" class=\"data row3 col0\" >62</td>\n",
              "                        <td id=\"T_34ede88a_f79e_11eb_8d96_0242ac1c0002row3_col1\" class=\"data row3 col1\" >100</td>\n",
              "                        <td id=\"T_34ede88a_f79e_11eb_8d96_0242ac1c0002row3_col2\" class=\"data row3 col2\" >62</td>\n",
              "                        <td id=\"T_34ede88a_f79e_11eb_8d96_0242ac1c0002row3_col3\" class=\"data row3 col3\" >67</td>\n",
              "                        <td id=\"T_34ede88a_f79e_11eb_8d96_0242ac1c0002row3_col4\" class=\"data row3 col4\" >74</td>\n",
              "                        <td id=\"T_34ede88a_f79e_11eb_8d96_0242ac1c0002row3_col5\" class=\"data row3 col5\" >57</td>\n",
              "                        <td id=\"T_34ede88a_f79e_11eb_8d96_0242ac1c0002row3_col6\" class=\"data row3 col6\" >73</td>\n",
              "                        <td id=\"T_34ede88a_f79e_11eb_8d96_0242ac1c0002row3_col7\" class=\"data row3 col7\" >46</td>\n",
              "                        <td id=\"T_34ede88a_f79e_11eb_8d96_0242ac1c0002row3_col8\" class=\"data row3 col8\" >67</td>\n",
              "                        <td id=\"T_34ede88a_f79e_11eb_8d96_0242ac1c0002row3_col9\" class=\"data row3 col9\" >60</td>\n",
              "                        <td id=\"T_34ede88a_f79e_11eb_8d96_0242ac1c0002row3_col10\" class=\"data row3 col10\" >40</td>\n",
              "                        <td id=\"T_34ede88a_f79e_11eb_8d96_0242ac1c0002row3_col11\" class=\"data row3 col11\" >100</td>\n",
              "                        <td id=\"T_34ede88a_f79e_11eb_8d96_0242ac1c0002row3_col12\" class=\"data row3 col12\" >100</td>\n",
              "                        <td id=\"T_34ede88a_f79e_11eb_8d96_0242ac1c0002row3_col13\" class=\"data row3 col13\" >100</td>\n",
              "                        <td id=\"T_34ede88a_f79e_11eb_8d96_0242ac1c0002row3_col14\" class=\"data row3 col14\" >39</td>\n",
              "                        <td id=\"T_34ede88a_f79e_11eb_8d96_0242ac1c0002row3_col15\" class=\"data row3 col15\" >70</td>\n",
              "                        <td id=\"T_34ede88a_f79e_11eb_8d96_0242ac1c0002row3_col16\" class=\"data row3 col16\" >78</td>\n",
              "                        <td id=\"T_34ede88a_f79e_11eb_8d96_0242ac1c0002row3_col17\" class=\"data row3 col17\" >38</td>\n",
              "                        <td id=\"T_34ede88a_f79e_11eb_8d96_0242ac1c0002row3_col18\" class=\"data row3 col18\" >0</td>\n",
              "                        <td id=\"T_34ede88a_f79e_11eb_8d96_0242ac1c0002row3_col19\" class=\"data row3 col19\" >33</td>\n",
              "                        <td id=\"T_34ede88a_f79e_11eb_8d96_0242ac1c0002row3_col20\" class=\"data row3 col20\" >40</td>\n",
              "                        <td id=\"T_34ede88a_f79e_11eb_8d96_0242ac1c0002row3_col21\" class=\"data row3 col21\" >-1</td>\n",
              "                        <td id=\"T_34ede88a_f79e_11eb_8d96_0242ac1c0002row3_col22\" class=\"data row3 col22\" >100</td>\n",
              "                        <td id=\"T_34ede88a_f79e_11eb_8d96_0242ac1c0002row3_col23\" class=\"data row3 col23\" >-1</td>\n",
              "                        <td id=\"T_34ede88a_f79e_11eb_8d96_0242ac1c0002row3_col24\" class=\"data row3 col24\" >-1</td>\n",
              "            </tr>\n",
              "            <tr>\n",
              "                        <th id=\"T_34ede88a_f79e_11eb_8d96_0242ac1c0002level0_row4\" class=\"row_heading level0 row4\" >08 PM</th>\n",
              "                        <td id=\"T_34ede88a_f79e_11eb_8d96_0242ac1c0002row4_col0\" class=\"data row4 col0\" >42</td>\n",
              "                        <td id=\"T_34ede88a_f79e_11eb_8d96_0242ac1c0002row4_col1\" class=\"data row4 col1\" >52</td>\n",
              "                        <td id=\"T_34ede88a_f79e_11eb_8d96_0242ac1c0002row4_col2\" class=\"data row4 col2\" >33</td>\n",
              "                        <td id=\"T_34ede88a_f79e_11eb_8d96_0242ac1c0002row4_col3\" class=\"data row4 col3\" >56</td>\n",
              "                        <td id=\"T_34ede88a_f79e_11eb_8d96_0242ac1c0002row4_col4\" class=\"data row4 col4\" >44</td>\n",
              "                        <td id=\"T_34ede88a_f79e_11eb_8d96_0242ac1c0002row4_col5\" class=\"data row4 col5\" >50</td>\n",
              "                        <td id=\"T_34ede88a_f79e_11eb_8d96_0242ac1c0002row4_col6\" class=\"data row4 col6\" >54</td>\n",
              "                        <td id=\"T_34ede88a_f79e_11eb_8d96_0242ac1c0002row4_col7\" class=\"data row4 col7\" >21</td>\n",
              "                        <td id=\"T_34ede88a_f79e_11eb_8d96_0242ac1c0002row4_col8\" class=\"data row4 col8\" >45</td>\n",
              "                        <td id=\"T_34ede88a_f79e_11eb_8d96_0242ac1c0002row4_col9\" class=\"data row4 col9\" >49</td>\n",
              "                        <td id=\"T_34ede88a_f79e_11eb_8d96_0242ac1c0002row4_col10\" class=\"data row4 col10\" >50</td>\n",
              "                        <td id=\"T_34ede88a_f79e_11eb_8d96_0242ac1c0002row4_col11\" class=\"data row4 col11\" >58</td>\n",
              "                        <td id=\"T_34ede88a_f79e_11eb_8d96_0242ac1c0002row4_col12\" class=\"data row4 col12\" >62</td>\n",
              "                        <td id=\"T_34ede88a_f79e_11eb_8d96_0242ac1c0002row4_col13\" class=\"data row4 col13\" >100</td>\n",
              "                        <td id=\"T_34ede88a_f79e_11eb_8d96_0242ac1c0002row4_col14\" class=\"data row4 col14\" >19</td>\n",
              "                        <td id=\"T_34ede88a_f79e_11eb_8d96_0242ac1c0002row4_col15\" class=\"data row4 col15\" >60</td>\n",
              "                        <td id=\"T_34ede88a_f79e_11eb_8d96_0242ac1c0002row4_col16\" class=\"data row4 col16\" >79</td>\n",
              "                        <td id=\"T_34ede88a_f79e_11eb_8d96_0242ac1c0002row4_col17\" class=\"data row4 col17\" >19</td>\n",
              "                        <td id=\"T_34ede88a_f79e_11eb_8d96_0242ac1c0002row4_col18\" class=\"data row4 col18\" >-1</td>\n",
              "                        <td id=\"T_34ede88a_f79e_11eb_8d96_0242ac1c0002row4_col19\" class=\"data row4 col19\" >67</td>\n",
              "                        <td id=\"T_34ede88a_f79e_11eb_8d96_0242ac1c0002row4_col20\" class=\"data row4 col20\" >18</td>\n",
              "                        <td id=\"T_34ede88a_f79e_11eb_8d96_0242ac1c0002row4_col21\" class=\"data row4 col21\" >100</td>\n",
              "                        <td id=\"T_34ede88a_f79e_11eb_8d96_0242ac1c0002row4_col22\" class=\"data row4 col22\" >60</td>\n",
              "                        <td id=\"T_34ede88a_f79e_11eb_8d96_0242ac1c0002row4_col23\" class=\"data row4 col23\" >-1</td>\n",
              "                        <td id=\"T_34ede88a_f79e_11eb_8d96_0242ac1c0002row4_col24\" class=\"data row4 col24\" >-1</td>\n",
              "            </tr>\n",
              "            <tr>\n",
              "                        <th id=\"T_34ede88a_f79e_11eb_8d96_0242ac1c0002level0_row5\" class=\"row_heading level0 row5\" >09 PM</th>\n",
              "                        <td id=\"T_34ede88a_f79e_11eb_8d96_0242ac1c0002row5_col0\" class=\"data row5 col0\" >53</td>\n",
              "                        <td id=\"T_34ede88a_f79e_11eb_8d96_0242ac1c0002row5_col1\" class=\"data row5 col1\" >57</td>\n",
              "                        <td id=\"T_34ede88a_f79e_11eb_8d96_0242ac1c0002row5_col2\" class=\"data row5 col2\" >58</td>\n",
              "                        <td id=\"T_34ede88a_f79e_11eb_8d96_0242ac1c0002row5_col3\" class=\"data row5 col3\" >32</td>\n",
              "                        <td id=\"T_34ede88a_f79e_11eb_8d96_0242ac1c0002row5_col4\" class=\"data row5 col4\" >50</td>\n",
              "                        <td id=\"T_34ede88a_f79e_11eb_8d96_0242ac1c0002row5_col5\" class=\"data row5 col5\" >-1</td>\n",
              "                        <td id=\"T_34ede88a_f79e_11eb_8d96_0242ac1c0002row5_col6\" class=\"data row5 col6\" >42</td>\n",
              "                        <td id=\"T_34ede88a_f79e_11eb_8d96_0242ac1c0002row5_col7\" class=\"data row5 col7\" >-1</td>\n",
              "                        <td id=\"T_34ede88a_f79e_11eb_8d96_0242ac1c0002row5_col8\" class=\"data row5 col8\" >0</td>\n",
              "                        <td id=\"T_34ede88a_f79e_11eb_8d96_0242ac1c0002row5_col9\" class=\"data row5 col9\" >32</td>\n",
              "                        <td id=\"T_34ede88a_f79e_11eb_8d96_0242ac1c0002row5_col10\" class=\"data row5 col10\" >25</td>\n",
              "                        <td id=\"T_34ede88a_f79e_11eb_8d96_0242ac1c0002row5_col11\" class=\"data row5 col11\" >67</td>\n",
              "                        <td id=\"T_34ede88a_f79e_11eb_8d96_0242ac1c0002row5_col12\" class=\"data row5 col12\" >25</td>\n",
              "                        <td id=\"T_34ede88a_f79e_11eb_8d96_0242ac1c0002row5_col13\" class=\"data row5 col13\" >0</td>\n",
              "                        <td id=\"T_34ede88a_f79e_11eb_8d96_0242ac1c0002row5_col14\" class=\"data row5 col14\" >29</td>\n",
              "                        <td id=\"T_34ede88a_f79e_11eb_8d96_0242ac1c0002row5_col15\" class=\"data row5 col15\" >0</td>\n",
              "                        <td id=\"T_34ede88a_f79e_11eb_8d96_0242ac1c0002row5_col16\" class=\"data row5 col16\" >33</td>\n",
              "                        <td id=\"T_34ede88a_f79e_11eb_8d96_0242ac1c0002row5_col17\" class=\"data row5 col17\" >86</td>\n",
              "                        <td id=\"T_34ede88a_f79e_11eb_8d96_0242ac1c0002row5_col18\" class=\"data row5 col18\" >-1</td>\n",
              "                        <td id=\"T_34ede88a_f79e_11eb_8d96_0242ac1c0002row5_col19\" class=\"data row5 col19\" >-1</td>\n",
              "                        <td id=\"T_34ede88a_f79e_11eb_8d96_0242ac1c0002row5_col20\" class=\"data row5 col20\" >33</td>\n",
              "                        <td id=\"T_34ede88a_f79e_11eb_8d96_0242ac1c0002row5_col21\" class=\"data row5 col21\" >67</td>\n",
              "                        <td id=\"T_34ede88a_f79e_11eb_8d96_0242ac1c0002row5_col22\" class=\"data row5 col22\" >20</td>\n",
              "                        <td id=\"T_34ede88a_f79e_11eb_8d96_0242ac1c0002row5_col23\" class=\"data row5 col23\" >100</td>\n",
              "                        <td id=\"T_34ede88a_f79e_11eb_8d96_0242ac1c0002row5_col24\" class=\"data row5 col24\" >-1</td>\n",
              "            </tr>\n",
              "            <tr>\n",
              "                        <th id=\"T_34ede88a_f79e_11eb_8d96_0242ac1c0002level0_row6\" class=\"row_heading level0 row6\" >10 PM</th>\n",
              "                        <td id=\"T_34ede88a_f79e_11eb_8d96_0242ac1c0002row6_col0\" class=\"data row6 col0\" >50</td>\n",
              "                        <td id=\"T_34ede88a_f79e_11eb_8d96_0242ac1c0002row6_col1\" class=\"data row6 col1\" >85</td>\n",
              "                        <td id=\"T_34ede88a_f79e_11eb_8d96_0242ac1c0002row6_col2\" class=\"data row6 col2\" >33</td>\n",
              "                        <td id=\"T_34ede88a_f79e_11eb_8d96_0242ac1c0002row6_col3\" class=\"data row6 col3\" >57</td>\n",
              "                        <td id=\"T_34ede88a_f79e_11eb_8d96_0242ac1c0002row6_col4\" class=\"data row6 col4\" >43</td>\n",
              "                        <td id=\"T_34ede88a_f79e_11eb_8d96_0242ac1c0002row6_col5\" class=\"data row6 col5\" >33</td>\n",
              "                        <td id=\"T_34ede88a_f79e_11eb_8d96_0242ac1c0002row6_col6\" class=\"data row6 col6\" >50</td>\n",
              "                        <td id=\"T_34ede88a_f79e_11eb_8d96_0242ac1c0002row6_col7\" class=\"data row6 col7\" >50</td>\n",
              "                        <td id=\"T_34ede88a_f79e_11eb_8d96_0242ac1c0002row6_col8\" class=\"data row6 col8\" >-1</td>\n",
              "                        <td id=\"T_34ede88a_f79e_11eb_8d96_0242ac1c0002row6_col9\" class=\"data row6 col9\" >50</td>\n",
              "                        <td id=\"T_34ede88a_f79e_11eb_8d96_0242ac1c0002row6_col10\" class=\"data row6 col10\" >0</td>\n",
              "                        <td id=\"T_34ede88a_f79e_11eb_8d96_0242ac1c0002row6_col11\" class=\"data row6 col11\" >33</td>\n",
              "                        <td id=\"T_34ede88a_f79e_11eb_8d96_0242ac1c0002row6_col12\" class=\"data row6 col12\" >-1</td>\n",
              "                        <td id=\"T_34ede88a_f79e_11eb_8d96_0242ac1c0002row6_col13\" class=\"data row6 col13\" >100</td>\n",
              "                        <td id=\"T_34ede88a_f79e_11eb_8d96_0242ac1c0002row6_col14\" class=\"data row6 col14\" >71</td>\n",
              "                        <td id=\"T_34ede88a_f79e_11eb_8d96_0242ac1c0002row6_col15\" class=\"data row6 col15\" >0</td>\n",
              "                        <td id=\"T_34ede88a_f79e_11eb_8d96_0242ac1c0002row6_col16\" class=\"data row6 col16\" >75</td>\n",
              "                        <td id=\"T_34ede88a_f79e_11eb_8d96_0242ac1c0002row6_col17\" class=\"data row6 col17\" >71</td>\n",
              "                        <td id=\"T_34ede88a_f79e_11eb_8d96_0242ac1c0002row6_col18\" class=\"data row6 col18\" >-1</td>\n",
              "                        <td id=\"T_34ede88a_f79e_11eb_8d96_0242ac1c0002row6_col19\" class=\"data row6 col19\" >-1</td>\n",
              "                        <td id=\"T_34ede88a_f79e_11eb_8d96_0242ac1c0002row6_col20\" class=\"data row6 col20\" >-1</td>\n",
              "                        <td id=\"T_34ede88a_f79e_11eb_8d96_0242ac1c0002row6_col21\" class=\"data row6 col21\" >-1</td>\n",
              "                        <td id=\"T_34ede88a_f79e_11eb_8d96_0242ac1c0002row6_col22\" class=\"data row6 col22\" >50</td>\n",
              "                        <td id=\"T_34ede88a_f79e_11eb_8d96_0242ac1c0002row6_col23\" class=\"data row6 col23\" >-1</td>\n",
              "                        <td id=\"T_34ede88a_f79e_11eb_8d96_0242ac1c0002row6_col24\" class=\"data row6 col24\" >-1</td>\n",
              "            </tr>\n",
              "            <tr>\n",
              "                        <th id=\"T_34ede88a_f79e_11eb_8d96_0242ac1c0002level0_row7\" class=\"row_heading level0 row7\" >11 PM</th>\n",
              "                        <td id=\"T_34ede88a_f79e_11eb_8d96_0242ac1c0002row7_col0\" class=\"data row7 col0\" >50</td>\n",
              "                        <td id=\"T_34ede88a_f79e_11eb_8d96_0242ac1c0002row7_col1\" class=\"data row7 col1\" >-1</td>\n",
              "                        <td id=\"T_34ede88a_f79e_11eb_8d96_0242ac1c0002row7_col2\" class=\"data row7 col2\" >0</td>\n",
              "                        <td id=\"T_34ede88a_f79e_11eb_8d96_0242ac1c0002row7_col3\" class=\"data row7 col3\" >14</td>\n",
              "                        <td id=\"T_34ede88a_f79e_11eb_8d96_0242ac1c0002row7_col4\" class=\"data row7 col4\" >0</td>\n",
              "                        <td id=\"T_34ede88a_f79e_11eb_8d96_0242ac1c0002row7_col5\" class=\"data row7 col5\" >50</td>\n",
              "                        <td id=\"T_34ede88a_f79e_11eb_8d96_0242ac1c0002row7_col6\" class=\"data row7 col6\" >40</td>\n",
              "                        <td id=\"T_34ede88a_f79e_11eb_8d96_0242ac1c0002row7_col7\" class=\"data row7 col7\" >57</td>\n",
              "                        <td id=\"T_34ede88a_f79e_11eb_8d96_0242ac1c0002row7_col8\" class=\"data row7 col8\" >100</td>\n",
              "                        <td id=\"T_34ede88a_f79e_11eb_8d96_0242ac1c0002row7_col9\" class=\"data row7 col9\" >0</td>\n",
              "                        <td id=\"T_34ede88a_f79e_11eb_8d96_0242ac1c0002row7_col10\" class=\"data row7 col10\" >0</td>\n",
              "                        <td id=\"T_34ede88a_f79e_11eb_8d96_0242ac1c0002row7_col11\" class=\"data row7 col11\" >25</td>\n",
              "                        <td id=\"T_34ede88a_f79e_11eb_8d96_0242ac1c0002row7_col12\" class=\"data row7 col12\" >-1</td>\n",
              "                        <td id=\"T_34ede88a_f79e_11eb_8d96_0242ac1c0002row7_col13\" class=\"data row7 col13\" >-1</td>\n",
              "                        <td id=\"T_34ede88a_f79e_11eb_8d96_0242ac1c0002row7_col14\" class=\"data row7 col14\" >40</td>\n",
              "                        <td id=\"T_34ede88a_f79e_11eb_8d96_0242ac1c0002row7_col15\" class=\"data row7 col15\" >50</td>\n",
              "                        <td id=\"T_34ede88a_f79e_11eb_8d96_0242ac1c0002row7_col16\" class=\"data row7 col16\" >100</td>\n",
              "                        <td id=\"T_34ede88a_f79e_11eb_8d96_0242ac1c0002row7_col17\" class=\"data row7 col17\" >0</td>\n",
              "                        <td id=\"T_34ede88a_f79e_11eb_8d96_0242ac1c0002row7_col18\" class=\"data row7 col18\" >-1</td>\n",
              "                        <td id=\"T_34ede88a_f79e_11eb_8d96_0242ac1c0002row7_col19\" class=\"data row7 col19\" >-1</td>\n",
              "                        <td id=\"T_34ede88a_f79e_11eb_8d96_0242ac1c0002row7_col20\" class=\"data row7 col20\" >0</td>\n",
              "                        <td id=\"T_34ede88a_f79e_11eb_8d96_0242ac1c0002row7_col21\" class=\"data row7 col21\" >-1</td>\n",
              "                        <td id=\"T_34ede88a_f79e_11eb_8d96_0242ac1c0002row7_col22\" class=\"data row7 col22\" >100</td>\n",
              "                        <td id=\"T_34ede88a_f79e_11eb_8d96_0242ac1c0002row7_col23\" class=\"data row7 col23\" >-1</td>\n",
              "                        <td id=\"T_34ede88a_f79e_11eb_8d96_0242ac1c0002row7_col24\" class=\"data row7 col24\" >-1</td>\n",
              "            </tr>\n",
              "            <tr>\n",
              "                        <th id=\"T_34ede88a_f79e_11eb_8d96_0242ac1c0002level0_row8\" class=\"row_heading level0 row8\" >02 AM</th>\n",
              "                        <td id=\"T_34ede88a_f79e_11eb_8d96_0242ac1c0002row8_col0\" class=\"data row8 col0\" >-1</td>\n",
              "                        <td id=\"T_34ede88a_f79e_11eb_8d96_0242ac1c0002row8_col1\" class=\"data row8 col1\" >-1</td>\n",
              "                        <td id=\"T_34ede88a_f79e_11eb_8d96_0242ac1c0002row8_col2\" class=\"data row8 col2\" >-1</td>\n",
              "                        <td id=\"T_34ede88a_f79e_11eb_8d96_0242ac1c0002row8_col3\" class=\"data row8 col3\" >-1</td>\n",
              "                        <td id=\"T_34ede88a_f79e_11eb_8d96_0242ac1c0002row8_col4\" class=\"data row8 col4\" >-1</td>\n",
              "                        <td id=\"T_34ede88a_f79e_11eb_8d96_0242ac1c0002row8_col5\" class=\"data row8 col5\" >-1</td>\n",
              "                        <td id=\"T_34ede88a_f79e_11eb_8d96_0242ac1c0002row8_col6\" class=\"data row8 col6\" >-1</td>\n",
              "                        <td id=\"T_34ede88a_f79e_11eb_8d96_0242ac1c0002row8_col7\" class=\"data row8 col7\" >100</td>\n",
              "                        <td id=\"T_34ede88a_f79e_11eb_8d96_0242ac1c0002row8_col8\" class=\"data row8 col8\" >-1</td>\n",
              "                        <td id=\"T_34ede88a_f79e_11eb_8d96_0242ac1c0002row8_col9\" class=\"data row8 col9\" >-1</td>\n",
              "                        <td id=\"T_34ede88a_f79e_11eb_8d96_0242ac1c0002row8_col10\" class=\"data row8 col10\" >-1</td>\n",
              "                        <td id=\"T_34ede88a_f79e_11eb_8d96_0242ac1c0002row8_col11\" class=\"data row8 col11\" >-1</td>\n",
              "                        <td id=\"T_34ede88a_f79e_11eb_8d96_0242ac1c0002row8_col12\" class=\"data row8 col12\" >-1</td>\n",
              "                        <td id=\"T_34ede88a_f79e_11eb_8d96_0242ac1c0002row8_col13\" class=\"data row8 col13\" >-1</td>\n",
              "                        <td id=\"T_34ede88a_f79e_11eb_8d96_0242ac1c0002row8_col14\" class=\"data row8 col14\" >0</td>\n",
              "                        <td id=\"T_34ede88a_f79e_11eb_8d96_0242ac1c0002row8_col15\" class=\"data row8 col15\" >-1</td>\n",
              "                        <td id=\"T_34ede88a_f79e_11eb_8d96_0242ac1c0002row8_col16\" class=\"data row8 col16\" >-1</td>\n",
              "                        <td id=\"T_34ede88a_f79e_11eb_8d96_0242ac1c0002row8_col17\" class=\"data row8 col17\" >-1</td>\n",
              "                        <td id=\"T_34ede88a_f79e_11eb_8d96_0242ac1c0002row8_col18\" class=\"data row8 col18\" >-1</td>\n",
              "                        <td id=\"T_34ede88a_f79e_11eb_8d96_0242ac1c0002row8_col19\" class=\"data row8 col19\" >-1</td>\n",
              "                        <td id=\"T_34ede88a_f79e_11eb_8d96_0242ac1c0002row8_col20\" class=\"data row8 col20\" >-1</td>\n",
              "                        <td id=\"T_34ede88a_f79e_11eb_8d96_0242ac1c0002row8_col21\" class=\"data row8 col21\" >-1</td>\n",
              "                        <td id=\"T_34ede88a_f79e_11eb_8d96_0242ac1c0002row8_col22\" class=\"data row8 col22\" >-1</td>\n",
              "                        <td id=\"T_34ede88a_f79e_11eb_8d96_0242ac1c0002row8_col23\" class=\"data row8 col23\" >-1</td>\n",
              "                        <td id=\"T_34ede88a_f79e_11eb_8d96_0242ac1c0002row8_col24\" class=\"data row8 col24\" >-1</td>\n",
              "            </tr>\n",
              "            <tr>\n",
              "                        <th id=\"T_34ede88a_f79e_11eb_8d96_0242ac1c0002level0_row9\" class=\"row_heading level0 row9\" >03 AM</th>\n",
              "                        <td id=\"T_34ede88a_f79e_11eb_8d96_0242ac1c0002row9_col0\" class=\"data row9 col0\" >-1</td>\n",
              "                        <td id=\"T_34ede88a_f79e_11eb_8d96_0242ac1c0002row9_col1\" class=\"data row9 col1\" >-1</td>\n",
              "                        <td id=\"T_34ede88a_f79e_11eb_8d96_0242ac1c0002row9_col2\" class=\"data row9 col2\" >-1</td>\n",
              "                        <td id=\"T_34ede88a_f79e_11eb_8d96_0242ac1c0002row9_col3\" class=\"data row9 col3\" >-1</td>\n",
              "                        <td id=\"T_34ede88a_f79e_11eb_8d96_0242ac1c0002row9_col4\" class=\"data row9 col4\" >100</td>\n",
              "                        <td id=\"T_34ede88a_f79e_11eb_8d96_0242ac1c0002row9_col5\" class=\"data row9 col5\" >-1</td>\n",
              "                        <td id=\"T_34ede88a_f79e_11eb_8d96_0242ac1c0002row9_col6\" class=\"data row9 col6\" >-1</td>\n",
              "                        <td id=\"T_34ede88a_f79e_11eb_8d96_0242ac1c0002row9_col7\" class=\"data row9 col7\" >-1</td>\n",
              "                        <td id=\"T_34ede88a_f79e_11eb_8d96_0242ac1c0002row9_col8\" class=\"data row9 col8\" >-1</td>\n",
              "                        <td id=\"T_34ede88a_f79e_11eb_8d96_0242ac1c0002row9_col9\" class=\"data row9 col9\" >-1</td>\n",
              "                        <td id=\"T_34ede88a_f79e_11eb_8d96_0242ac1c0002row9_col10\" class=\"data row9 col10\" >-1</td>\n",
              "                        <td id=\"T_34ede88a_f79e_11eb_8d96_0242ac1c0002row9_col11\" class=\"data row9 col11\" >-1</td>\n",
              "                        <td id=\"T_34ede88a_f79e_11eb_8d96_0242ac1c0002row9_col12\" class=\"data row9 col12\" >-1</td>\n",
              "                        <td id=\"T_34ede88a_f79e_11eb_8d96_0242ac1c0002row9_col13\" class=\"data row9 col13\" >-1</td>\n",
              "                        <td id=\"T_34ede88a_f79e_11eb_8d96_0242ac1c0002row9_col14\" class=\"data row9 col14\" >-1</td>\n",
              "                        <td id=\"T_34ede88a_f79e_11eb_8d96_0242ac1c0002row9_col15\" class=\"data row9 col15\" >-1</td>\n",
              "                        <td id=\"T_34ede88a_f79e_11eb_8d96_0242ac1c0002row9_col16\" class=\"data row9 col16\" >-1</td>\n",
              "                        <td id=\"T_34ede88a_f79e_11eb_8d96_0242ac1c0002row9_col17\" class=\"data row9 col17\" >-1</td>\n",
              "                        <td id=\"T_34ede88a_f79e_11eb_8d96_0242ac1c0002row9_col18\" class=\"data row9 col18\" >-1</td>\n",
              "                        <td id=\"T_34ede88a_f79e_11eb_8d96_0242ac1c0002row9_col19\" class=\"data row9 col19\" >-1</td>\n",
              "                        <td id=\"T_34ede88a_f79e_11eb_8d96_0242ac1c0002row9_col20\" class=\"data row9 col20\" >-1</td>\n",
              "                        <td id=\"T_34ede88a_f79e_11eb_8d96_0242ac1c0002row9_col21\" class=\"data row9 col21\" >-1</td>\n",
              "                        <td id=\"T_34ede88a_f79e_11eb_8d96_0242ac1c0002row9_col22\" class=\"data row9 col22\" >-1</td>\n",
              "                        <td id=\"T_34ede88a_f79e_11eb_8d96_0242ac1c0002row9_col23\" class=\"data row9 col23\" >-1</td>\n",
              "                        <td id=\"T_34ede88a_f79e_11eb_8d96_0242ac1c0002row9_col24\" class=\"data row9 col24\" >-1</td>\n",
              "            </tr>\n",
              "            <tr>\n",
              "                        <th id=\"T_34ede88a_f79e_11eb_8d96_0242ac1c0002level0_row10\" class=\"row_heading level0 row10\" >04 AM</th>\n",
              "                        <td id=\"T_34ede88a_f79e_11eb_8d96_0242ac1c0002row10_col0\" class=\"data row10 col0\" >-1</td>\n",
              "                        <td id=\"T_34ede88a_f79e_11eb_8d96_0242ac1c0002row10_col1\" class=\"data row10 col1\" >-1</td>\n",
              "                        <td id=\"T_34ede88a_f79e_11eb_8d96_0242ac1c0002row10_col2\" class=\"data row10 col2\" >-1</td>\n",
              "                        <td id=\"T_34ede88a_f79e_11eb_8d96_0242ac1c0002row10_col3\" class=\"data row10 col3\" >-1</td>\n",
              "                        <td id=\"T_34ede88a_f79e_11eb_8d96_0242ac1c0002row10_col4\" class=\"data row10 col4\" >-1</td>\n",
              "                        <td id=\"T_34ede88a_f79e_11eb_8d96_0242ac1c0002row10_col5\" class=\"data row10 col5\" >-1</td>\n",
              "                        <td id=\"T_34ede88a_f79e_11eb_8d96_0242ac1c0002row10_col6\" class=\"data row10 col6\" >-1</td>\n",
              "                        <td id=\"T_34ede88a_f79e_11eb_8d96_0242ac1c0002row10_col7\" class=\"data row10 col7\" >-1</td>\n",
              "                        <td id=\"T_34ede88a_f79e_11eb_8d96_0242ac1c0002row10_col8\" class=\"data row10 col8\" >-1</td>\n",
              "                        <td id=\"T_34ede88a_f79e_11eb_8d96_0242ac1c0002row10_col9\" class=\"data row10 col9\" >-1</td>\n",
              "                        <td id=\"T_34ede88a_f79e_11eb_8d96_0242ac1c0002row10_col10\" class=\"data row10 col10\" >-1</td>\n",
              "                        <td id=\"T_34ede88a_f79e_11eb_8d96_0242ac1c0002row10_col11\" class=\"data row10 col11\" >-1</td>\n",
              "                        <td id=\"T_34ede88a_f79e_11eb_8d96_0242ac1c0002row10_col12\" class=\"data row10 col12\" >-1</td>\n",
              "                        <td id=\"T_34ede88a_f79e_11eb_8d96_0242ac1c0002row10_col13\" class=\"data row10 col13\" >-1</td>\n",
              "                        <td id=\"T_34ede88a_f79e_11eb_8d96_0242ac1c0002row10_col14\" class=\"data row10 col14\" >100</td>\n",
              "                        <td id=\"T_34ede88a_f79e_11eb_8d96_0242ac1c0002row10_col15\" class=\"data row10 col15\" >-1</td>\n",
              "                        <td id=\"T_34ede88a_f79e_11eb_8d96_0242ac1c0002row10_col16\" class=\"data row10 col16\" >-1</td>\n",
              "                        <td id=\"T_34ede88a_f79e_11eb_8d96_0242ac1c0002row10_col17\" class=\"data row10 col17\" >-1</td>\n",
              "                        <td id=\"T_34ede88a_f79e_11eb_8d96_0242ac1c0002row10_col18\" class=\"data row10 col18\" >-1</td>\n",
              "                        <td id=\"T_34ede88a_f79e_11eb_8d96_0242ac1c0002row10_col19\" class=\"data row10 col19\" >-1</td>\n",
              "                        <td id=\"T_34ede88a_f79e_11eb_8d96_0242ac1c0002row10_col20\" class=\"data row10 col20\" >-1</td>\n",
              "                        <td id=\"T_34ede88a_f79e_11eb_8d96_0242ac1c0002row10_col21\" class=\"data row10 col21\" >-1</td>\n",
              "                        <td id=\"T_34ede88a_f79e_11eb_8d96_0242ac1c0002row10_col22\" class=\"data row10 col22\" >-1</td>\n",
              "                        <td id=\"T_34ede88a_f79e_11eb_8d96_0242ac1c0002row10_col23\" class=\"data row10 col23\" >-1</td>\n",
              "                        <td id=\"T_34ede88a_f79e_11eb_8d96_0242ac1c0002row10_col24\" class=\"data row10 col24\" >-1</td>\n",
              "            </tr>\n",
              "            <tr>\n",
              "                        <th id=\"T_34ede88a_f79e_11eb_8d96_0242ac1c0002level0_row11\" class=\"row_heading level0 row11\" >10 AM</th>\n",
              "                        <td id=\"T_34ede88a_f79e_11eb_8d96_0242ac1c0002row11_col0\" class=\"data row11 col0\" >100</td>\n",
              "                        <td id=\"T_34ede88a_f79e_11eb_8d96_0242ac1c0002row11_col1\" class=\"data row11 col1\" >-1</td>\n",
              "                        <td id=\"T_34ede88a_f79e_11eb_8d96_0242ac1c0002row11_col2\" class=\"data row11 col2\" >-1</td>\n",
              "                        <td id=\"T_34ede88a_f79e_11eb_8d96_0242ac1c0002row11_col3\" class=\"data row11 col3\" >75</td>\n",
              "                        <td id=\"T_34ede88a_f79e_11eb_8d96_0242ac1c0002row11_col4\" class=\"data row11 col4\" >100</td>\n",
              "                        <td id=\"T_34ede88a_f79e_11eb_8d96_0242ac1c0002row11_col5\" class=\"data row11 col5\" >-1</td>\n",
              "                        <td id=\"T_34ede88a_f79e_11eb_8d96_0242ac1c0002row11_col6\" class=\"data row11 col6\" >100</td>\n",
              "                        <td id=\"T_34ede88a_f79e_11eb_8d96_0242ac1c0002row11_col7\" class=\"data row11 col7\" >0</td>\n",
              "                        <td id=\"T_34ede88a_f79e_11eb_8d96_0242ac1c0002row11_col8\" class=\"data row11 col8\" >-1</td>\n",
              "                        <td id=\"T_34ede88a_f79e_11eb_8d96_0242ac1c0002row11_col9\" class=\"data row11 col9\" >20</td>\n",
              "                        <td id=\"T_34ede88a_f79e_11eb_8d96_0242ac1c0002row11_col10\" class=\"data row11 col10\" >50</td>\n",
              "                        <td id=\"T_34ede88a_f79e_11eb_8d96_0242ac1c0002row11_col11\" class=\"data row11 col11\" >100</td>\n",
              "                        <td id=\"T_34ede88a_f79e_11eb_8d96_0242ac1c0002row11_col12\" class=\"data row11 col12\" >100</td>\n",
              "                        <td id=\"T_34ede88a_f79e_11eb_8d96_0242ac1c0002row11_col13\" class=\"data row11 col13\" >-1</td>\n",
              "                        <td id=\"T_34ede88a_f79e_11eb_8d96_0242ac1c0002row11_col14\" class=\"data row11 col14\" >56</td>\n",
              "                        <td id=\"T_34ede88a_f79e_11eb_8d96_0242ac1c0002row11_col15\" class=\"data row11 col15\" >-1</td>\n",
              "                        <td id=\"T_34ede88a_f79e_11eb_8d96_0242ac1c0002row11_col16\" class=\"data row11 col16\" >-1</td>\n",
              "                        <td id=\"T_34ede88a_f79e_11eb_8d96_0242ac1c0002row11_col17\" class=\"data row11 col17\" >100</td>\n",
              "                        <td id=\"T_34ede88a_f79e_11eb_8d96_0242ac1c0002row11_col18\" class=\"data row11 col18\" >-1</td>\n",
              "                        <td id=\"T_34ede88a_f79e_11eb_8d96_0242ac1c0002row11_col19\" class=\"data row11 col19\" >0</td>\n",
              "                        <td id=\"T_34ede88a_f79e_11eb_8d96_0242ac1c0002row11_col20\" class=\"data row11 col20\" >-1</td>\n",
              "                        <td id=\"T_34ede88a_f79e_11eb_8d96_0242ac1c0002row11_col21\" class=\"data row11 col21\" >-1</td>\n",
              "                        <td id=\"T_34ede88a_f79e_11eb_8d96_0242ac1c0002row11_col22\" class=\"data row11 col22\" >-1</td>\n",
              "                        <td id=\"T_34ede88a_f79e_11eb_8d96_0242ac1c0002row11_col23\" class=\"data row11 col23\" >-1</td>\n",
              "                        <td id=\"T_34ede88a_f79e_11eb_8d96_0242ac1c0002row11_col24\" class=\"data row11 col24\" >-1</td>\n",
              "            </tr>\n",
              "            <tr>\n",
              "                        <th id=\"T_34ede88a_f79e_11eb_8d96_0242ac1c0002level0_row12\" class=\"row_heading level0 row12\" >11 AM</th>\n",
              "                        <td id=\"T_34ede88a_f79e_11eb_8d96_0242ac1c0002row12_col0\" class=\"data row12 col0\" >100</td>\n",
              "                        <td id=\"T_34ede88a_f79e_11eb_8d96_0242ac1c0002row12_col1\" class=\"data row12 col1\" >100</td>\n",
              "                        <td id=\"T_34ede88a_f79e_11eb_8d96_0242ac1c0002row12_col2\" class=\"data row12 col2\" >100</td>\n",
              "                        <td id=\"T_34ede88a_f79e_11eb_8d96_0242ac1c0002row12_col3\" class=\"data row12 col3\" >0</td>\n",
              "                        <td id=\"T_34ede88a_f79e_11eb_8d96_0242ac1c0002row12_col4\" class=\"data row12 col4\" >100</td>\n",
              "                        <td id=\"T_34ede88a_f79e_11eb_8d96_0242ac1c0002row12_col5\" class=\"data row12 col5\" >-1</td>\n",
              "                        <td id=\"T_34ede88a_f79e_11eb_8d96_0242ac1c0002row12_col6\" class=\"data row12 col6\" >100</td>\n",
              "                        <td id=\"T_34ede88a_f79e_11eb_8d96_0242ac1c0002row12_col7\" class=\"data row12 col7\" >50</td>\n",
              "                        <td id=\"T_34ede88a_f79e_11eb_8d96_0242ac1c0002row12_col8\" class=\"data row12 col8\" >100</td>\n",
              "                        <td id=\"T_34ede88a_f79e_11eb_8d96_0242ac1c0002row12_col9\" class=\"data row12 col9\" >100</td>\n",
              "                        <td id=\"T_34ede88a_f79e_11eb_8d96_0242ac1c0002row12_col10\" class=\"data row12 col10\" >100</td>\n",
              "                        <td id=\"T_34ede88a_f79e_11eb_8d96_0242ac1c0002row12_col11\" class=\"data row12 col11\" >100</td>\n",
              "                        <td id=\"T_34ede88a_f79e_11eb_8d96_0242ac1c0002row12_col12\" class=\"data row12 col12\" >100</td>\n",
              "                        <td id=\"T_34ede88a_f79e_11eb_8d96_0242ac1c0002row12_col13\" class=\"data row12 col13\" >100</td>\n",
              "                        <td id=\"T_34ede88a_f79e_11eb_8d96_0242ac1c0002row12_col14\" class=\"data row12 col14\" >33</td>\n",
              "                        <td id=\"T_34ede88a_f79e_11eb_8d96_0242ac1c0002row12_col15\" class=\"data row12 col15\" >-1</td>\n",
              "                        <td id=\"T_34ede88a_f79e_11eb_8d96_0242ac1c0002row12_col16\" class=\"data row12 col16\" >0</td>\n",
              "                        <td id=\"T_34ede88a_f79e_11eb_8d96_0242ac1c0002row12_col17\" class=\"data row12 col17\" >100</td>\n",
              "                        <td id=\"T_34ede88a_f79e_11eb_8d96_0242ac1c0002row12_col18\" class=\"data row12 col18\" >-1</td>\n",
              "                        <td id=\"T_34ede88a_f79e_11eb_8d96_0242ac1c0002row12_col19\" class=\"data row12 col19\" >-1</td>\n",
              "                        <td id=\"T_34ede88a_f79e_11eb_8d96_0242ac1c0002row12_col20\" class=\"data row12 col20\" >-1</td>\n",
              "                        <td id=\"T_34ede88a_f79e_11eb_8d96_0242ac1c0002row12_col21\" class=\"data row12 col21\" >-1</td>\n",
              "                        <td id=\"T_34ede88a_f79e_11eb_8d96_0242ac1c0002row12_col22\" class=\"data row12 col22\" >-1</td>\n",
              "                        <td id=\"T_34ede88a_f79e_11eb_8d96_0242ac1c0002row12_col23\" class=\"data row12 col23\" >-1</td>\n",
              "                        <td id=\"T_34ede88a_f79e_11eb_8d96_0242ac1c0002row12_col24\" class=\"data row12 col24\" >-1</td>\n",
              "            </tr>\n",
              "            <tr>\n",
              "                        <th id=\"T_34ede88a_f79e_11eb_8d96_0242ac1c0002level0_row13\" class=\"row_heading level0 row13\" >12 PM</th>\n",
              "                        <td id=\"T_34ede88a_f79e_11eb_8d96_0242ac1c0002row13_col0\" class=\"data row13 col0\" >-1</td>\n",
              "                        <td id=\"T_34ede88a_f79e_11eb_8d96_0242ac1c0002row13_col1\" class=\"data row13 col1\" >100</td>\n",
              "                        <td id=\"T_34ede88a_f79e_11eb_8d96_0242ac1c0002row13_col2\" class=\"data row13 col2\" >40</td>\n",
              "                        <td id=\"T_34ede88a_f79e_11eb_8d96_0242ac1c0002row13_col3\" class=\"data row13 col3\" >100</td>\n",
              "                        <td id=\"T_34ede88a_f79e_11eb_8d96_0242ac1c0002row13_col4\" class=\"data row13 col4\" >71</td>\n",
              "                        <td id=\"T_34ede88a_f79e_11eb_8d96_0242ac1c0002row13_col5\" class=\"data row13 col5\" >50</td>\n",
              "                        <td id=\"T_34ede88a_f79e_11eb_8d96_0242ac1c0002row13_col6\" class=\"data row13 col6\" >67</td>\n",
              "                        <td id=\"T_34ede88a_f79e_11eb_8d96_0242ac1c0002row13_col7\" class=\"data row13 col7\" >-1</td>\n",
              "                        <td id=\"T_34ede88a_f79e_11eb_8d96_0242ac1c0002row13_col8\" class=\"data row13 col8\" >50</td>\n",
              "                        <td id=\"T_34ede88a_f79e_11eb_8d96_0242ac1c0002row13_col9\" class=\"data row13 col9\" >60</td>\n",
              "                        <td id=\"T_34ede88a_f79e_11eb_8d96_0242ac1c0002row13_col10\" class=\"data row13 col10\" >-1</td>\n",
              "                        <td id=\"T_34ede88a_f79e_11eb_8d96_0242ac1c0002row13_col11\" class=\"data row13 col11\" >-1</td>\n",
              "                        <td id=\"T_34ede88a_f79e_11eb_8d96_0242ac1c0002row13_col12\" class=\"data row13 col12\" >50</td>\n",
              "                        <td id=\"T_34ede88a_f79e_11eb_8d96_0242ac1c0002row13_col13\" class=\"data row13 col13\" >100</td>\n",
              "                        <td id=\"T_34ede88a_f79e_11eb_8d96_0242ac1c0002row13_col14\" class=\"data row13 col14\" >46</td>\n",
              "                        <td id=\"T_34ede88a_f79e_11eb_8d96_0242ac1c0002row13_col15\" class=\"data row13 col15\" >-1</td>\n",
              "                        <td id=\"T_34ede88a_f79e_11eb_8d96_0242ac1c0002row13_col16\" class=\"data row13 col16\" >-1</td>\n",
              "                        <td id=\"T_34ede88a_f79e_11eb_8d96_0242ac1c0002row13_col17\" class=\"data row13 col17\" >83</td>\n",
              "                        <td id=\"T_34ede88a_f79e_11eb_8d96_0242ac1c0002row13_col18\" class=\"data row13 col18\" >-1</td>\n",
              "                        <td id=\"T_34ede88a_f79e_11eb_8d96_0242ac1c0002row13_col19\" class=\"data row13 col19\" >0</td>\n",
              "                        <td id=\"T_34ede88a_f79e_11eb_8d96_0242ac1c0002row13_col20\" class=\"data row13 col20\" >100</td>\n",
              "                        <td id=\"T_34ede88a_f79e_11eb_8d96_0242ac1c0002row13_col21\" class=\"data row13 col21\" >-1</td>\n",
              "                        <td id=\"T_34ede88a_f79e_11eb_8d96_0242ac1c0002row13_col22\" class=\"data row13 col22\" >-1</td>\n",
              "                        <td id=\"T_34ede88a_f79e_11eb_8d96_0242ac1c0002row13_col23\" class=\"data row13 col23\" >-1</td>\n",
              "                        <td id=\"T_34ede88a_f79e_11eb_8d96_0242ac1c0002row13_col24\" class=\"data row13 col24\" >-1</td>\n",
              "            </tr>\n",
              "            <tr>\n",
              "                        <th id=\"T_34ede88a_f79e_11eb_8d96_0242ac1c0002level0_row14\" class=\"row_heading level0 row14\" >01 PM</th>\n",
              "                        <td id=\"T_34ede88a_f79e_11eb_8d96_0242ac1c0002row14_col0\" class=\"data row14 col0\" >14</td>\n",
              "                        <td id=\"T_34ede88a_f79e_11eb_8d96_0242ac1c0002row14_col1\" class=\"data row14 col1\" >100</td>\n",
              "                        <td id=\"T_34ede88a_f79e_11eb_8d96_0242ac1c0002row14_col2\" class=\"data row14 col2\" >50</td>\n",
              "                        <td id=\"T_34ede88a_f79e_11eb_8d96_0242ac1c0002row14_col3\" class=\"data row14 col3\" >88</td>\n",
              "                        <td id=\"T_34ede88a_f79e_11eb_8d96_0242ac1c0002row14_col4\" class=\"data row14 col4\" >62</td>\n",
              "                        <td id=\"T_34ede88a_f79e_11eb_8d96_0242ac1c0002row14_col5\" class=\"data row14 col5\" >33</td>\n",
              "                        <td id=\"T_34ede88a_f79e_11eb_8d96_0242ac1c0002row14_col6\" class=\"data row14 col6\" >33</td>\n",
              "                        <td id=\"T_34ede88a_f79e_11eb_8d96_0242ac1c0002row14_col7\" class=\"data row14 col7\" >71</td>\n",
              "                        <td id=\"T_34ede88a_f79e_11eb_8d96_0242ac1c0002row14_col8\" class=\"data row14 col8\" >82</td>\n",
              "                        <td id=\"T_34ede88a_f79e_11eb_8d96_0242ac1c0002row14_col9\" class=\"data row14 col9\" >62</td>\n",
              "                        <td id=\"T_34ede88a_f79e_11eb_8d96_0242ac1c0002row14_col10\" class=\"data row14 col10\" >33</td>\n",
              "                        <td id=\"T_34ede88a_f79e_11eb_8d96_0242ac1c0002row14_col11\" class=\"data row14 col11\" >67</td>\n",
              "                        <td id=\"T_34ede88a_f79e_11eb_8d96_0242ac1c0002row14_col12\" class=\"data row14 col12\" >71</td>\n",
              "                        <td id=\"T_34ede88a_f79e_11eb_8d96_0242ac1c0002row14_col13\" class=\"data row14 col13\" >100</td>\n",
              "                        <td id=\"T_34ede88a_f79e_11eb_8d96_0242ac1c0002row14_col14\" class=\"data row14 col14\" >100</td>\n",
              "                        <td id=\"T_34ede88a_f79e_11eb_8d96_0242ac1c0002row14_col15\" class=\"data row14 col15\" >100</td>\n",
              "                        <td id=\"T_34ede88a_f79e_11eb_8d96_0242ac1c0002row14_col16\" class=\"data row14 col16\" >0</td>\n",
              "                        <td id=\"T_34ede88a_f79e_11eb_8d96_0242ac1c0002row14_col17\" class=\"data row14 col17\" >60</td>\n",
              "                        <td id=\"T_34ede88a_f79e_11eb_8d96_0242ac1c0002row14_col18\" class=\"data row14 col18\" >-1</td>\n",
              "                        <td id=\"T_34ede88a_f79e_11eb_8d96_0242ac1c0002row14_col19\" class=\"data row14 col19\" >50</td>\n",
              "                        <td id=\"T_34ede88a_f79e_11eb_8d96_0242ac1c0002row14_col20\" class=\"data row14 col20\" >40</td>\n",
              "                        <td id=\"T_34ede88a_f79e_11eb_8d96_0242ac1c0002row14_col21\" class=\"data row14 col21\" >-1</td>\n",
              "                        <td id=\"T_34ede88a_f79e_11eb_8d96_0242ac1c0002row14_col22\" class=\"data row14 col22\" >100</td>\n",
              "                        <td id=\"T_34ede88a_f79e_11eb_8d96_0242ac1c0002row14_col23\" class=\"data row14 col23\" >-1</td>\n",
              "                        <td id=\"T_34ede88a_f79e_11eb_8d96_0242ac1c0002row14_col24\" class=\"data row14 col24\" >-1</td>\n",
              "            </tr>\n",
              "            <tr>\n",
              "                        <th id=\"T_34ede88a_f79e_11eb_8d96_0242ac1c0002level0_row15\" class=\"row_heading level0 row15\" >02 PM</th>\n",
              "                        <td id=\"T_34ede88a_f79e_11eb_8d96_0242ac1c0002row15_col0\" class=\"data row15 col0\" >33</td>\n",
              "                        <td id=\"T_34ede88a_f79e_11eb_8d96_0242ac1c0002row15_col1\" class=\"data row15 col1\" >100</td>\n",
              "                        <td id=\"T_34ede88a_f79e_11eb_8d96_0242ac1c0002row15_col2\" class=\"data row15 col2\" >60</td>\n",
              "                        <td id=\"T_34ede88a_f79e_11eb_8d96_0242ac1c0002row15_col3\" class=\"data row15 col3\" >86</td>\n",
              "                        <td id=\"T_34ede88a_f79e_11eb_8d96_0242ac1c0002row15_col4\" class=\"data row15 col4\" >94</td>\n",
              "                        <td id=\"T_34ede88a_f79e_11eb_8d96_0242ac1c0002row15_col5\" class=\"data row15 col5\" >83</td>\n",
              "                        <td id=\"T_34ede88a_f79e_11eb_8d96_0242ac1c0002row15_col6\" class=\"data row15 col6\" >60</td>\n",
              "                        <td id=\"T_34ede88a_f79e_11eb_8d96_0242ac1c0002row15_col7\" class=\"data row15 col7\" >67</td>\n",
              "                        <td id=\"T_34ede88a_f79e_11eb_8d96_0242ac1c0002row15_col8\" class=\"data row15 col8\" >86</td>\n",
              "                        <td id=\"T_34ede88a_f79e_11eb_8d96_0242ac1c0002row15_col9\" class=\"data row15 col9\" >50</td>\n",
              "                        <td id=\"T_34ede88a_f79e_11eb_8d96_0242ac1c0002row15_col10\" class=\"data row15 col10\" >-1</td>\n",
              "                        <td id=\"T_34ede88a_f79e_11eb_8d96_0242ac1c0002row15_col11\" class=\"data row15 col11\" >0</td>\n",
              "                        <td id=\"T_34ede88a_f79e_11eb_8d96_0242ac1c0002row15_col12\" class=\"data row15 col12\" >18</td>\n",
              "                        <td id=\"T_34ede88a_f79e_11eb_8d96_0242ac1c0002row15_col13\" class=\"data row15 col13\" >100</td>\n",
              "                        <td id=\"T_34ede88a_f79e_11eb_8d96_0242ac1c0002row15_col14\" class=\"data row15 col14\" >100</td>\n",
              "                        <td id=\"T_34ede88a_f79e_11eb_8d96_0242ac1c0002row15_col15\" class=\"data row15 col15\" >50</td>\n",
              "                        <td id=\"T_34ede88a_f79e_11eb_8d96_0242ac1c0002row15_col16\" class=\"data row15 col16\" >50</td>\n",
              "                        <td id=\"T_34ede88a_f79e_11eb_8d96_0242ac1c0002row15_col17\" class=\"data row15 col17\" >33</td>\n",
              "                        <td id=\"T_34ede88a_f79e_11eb_8d96_0242ac1c0002row15_col18\" class=\"data row15 col18\" >-1</td>\n",
              "                        <td id=\"T_34ede88a_f79e_11eb_8d96_0242ac1c0002row15_col19\" class=\"data row15 col19\" >22</td>\n",
              "                        <td id=\"T_34ede88a_f79e_11eb_8d96_0242ac1c0002row15_col20\" class=\"data row15 col20\" >100</td>\n",
              "                        <td id=\"T_34ede88a_f79e_11eb_8d96_0242ac1c0002row15_col21\" class=\"data row15 col21\" >-1</td>\n",
              "                        <td id=\"T_34ede88a_f79e_11eb_8d96_0242ac1c0002row15_col22\" class=\"data row15 col22\" >100</td>\n",
              "                        <td id=\"T_34ede88a_f79e_11eb_8d96_0242ac1c0002row15_col23\" class=\"data row15 col23\" >100</td>\n",
              "                        <td id=\"T_34ede88a_f79e_11eb_8d96_0242ac1c0002row15_col24\" class=\"data row15 col24\" >0</td>\n",
              "            </tr>\n",
              "            <tr>\n",
              "                        <th id=\"T_34ede88a_f79e_11eb_8d96_0242ac1c0002level0_row16\" class=\"row_heading level0 row16\" >03 PM</th>\n",
              "                        <td id=\"T_34ede88a_f79e_11eb_8d96_0242ac1c0002row16_col0\" class=\"data row16 col0\" >44</td>\n",
              "                        <td id=\"T_34ede88a_f79e_11eb_8d96_0242ac1c0002row16_col1\" class=\"data row16 col1\" >100</td>\n",
              "                        <td id=\"T_34ede88a_f79e_11eb_8d96_0242ac1c0002row16_col2\" class=\"data row16 col2\" >86</td>\n",
              "                        <td id=\"T_34ede88a_f79e_11eb_8d96_0242ac1c0002row16_col3\" class=\"data row16 col3\" >67</td>\n",
              "                        <td id=\"T_34ede88a_f79e_11eb_8d96_0242ac1c0002row16_col4\" class=\"data row16 col4\" >58</td>\n",
              "                        <td id=\"T_34ede88a_f79e_11eb_8d96_0242ac1c0002row16_col5\" class=\"data row16 col5\" >0</td>\n",
              "                        <td id=\"T_34ede88a_f79e_11eb_8d96_0242ac1c0002row16_col6\" class=\"data row16 col6\" >55</td>\n",
              "                        <td id=\"T_34ede88a_f79e_11eb_8d96_0242ac1c0002row16_col7\" class=\"data row16 col7\" >75</td>\n",
              "                        <td id=\"T_34ede88a_f79e_11eb_8d96_0242ac1c0002row16_col8\" class=\"data row16 col8\" >75</td>\n",
              "                        <td id=\"T_34ede88a_f79e_11eb_8d96_0242ac1c0002row16_col9\" class=\"data row16 col9\" >56</td>\n",
              "                        <td id=\"T_34ede88a_f79e_11eb_8d96_0242ac1c0002row16_col10\" class=\"data row16 col10\" >50</td>\n",
              "                        <td id=\"T_34ede88a_f79e_11eb_8d96_0242ac1c0002row16_col11\" class=\"data row16 col11\" >100</td>\n",
              "                        <td id=\"T_34ede88a_f79e_11eb_8d96_0242ac1c0002row16_col12\" class=\"data row16 col12\" >100</td>\n",
              "                        <td id=\"T_34ede88a_f79e_11eb_8d96_0242ac1c0002row16_col13\" class=\"data row16 col13\" >75</td>\n",
              "                        <td id=\"T_34ede88a_f79e_11eb_8d96_0242ac1c0002row16_col14\" class=\"data row16 col14\" >100</td>\n",
              "                        <td id=\"T_34ede88a_f79e_11eb_8d96_0242ac1c0002row16_col15\" class=\"data row16 col15\" >75</td>\n",
              "                        <td id=\"T_34ede88a_f79e_11eb_8d96_0242ac1c0002row16_col16\" class=\"data row16 col16\" >83</td>\n",
              "                        <td id=\"T_34ede88a_f79e_11eb_8d96_0242ac1c0002row16_col17\" class=\"data row16 col17\" >100</td>\n",
              "                        <td id=\"T_34ede88a_f79e_11eb_8d96_0242ac1c0002row16_col18\" class=\"data row16 col18\" >-1</td>\n",
              "                        <td id=\"T_34ede88a_f79e_11eb_8d96_0242ac1c0002row16_col19\" class=\"data row16 col19\" >40</td>\n",
              "                        <td id=\"T_34ede88a_f79e_11eb_8d96_0242ac1c0002row16_col20\" class=\"data row16 col20\" >67</td>\n",
              "                        <td id=\"T_34ede88a_f79e_11eb_8d96_0242ac1c0002row16_col21\" class=\"data row16 col21\" >-1</td>\n",
              "                        <td id=\"T_34ede88a_f79e_11eb_8d96_0242ac1c0002row16_col22\" class=\"data row16 col22\" >-1</td>\n",
              "                        <td id=\"T_34ede88a_f79e_11eb_8d96_0242ac1c0002row16_col23\" class=\"data row16 col23\" >-1</td>\n",
              "                        <td id=\"T_34ede88a_f79e_11eb_8d96_0242ac1c0002row16_col24\" class=\"data row16 col24\" >100</td>\n",
              "            </tr>\n",
              "    </tbody></table>"
            ],
            "text/plain": [
              "<pandas.io.formats.style.Styler at 0x7efe9a197b50>"
            ]
          },
          "metadata": {
            "tags": []
          },
          "execution_count": 181
        }
      ]
    },
    {
      "cell_type": "code",
      "metadata": {
        "id": "TdV0cFi5JOrt",
        "colab": {
          "base_uri": "https://localhost:8080/"
        },
        "outputId": "0108fde9-1974-4403-fbdf-0d6bc353fc00"
      },
      "source": [
        "%%time\n",
        "cursors2=connection.cursor()\n",
        "cursors2.execute(\"\"\"\n",
        "select *,CONVERT_TZ(orders.accepted_at, '+00:00', '+5:00') As accepted_at_P from orders\n",
        "inner join address\n",
        "on orders.address_id=address.id\n",
        "inner join service_area\n",
        "on address.service_area_id=service_area.id\n",
        "where is_order_fake=0 and orders.status=9;\n",
        "\"\"\")\n",
        "rows2=cursors2.fetchall()\n",
        "data2=pd.DataFrame(rows2)\n",
        "arra=[]\n",
        "for col in range(0,len(data2.columns)):\n",
        "  arra.append(cursors2.description[col][0])\n",
        "arra[5]='order_status'\n",
        "data2.columns=arra"
      ],
      "execution_count": null,
      "outputs": [
        {
          "output_type": "stream",
          "text": [
            "CPU times: user 57.9 s, sys: 3.82 s, total: 1min 1s\n",
            "Wall time: 1min 8s\n"
          ],
          "name": "stdout"
        }
      ]
    },
    {
      "cell_type": "code",
      "metadata": {
        "id": "-Poxhkp-JWXT"
      },
      "source": [
        "#recency of all user\n",
        "complete=data2[data2['order_status']==9]\n",
        "complete.dropna(axis=0,subset=['accepted_at'],inplace=True)\n",
        "max_date = max(complete['accepted_at_P'])\n",
        "max_date\n",
        "complete['Time']=max_date-complete['accepted_at_P']\n",
        "User_recency=complete.loc[complete.groupby(\"customer_id\")[\"Time\"].idxmin()]"
      ],
      "execution_count": null,
      "outputs": []
    },
    {
      "cell_type": "code",
      "metadata": {
        "colab": {
          "base_uri": "https://localhost:8080/"
        },
        "id": "8LzvTWG9d9Yj",
        "outputId": "3e9767df-1acc-4e74-9949-0ccf37171920"
      },
      "source": [
        "User_recency.shape"
      ],
      "execution_count": null,
      "outputs": [
        {
          "output_type": "execute_result",
          "data": {
            "text/plain": [
              "(51171, 87)"
            ]
          },
          "metadata": {
            "tags": []
          },
          "execution_count": 184
        }
      ]
    },
    {
      "cell_type": "code",
      "metadata": {
        "colab": {
          "base_uri": "https://localhost:8080/"
        },
        "id": "u5aWiME1cmY4",
        "outputId": "a09ae711-fdba-4684-ec08-92fc5d431937"
      },
      "source": [
        "fisrt_thirty_data=User_recency[User_recency['Time']<='30 days']\n",
        "above_thirty=User_recency[User_recency['Time']>'30 days']\n",
        "fisrt_thirty_data['Percential']=fisrt_thirty_data['Time'].rank(pct=True)\n",
        "above_thirty['Percential']=above_thirty['Time'].rank(pct=True,ascending=False)\n",
        "frames = [fisrt_thirty_data, above_thirty]\n",
        "User_recency = pd.concat(frames)"
      ],
      "execution_count": null,
      "outputs": [
        {
          "output_type": "stream",
          "text": [
            "/usr/local/lib/python3.7/dist-packages/ipykernel_launcher.py:3: SettingWithCopyWarning: \n",
            "A value is trying to be set on a copy of a slice from a DataFrame.\n",
            "Try using .loc[row_indexer,col_indexer] = value instead\n",
            "\n",
            "See the caveats in the documentation: https://pandas.pydata.org/pandas-docs/stable/user_guide/indexing.html#returning-a-view-versus-a-copy\n",
            "  This is separate from the ipykernel package so we can avoid doing imports until\n",
            "/usr/local/lib/python3.7/dist-packages/ipykernel_launcher.py:4: SettingWithCopyWarning: \n",
            "A value is trying to be set on a copy of a slice from a DataFrame.\n",
            "Try using .loc[row_indexer,col_indexer] = value instead\n",
            "\n",
            "See the caveats in the documentation: https://pandas.pydata.org/pandas-docs/stable/user_guide/indexing.html#returning-a-view-versus-a-copy\n",
            "  after removing the cwd from sys.path.\n"
          ],
          "name": "stderr"
        }
      ]
    },
    {
      "cell_type": "code",
      "metadata": {
        "colab": {
          "base_uri": "https://localhost:8080/"
        },
        "id": "TJ5ov4cYeBYi",
        "outputId": "994f7fe8-4c79-4743-825d-75f8fe341c2e"
      },
      "source": [
        "User_recency.shape"
      ],
      "execution_count": null,
      "outputs": [
        {
          "output_type": "execute_result",
          "data": {
            "text/plain": [
              "(51171, 88)"
            ]
          },
          "metadata": {
            "tags": []
          },
          "execution_count": 186
        }
      ]
    },
    {
      "cell_type": "code",
      "metadata": {
        "id": "70ssUZ1FJwVn"
      },
      "source": [],
      "execution_count": null,
      "outputs": []
    },
    {
      "cell_type": "code",
      "metadata": {
        "id": "Knmhr2bDd4Wh"
      },
      "source": [
        "User_recency.sort_values('Percential',ascending=False,inplace=True)"
      ],
      "execution_count": null,
      "outputs": []
    },
    {
      "cell_type": "code",
      "metadata": {
        "id": "gjSt7WQoKFqd",
        "colab": {
          "base_uri": "https://localhost:8080/",
          "height": 626
        },
        "outputId": "fe5aa00b-b9ec-4c4a-d88d-5273a1ba1cb1"
      },
      "source": [
        "User_recency.head()"
      ],
      "execution_count": null,
      "outputs": [
        {
          "output_type": "execute_result",
          "data": {
            "text/html": [
              "<div>\n",
              "<style scoped>\n",
              "    .dataframe tbody tr th:only-of-type {\n",
              "        vertical-align: middle;\n",
              "    }\n",
              "\n",
              "    .dataframe tbody tr th {\n",
              "        vertical-align: top;\n",
              "    }\n",
              "\n",
              "    .dataframe thead th {\n",
              "        text-align: right;\n",
              "    }\n",
              "</style>\n",
              "<table border=\"1\" class=\"dataframe\">\n",
              "  <thead>\n",
              "    <tr style=\"text-align: right;\">\n",
              "      <th></th>\n",
              "      <th>id</th>\n",
              "      <th>is_order_fake</th>\n",
              "      <th>created_at</th>\n",
              "      <th>updated_at</th>\n",
              "      <th>reference_id</th>\n",
              "      <th>order_status</th>\n",
              "      <th>order_type</th>\n",
              "      <th>delivery_type</th>\n",
              "      <th>delivery_time</th>\n",
              "      <th>is_swappable</th>\n",
              "      <th>partial_order_acceptable</th>\n",
              "      <th>payment_type</th>\n",
              "      <th>customer_id</th>\n",
              "      <th>hub_id</th>\n",
              "      <th>buddy_id</th>\n",
              "      <th>address_id</th>\n",
              "      <th>cancellation_id</th>\n",
              "      <th>dispatched_at</th>\n",
              "      <th>delivered_at</th>\n",
              "      <th>rating</th>\n",
              "      <th>delivery_instruction</th>\n",
              "      <th>promo_code_id</th>\n",
              "      <th>sub_total</th>\n",
              "      <th>total</th>\n",
              "      <th>delivery</th>\n",
              "      <th>convenience</th>\n",
              "      <th>discount</th>\n",
              "      <th>discount_type</th>\n",
              "      <th>remarks</th>\n",
              "      <th>contact_person_name</th>\n",
              "      <th>contact_person_phone</th>\n",
              "      <th>amount_received</th>\n",
              "      <th>near_by_hub_id</th>\n",
              "      <th>accepted_at</th>\n",
              "      <th>is_delivery_charges_waived_off</th>\n",
              "      <th>waived_off_charges</th>\n",
              "      <th>distance_in_meters</th>\n",
              "      <th>time_in_seconds</th>\n",
              "      <th>reached_hub_at</th>\n",
              "      <th>reached_customer_at</th>\n",
              "      <th>order_collected_at</th>\n",
              "      <th>free_delivery_promo_code_id</th>\n",
              "      <th>receipt_image_url</th>\n",
              "      <th>customer_feedback</th>\n",
              "      <th>buddy_feedback</th>\n",
              "      <th>skip_rating_count</th>\n",
              "      <th>online_payment_id</th>\n",
              "      <th>initial_eta_in_minutes</th>\n",
              "      <th>distance_in_km</th>\n",
              "      <th>online_payment_amount</th>\n",
              "      <th>app_agent</th>\n",
              "      <th>discounted_sub_total</th>\n",
              "      <th>created_by</th>\n",
              "      <th>updated_by</th>\n",
              "      <th>retry_order_count</th>\n",
              "      <th>is_assistance_required</th>\n",
              "      <th>assistance_required_at</th>\n",
              "      <th>id</th>\n",
              "      <th>user_id</th>\n",
              "      <th>location_name</th>\n",
              "      <th>poi</th>\n",
              "      <th>address</th>\n",
              "      <th>city_id</th>\n",
              "      <th>latitude</th>\n",
              "      <th>longitude</th>\n",
              "      <th>status</th>\n",
              "      <th>additional_details</th>\n",
              "      <th>service_area_id</th>\n",
              "      <th>created_at</th>\n",
              "      <th>updated_at</th>\n",
              "      <th>updated_by</th>\n",
              "      <th>created_by</th>\n",
              "      <th>id</th>\n",
              "      <th>name</th>\n",
              "      <th>city_id</th>\n",
              "      <th>geofence</th>\n",
              "      <th>is_active</th>\n",
              "      <th>dispatch_algo_id</th>\n",
              "      <th>dispatch_radius</th>\n",
              "      <th>sort_type</th>\n",
              "      <th>operational_time_msg</th>\n",
              "      <th>created_at</th>\n",
              "      <th>updated_at</th>\n",
              "      <th>created_by</th>\n",
              "      <th>updated_by</th>\n",
              "      <th>accepted_at_P</th>\n",
              "      <th>Time</th>\n",
              "      <th>Percential</th>\n",
              "    </tr>\n",
              "  </thead>\n",
              "  <tbody>\n",
              "    <tr>\n",
              "      <th>225399</th>\n",
              "      <td>694057</td>\n",
              "      <td>0</td>\n",
              "      <td>2021-07-08 16:21:36</td>\n",
              "      <td>2021-07-08 17:09:13</td>\n",
              "      <td>258S09</td>\n",
              "      <td>9</td>\n",
              "      <td>NORMAL</td>\n",
              "      <td>NOW</td>\n",
              "      <td>NaT</td>\n",
              "      <td>1</td>\n",
              "      <td>1</td>\n",
              "      <td>1</td>\n",
              "      <td>119384</td>\n",
              "      <td>5580.0</td>\n",
              "      <td>1530.0</td>\n",
              "      <td>107269</td>\n",
              "      <td>NaN</td>\n",
              "      <td>2021-07-08 16:22:17</td>\n",
              "      <td>2021-07-08 16:53:49</td>\n",
              "      <td>4.0</td>\n",
              "      <td>plot R586 near rehbar park</td>\n",
              "      <td>2.0</td>\n",
              "      <td>170.0</td>\n",
              "      <td>220.0</td>\n",
              "      <td>50.0</td>\n",
              "      <td>0.0</td>\n",
              "      <td>85.0</td>\n",
              "      <td>2.0</td>\n",
              "      <td>None</td>\n",
              "      <td>Muhammad Sohaib</td>\n",
              "      <td>+923413547762</td>\n",
              "      <td>135.0</td>\n",
              "      <td>NaN</td>\n",
              "      <td>2021-07-08 16:22:47</td>\n",
              "      <td>b'\\x00'</td>\n",
              "      <td>0.0</td>\n",
              "      <td>NaN</td>\n",
              "      <td>0.0</td>\n",
              "      <td>2021-07-08 16:31:13</td>\n",
              "      <td>2021-07-08 16:53:12</td>\n",
              "      <td>2021-07-08 16:40:26</td>\n",
              "      <td>NaN</td>\n",
              "      <td>receipt/1625762433804-receipt.jpg</td>\n",
              "      <td>None</td>\n",
              "      <td>None</td>\n",
              "      <td>NaN</td>\n",
              "      <td>NaN</td>\n",
              "      <td>NaN</td>\n",
              "      <td>NaN</td>\n",
              "      <td>NaN</td>\n",
              "      <td>101-10-Customer-4.7.2</td>\n",
              "      <td>170.0</td>\n",
              "      <td>119384.0</td>\n",
              "      <td>119384.0</td>\n",
              "      <td>1.0</td>\n",
              "      <td>0</td>\n",
              "      <td>NaT</td>\n",
              "      <td>107269</td>\n",
              "      <td>119384</td>\n",
              "      <td>Home</td>\n",
              "      <td>Sector 11 C 3 North Karachi Twp</td>\n",
              "      <td>Sector 11 C 3 North Karachi Twp, Karachi, Kara...</td>\n",
              "      <td>NaN</td>\n",
              "      <td>24.968286</td>\n",
              "      <td>67.057629</td>\n",
              "      <td>1</td>\n",
              "      <td>R586</td>\n",
              "      <td>10034</td>\n",
              "      <td>2021-07-08 15:59:47</td>\n",
              "      <td>2021-07-08 15:59:47</td>\n",
              "      <td>119384.0</td>\n",
              "      <td>119384.0</td>\n",
              "      <td>10034</td>\n",
              "      <td>North Karachi &amp; Bufferzone</td>\n",
              "      <td>1</td>\n",
              "      <td>[{\"x\":24.97881636288531,\"y\":67.0538929422144},...</td>\n",
              "      <td>1</td>\n",
              "      <td>None</td>\n",
              "      <td>None</td>\n",
              "      <td>SORT_BY_DISTANCE</td>\n",
              "      <td>Our operational timings are from 10:00am to 12...</td>\n",
              "      <td>2021-01-01 19:36:12</td>\n",
              "      <td>2021-08-04 15:57:33</td>\n",
              "      <td>NaN</td>\n",
              "      <td>24673.0</td>\n",
              "      <td>2021-07-08 21:22:47</td>\n",
              "      <td>29 days 23:59:14</td>\n",
              "      <td>1.000000</td>\n",
              "    </tr>\n",
              "    <tr>\n",
              "      <th>225395</th>\n",
              "      <td>694053</td>\n",
              "      <td>0</td>\n",
              "      <td>2021-07-08 16:21:03</td>\n",
              "      <td>2021-07-10 07:13:33</td>\n",
              "      <td>7M75T5</td>\n",
              "      <td>9</td>\n",
              "      <td>NORMAL</td>\n",
              "      <td>NOW</td>\n",
              "      <td>NaT</td>\n",
              "      <td>1</td>\n",
              "      <td>1</td>\n",
              "      <td>1</td>\n",
              "      <td>75757</td>\n",
              "      <td>5417.0</td>\n",
              "      <td>1536.0</td>\n",
              "      <td>88113</td>\n",
              "      <td>NaN</td>\n",
              "      <td>2021-07-08 16:21:05</td>\n",
              "      <td>2021-07-08 17:36:44</td>\n",
              "      <td>5.0</td>\n",
              "      <td>call me when you reach.</td>\n",
              "      <td>7360.0</td>\n",
              "      <td>310.0</td>\n",
              "      <td>360.0</td>\n",
              "      <td>50.0</td>\n",
              "      <td>0.0</td>\n",
              "      <td>150.0</td>\n",
              "      <td>1.0</td>\n",
              "      <td>None</td>\n",
              "      <td>misses zafar</td>\n",
              "      <td>+923101289141</td>\n",
              "      <td>210.0</td>\n",
              "      <td>NaN</td>\n",
              "      <td>2021-07-08 16:21:25</td>\n",
              "      <td>b'\\x00'</td>\n",
              "      <td>0.0</td>\n",
              "      <td>NaN</td>\n",
              "      <td>0.0</td>\n",
              "      <td>2021-07-08 16:44:35</td>\n",
              "      <td>2021-07-08 17:18:49</td>\n",
              "      <td>2021-07-08 17:03:23</td>\n",
              "      <td>NaN</td>\n",
              "      <td>receipt/1625763816375-receipt.jpg</td>\n",
              "      <td>None</td>\n",
              "      <td>None</td>\n",
              "      <td>NaN</td>\n",
              "      <td>NaN</td>\n",
              "      <td>NaN</td>\n",
              "      <td>NaN</td>\n",
              "      <td>NaN</td>\n",
              "      <td>101-11-Customer-4.7.2</td>\n",
              "      <td>310.0</td>\n",
              "      <td>75757.0</td>\n",
              "      <td>75757.0</td>\n",
              "      <td>1.0</td>\n",
              "      <td>0</td>\n",
              "      <td>NaT</td>\n",
              "      <td>88113</td>\n",
              "      <td>75757</td>\n",
              "      <td>Home</td>\n",
              "      <td>R 911</td>\n",
              "      <td>Sector 15-B Sector 15 B Buffer Zone</td>\n",
              "      <td>NaN</td>\n",
              "      <td>24.960866</td>\n",
              "      <td>67.072955</td>\n",
              "      <td>1</td>\n",
              "      <td>R-700 Ashrafi manzil sector 15 B bufferzone......</td>\n",
              "      <td>10034</td>\n",
              "      <td>2021-05-16 02:18:42</td>\n",
              "      <td>2021-07-25 08:03:04</td>\n",
              "      <td>75757.0</td>\n",
              "      <td>75757.0</td>\n",
              "      <td>10034</td>\n",
              "      <td>North Karachi &amp; Bufferzone</td>\n",
              "      <td>1</td>\n",
              "      <td>[{\"x\":24.97881636288531,\"y\":67.0538929422144},...</td>\n",
              "      <td>1</td>\n",
              "      <td>None</td>\n",
              "      <td>None</td>\n",
              "      <td>SORT_BY_DISTANCE</td>\n",
              "      <td>Our operational timings are from 10:00am to 12...</td>\n",
              "      <td>2021-01-01 19:36:12</td>\n",
              "      <td>2021-08-04 15:57:33</td>\n",
              "      <td>NaN</td>\n",
              "      <td>24673.0</td>\n",
              "      <td>2021-07-08 21:21:25</td>\n",
              "      <td>30 days 00:00:36</td>\n",
              "      <td>1.000000</td>\n",
              "    </tr>\n",
              "    <tr>\n",
              "      <th>225390</th>\n",
              "      <td>694043</td>\n",
              "      <td>0</td>\n",
              "      <td>2021-07-08 16:19:23</td>\n",
              "      <td>2021-07-08 16:40:55</td>\n",
              "      <td>0XCGCO</td>\n",
              "      <td>9</td>\n",
              "      <td>NORMAL</td>\n",
              "      <td>NOW</td>\n",
              "      <td>NaT</td>\n",
              "      <td>1</td>\n",
              "      <td>1</td>\n",
              "      <td>1</td>\n",
              "      <td>50089</td>\n",
              "      <td>5521.0</td>\n",
              "      <td>1247.0</td>\n",
              "      <td>88666</td>\n",
              "      <td>NaN</td>\n",
              "      <td>2021-07-08 16:19:24</td>\n",
              "      <td>2021-07-08 16:40:55</td>\n",
              "      <td>NaN</td>\n",
              "      <td>apartment 716, 7th floor.</td>\n",
              "      <td>7360.0</td>\n",
              "      <td>230.0</td>\n",
              "      <td>280.0</td>\n",
              "      <td>50.0</td>\n",
              "      <td>0.0</td>\n",
              "      <td>115.0</td>\n",
              "      <td>1.0</td>\n",
              "      <td>None</td>\n",
              "      <td>saleha tirmizey</td>\n",
              "      <td>+923363161999</td>\n",
              "      <td>165.0</td>\n",
              "      <td>NaN</td>\n",
              "      <td>2021-07-08 16:19:40</td>\n",
              "      <td>b'\\x00'</td>\n",
              "      <td>0.0</td>\n",
              "      <td>NaN</td>\n",
              "      <td>0.0</td>\n",
              "      <td>2021-07-08 16:20:00</td>\n",
              "      <td>2021-07-08 16:40:48</td>\n",
              "      <td>2021-07-08 16:26:09</td>\n",
              "      <td>NaN</td>\n",
              "      <td>receipt/1625761574345-receipt.jpg</td>\n",
              "      <td>None</td>\n",
              "      <td>None</td>\n",
              "      <td>NaN</td>\n",
              "      <td>NaN</td>\n",
              "      <td>NaN</td>\n",
              "      <td>NaN</td>\n",
              "      <td>NaN</td>\n",
              "      <td>101-10-Customer-4.7.2</td>\n",
              "      <td>230.0</td>\n",
              "      <td>50089.0</td>\n",
              "      <td>105920.0</td>\n",
              "      <td>1.0</td>\n",
              "      <td>0</td>\n",
              "      <td>NaT</td>\n",
              "      <td>88666</td>\n",
              "      <td>50089</td>\n",
              "      <td>parents home</td>\n",
              "      <td>Sahil Promenade.</td>\n",
              "      <td>Kheyaban-e-Saadi, Block 3 Clifton, Karachi</td>\n",
              "      <td>NaN</td>\n",
              "      <td>24.810146</td>\n",
              "      <td>67.018598</td>\n",
              "      <td>1</td>\n",
              "      <td>716, 7 floor</td>\n",
              "      <td>10049</td>\n",
              "      <td>2021-05-16 17:17:26</td>\n",
              "      <td>2021-05-16 17:17:26</td>\n",
              "      <td>50089.0</td>\n",
              "      <td>50089.0</td>\n",
              "      <td>10049</td>\n",
              "      <td>DHA Badar &amp; Clifton</td>\n",
              "      <td>1</td>\n",
              "      <td>[{\"x\":24.818331647782706,\"y\":66.99691238395944...</td>\n",
              "      <td>1</td>\n",
              "      <td>None</td>\n",
              "      <td>None</td>\n",
              "      <td>DEFAULT</td>\n",
              "      <td>Our operational timings are from 10:00am to 12...</td>\n",
              "      <td>2021-04-14 06:18:59</td>\n",
              "      <td>2021-07-23 19:48:38</td>\n",
              "      <td>40461.0</td>\n",
              "      <td>146550.0</td>\n",
              "      <td>2021-07-08 21:19:40</td>\n",
              "      <td>30 days 00:02:21</td>\n",
              "      <td>0.999975</td>\n",
              "    </tr>\n",
              "    <tr>\n",
              "      <th>225039</th>\n",
              "      <td>693443</td>\n",
              "      <td>0</td>\n",
              "      <td>2021-07-08 12:54:06</td>\n",
              "      <td>2021-07-08 16:35:06</td>\n",
              "      <td>00NVC9</td>\n",
              "      <td>9</td>\n",
              "      <td>NORMAL</td>\n",
              "      <td>NOW</td>\n",
              "      <td>NaT</td>\n",
              "      <td>1</td>\n",
              "      <td>1</td>\n",
              "      <td>1</td>\n",
              "      <td>177693</td>\n",
              "      <td>5406.0</td>\n",
              "      <td>1420.0</td>\n",
              "      <td>106748</td>\n",
              "      <td>NaN</td>\n",
              "      <td>2021-07-08 16:18:31</td>\n",
              "      <td>2021-07-08 16:32:37</td>\n",
              "      <td>NaN</td>\n",
              "      <td>None</td>\n",
              "      <td>NaN</td>\n",
              "      <td>150.0</td>\n",
              "      <td>200.0</td>\n",
              "      <td>50.0</td>\n",
              "      <td>0.0</td>\n",
              "      <td>50.0</td>\n",
              "      <td>NaN</td>\n",
              "      <td>None</td>\n",
              "      <td>Imran Mrmon</td>\n",
              "      <td>+923310317630</td>\n",
              "      <td>150.0</td>\n",
              "      <td>NaN</td>\n",
              "      <td>2021-07-08 16:18:39</td>\n",
              "      <td>b'\\x00'</td>\n",
              "      <td>0.0</td>\n",
              "      <td>NaN</td>\n",
              "      <td>0.0</td>\n",
              "      <td>2021-07-08 16:21:18</td>\n",
              "      <td>2021-07-08 16:29:53</td>\n",
              "      <td>2021-07-08 16:23:49</td>\n",
              "      <td>NaN</td>\n",
              "      <td>receipt/1625761431403-receipt.jpg</td>\n",
              "      <td>None</td>\n",
              "      <td>None</td>\n",
              "      <td>1.0</td>\n",
              "      <td>NaN</td>\n",
              "      <td>NaN</td>\n",
              "      <td>NaN</td>\n",
              "      <td>NaN</td>\n",
              "      <td>101-6.0.1-Customer-4.7.2</td>\n",
              "      <td>100.0</td>\n",
              "      <td>177693.0</td>\n",
              "      <td>177693.0</td>\n",
              "      <td>2.0</td>\n",
              "      <td>1</td>\n",
              "      <td>2021-07-08 12:56:09</td>\n",
              "      <td>106748</td>\n",
              "      <td>177693</td>\n",
              "      <td>Abbas Town</td>\n",
              "      <td>Abul Hasan Isphahani Road</td>\n",
              "      <td>Abul Hasan Isphahani Rd, Block 7 Gulshan-e-Iqb...</td>\n",
              "      <td>NaN</td>\n",
              "      <td>24.931244</td>\n",
              "      <td>67.107415</td>\n",
              "      <td>1</td>\n",
              "      <td>Rabia flower Apartment's 3rd floor flat no A3/17</td>\n",
              "      <td>22</td>\n",
              "      <td>2021-07-06 16:30:26</td>\n",
              "      <td>2021-07-06 16:30:26</td>\n",
              "      <td>177693.0</td>\n",
              "      <td>177693.0</td>\n",
              "      <td>22</td>\n",
              "      <td>Gulshan-e-Iqbal-3</td>\n",
              "      <td>1</td>\n",
              "      <td>[{\"x\":24.928016546527655,\"y\":67.08757546154371...</td>\n",
              "      <td>1</td>\n",
              "      <td>None</td>\n",
              "      <td>None</td>\n",
              "      <td>SORT_BY_DISTANCE</td>\n",
              "      <td>Our operational timings are 10:00AM - 12:00AM....</td>\n",
              "      <td>2021-01-01 19:36:12</td>\n",
              "      <td>2021-07-18 18:50:05</td>\n",
              "      <td>NaN</td>\n",
              "      <td>24673.0</td>\n",
              "      <td>2021-07-08 21:18:39</td>\n",
              "      <td>30 days 00:03:22</td>\n",
              "      <td>0.999950</td>\n",
              "    </tr>\n",
              "    <tr>\n",
              "      <th>225377</th>\n",
              "      <td>694021</td>\n",
              "      <td>0</td>\n",
              "      <td>2021-07-08 16:15:28</td>\n",
              "      <td>2021-07-08 16:47:49</td>\n",
              "      <td>UGGD53</td>\n",
              "      <td>9</td>\n",
              "      <td>NORMAL</td>\n",
              "      <td>NOW</td>\n",
              "      <td>NaT</td>\n",
              "      <td>1</td>\n",
              "      <td>1</td>\n",
              "      <td>1</td>\n",
              "      <td>33329</td>\n",
              "      <td>5572.0</td>\n",
              "      <td>1038.0</td>\n",
              "      <td>29304</td>\n",
              "      <td>NaN</td>\n",
              "      <td>2021-07-08 16:15:29</td>\n",
              "      <td>2021-07-08 16:45:00</td>\n",
              "      <td>4.0</td>\n",
              "      <td>None</td>\n",
              "      <td>2.0</td>\n",
              "      <td>280.0</td>\n",
              "      <td>330.0</td>\n",
              "      <td>50.0</td>\n",
              "      <td>0.0</td>\n",
              "      <td>140.0</td>\n",
              "      <td>2.0</td>\n",
              "      <td>None</td>\n",
              "      <td>Fardeen Khan</td>\n",
              "      <td>+923348088855</td>\n",
              "      <td>190.0</td>\n",
              "      <td>NaN</td>\n",
              "      <td>2021-07-08 16:15:34</td>\n",
              "      <td>b'\\x00'</td>\n",
              "      <td>0.0</td>\n",
              "      <td>NaN</td>\n",
              "      <td>0.0</td>\n",
              "      <td>2021-07-08 16:21:02</td>\n",
              "      <td>2021-07-08 16:44:04</td>\n",
              "      <td>2021-07-08 16:33:42</td>\n",
              "      <td>NaN</td>\n",
              "      <td>receipt/1625762029427-receipt.jpg</td>\n",
              "      <td>make you service a little better when ordering...</td>\n",
              "      <td>None</td>\n",
              "      <td>NaN</td>\n",
              "      <td>NaN</td>\n",
              "      <td>NaN</td>\n",
              "      <td>NaN</td>\n",
              "      <td>NaN</td>\n",
              "      <td>101-10-Customer-4.7.2</td>\n",
              "      <td>280.0</td>\n",
              "      <td>33329.0</td>\n",
              "      <td>33329.0</td>\n",
              "      <td>1.0</td>\n",
              "      <td>0</td>\n",
              "      <td>NaT</td>\n",
              "      <td>29304</td>\n",
              "      <td>33329</td>\n",
              "      <td>Home</td>\n",
              "      <td>Abdullah Terrace Road</td>\n",
              "      <td>Abdullah Terrace Rd, Block 16 Gulistan-e-Johar</td>\n",
              "      <td>NaN</td>\n",
              "      <td>24.921582</td>\n",
              "      <td>67.115974</td>\n",
              "      <td>1</td>\n",
              "      <td>D_28, abdullah heights, block 16 , gulistane j...</td>\n",
              "      <td>13</td>\n",
              "      <td>2021-01-01 19:36:11</td>\n",
              "      <td>2021-07-07 16:04:20</td>\n",
              "      <td>33329.0</td>\n",
              "      <td>NaN</td>\n",
              "      <td>13</td>\n",
              "      <td>Jauhar Larger Zone</td>\n",
              "      <td>1</td>\n",
              "      <td>[{\"x\":24.915947276345424,\"y\":67.13486143003671...</td>\n",
              "      <td>1</td>\n",
              "      <td>None</td>\n",
              "      <td>None</td>\n",
              "      <td>SORT_BY_DISTANCE</td>\n",
              "      <td>Our operational timings are 10:00AM - 12:00AM....</td>\n",
              "      <td>2021-01-01 19:36:12</td>\n",
              "      <td>2021-07-26 19:30:36</td>\n",
              "      <td>NaN</td>\n",
              "      <td>146550.0</td>\n",
              "      <td>2021-07-08 21:15:34</td>\n",
              "      <td>30 days 00:06:27</td>\n",
              "      <td>0.999925</td>\n",
              "    </tr>\n",
              "  </tbody>\n",
              "</table>\n",
              "</div>"
            ],
            "text/plain": [
              "            id  is_order_fake          created_at          updated_at  \\\n",
              "225399  694057              0 2021-07-08 16:21:36 2021-07-08 17:09:13   \n",
              "225395  694053              0 2021-07-08 16:21:03 2021-07-10 07:13:33   \n",
              "225390  694043              0 2021-07-08 16:19:23 2021-07-08 16:40:55   \n",
              "225039  693443              0 2021-07-08 12:54:06 2021-07-08 16:35:06   \n",
              "225377  694021              0 2021-07-08 16:15:28 2021-07-08 16:47:49   \n",
              "\n",
              "       reference_id  order_status order_type delivery_type delivery_time  \\\n",
              "225399       258S09             9     NORMAL           NOW           NaT   \n",
              "225395       7M75T5             9     NORMAL           NOW           NaT   \n",
              "225390       0XCGCO             9     NORMAL           NOW           NaT   \n",
              "225039       00NVC9             9     NORMAL           NOW           NaT   \n",
              "225377       UGGD53             9     NORMAL           NOW           NaT   \n",
              "\n",
              "        is_swappable  partial_order_acceptable  payment_type  customer_id  \\\n",
              "225399             1                         1             1       119384   \n",
              "225395             1                         1             1        75757   \n",
              "225390             1                         1             1        50089   \n",
              "225039             1                         1             1       177693   \n",
              "225377             1                         1             1        33329   \n",
              "\n",
              "        hub_id  buddy_id  address_id  cancellation_id       dispatched_at  \\\n",
              "225399  5580.0    1530.0      107269              NaN 2021-07-08 16:22:17   \n",
              "225395  5417.0    1536.0       88113              NaN 2021-07-08 16:21:05   \n",
              "225390  5521.0    1247.0       88666              NaN 2021-07-08 16:19:24   \n",
              "225039  5406.0    1420.0      106748              NaN 2021-07-08 16:18:31   \n",
              "225377  5572.0    1038.0       29304              NaN 2021-07-08 16:15:29   \n",
              "\n",
              "              delivered_at  rating         delivery_instruction  \\\n",
              "225399 2021-07-08 16:53:49     4.0  plot R586 near rehbar park    \n",
              "225395 2021-07-08 17:36:44     5.0     call me when you reach.    \n",
              "225390 2021-07-08 16:40:55     NaN   apartment 716, 7th floor.    \n",
              "225039 2021-07-08 16:32:37     NaN                         None   \n",
              "225377 2021-07-08 16:45:00     4.0                         None   \n",
              "\n",
              "        promo_code_id  sub_total  total  delivery  convenience  discount  \\\n",
              "225399            2.0      170.0  220.0      50.0          0.0      85.0   \n",
              "225395         7360.0      310.0  360.0      50.0          0.0     150.0   \n",
              "225390         7360.0      230.0  280.0      50.0          0.0     115.0   \n",
              "225039            NaN      150.0  200.0      50.0          0.0      50.0   \n",
              "225377            2.0      280.0  330.0      50.0          0.0     140.0   \n",
              "\n",
              "        discount_type remarks contact_person_name contact_person_phone  \\\n",
              "225399            2.0    None     Muhammad Sohaib        +923413547762   \n",
              "225395            1.0    None        misses zafar        +923101289141   \n",
              "225390            1.0    None     saleha tirmizey        +923363161999   \n",
              "225039            NaN    None         Imran Mrmon        +923310317630   \n",
              "225377            2.0    None        Fardeen Khan        +923348088855   \n",
              "\n",
              "        amount_received  near_by_hub_id         accepted_at  \\\n",
              "225399            135.0             NaN 2021-07-08 16:22:47   \n",
              "225395            210.0             NaN 2021-07-08 16:21:25   \n",
              "225390            165.0             NaN 2021-07-08 16:19:40   \n",
              "225039            150.0             NaN 2021-07-08 16:18:39   \n",
              "225377            190.0             NaN 2021-07-08 16:15:34   \n",
              "\n",
              "       is_delivery_charges_waived_off  waived_off_charges  distance_in_meters  \\\n",
              "225399                        b'\\x00'                 0.0                 NaN   \n",
              "225395                        b'\\x00'                 0.0                 NaN   \n",
              "225390                        b'\\x00'                 0.0                 NaN   \n",
              "225039                        b'\\x00'                 0.0                 NaN   \n",
              "225377                        b'\\x00'                 0.0                 NaN   \n",
              "\n",
              "        time_in_seconds      reached_hub_at reached_customer_at  \\\n",
              "225399              0.0 2021-07-08 16:31:13 2021-07-08 16:53:12   \n",
              "225395              0.0 2021-07-08 16:44:35 2021-07-08 17:18:49   \n",
              "225390              0.0 2021-07-08 16:20:00 2021-07-08 16:40:48   \n",
              "225039              0.0 2021-07-08 16:21:18 2021-07-08 16:29:53   \n",
              "225377              0.0 2021-07-08 16:21:02 2021-07-08 16:44:04   \n",
              "\n",
              "        order_collected_at  free_delivery_promo_code_id  \\\n",
              "225399 2021-07-08 16:40:26                          NaN   \n",
              "225395 2021-07-08 17:03:23                          NaN   \n",
              "225390 2021-07-08 16:26:09                          NaN   \n",
              "225039 2021-07-08 16:23:49                          NaN   \n",
              "225377 2021-07-08 16:33:42                          NaN   \n",
              "\n",
              "                        receipt_image_url  \\\n",
              "225399  receipt/1625762433804-receipt.jpg   \n",
              "225395  receipt/1625763816375-receipt.jpg   \n",
              "225390  receipt/1625761574345-receipt.jpg   \n",
              "225039  receipt/1625761431403-receipt.jpg   \n",
              "225377  receipt/1625762029427-receipt.jpg   \n",
              "\n",
              "                                        customer_feedback buddy_feedback  \\\n",
              "225399                                               None           None   \n",
              "225395                                               None           None   \n",
              "225390                                               None           None   \n",
              "225039                                               None           None   \n",
              "225377  make you service a little better when ordering...           None   \n",
              "\n",
              "        skip_rating_count  online_payment_id  initial_eta_in_minutes  \\\n",
              "225399                NaN                NaN                     NaN   \n",
              "225395                NaN                NaN                     NaN   \n",
              "225390                NaN                NaN                     NaN   \n",
              "225039                1.0                NaN                     NaN   \n",
              "225377                NaN                NaN                     NaN   \n",
              "\n",
              "        distance_in_km  online_payment_amount                 app_agent  \\\n",
              "225399             NaN                    NaN     101-10-Customer-4.7.2   \n",
              "225395             NaN                    NaN     101-11-Customer-4.7.2   \n",
              "225390             NaN                    NaN     101-10-Customer-4.7.2   \n",
              "225039             NaN                    NaN  101-6.0.1-Customer-4.7.2   \n",
              "225377             NaN                    NaN     101-10-Customer-4.7.2   \n",
              "\n",
              "        discounted_sub_total  created_by  updated_by  retry_order_count  \\\n",
              "225399                 170.0    119384.0    119384.0                1.0   \n",
              "225395                 310.0     75757.0     75757.0                1.0   \n",
              "225390                 230.0     50089.0    105920.0                1.0   \n",
              "225039                 100.0    177693.0    177693.0                2.0   \n",
              "225377                 280.0     33329.0     33329.0                1.0   \n",
              "\n",
              "        is_assistance_required assistance_required_at      id  user_id  \\\n",
              "225399                       0                    NaT  107269   119384   \n",
              "225395                       0                    NaT   88113    75757   \n",
              "225390                       0                    NaT   88666    50089   \n",
              "225039                       1    2021-07-08 12:56:09  106748   177693   \n",
              "225377                       0                    NaT   29304    33329   \n",
              "\n",
              "       location_name                              poi  \\\n",
              "225399          Home  Sector 11 C 3 North Karachi Twp   \n",
              "225395          Home                            R 911   \n",
              "225390  parents home                 Sahil Promenade.   \n",
              "225039   Abbas Town         Abul Hasan Isphahani Road   \n",
              "225377          Home            Abdullah Terrace Road   \n",
              "\n",
              "                                                  address  city_id   latitude  \\\n",
              "225399  Sector 11 C 3 North Karachi Twp, Karachi, Kara...      NaN  24.968286   \n",
              "225395                Sector 15-B Sector 15 B Buffer Zone      NaN  24.960866   \n",
              "225390         Kheyaban-e-Saadi, Block 3 Clifton, Karachi      NaN  24.810146   \n",
              "225039  Abul Hasan Isphahani Rd, Block 7 Gulshan-e-Iqb...      NaN  24.931244   \n",
              "225377     Abdullah Terrace Rd, Block 16 Gulistan-e-Johar      NaN  24.921582   \n",
              "\n",
              "        longitude  status                                 additional_details  \\\n",
              "225399  67.057629       1                                               R586   \n",
              "225395  67.072955       1  R-700 Ashrafi manzil sector 15 B bufferzone......   \n",
              "225390  67.018598       1                                       716, 7 floor   \n",
              "225039  67.107415       1   Rabia flower Apartment's 3rd floor flat no A3/17   \n",
              "225377  67.115974       1  D_28, abdullah heights, block 16 , gulistane j...   \n",
              "\n",
              "        service_area_id          created_at          updated_at  updated_by  \\\n",
              "225399            10034 2021-07-08 15:59:47 2021-07-08 15:59:47    119384.0   \n",
              "225395            10034 2021-05-16 02:18:42 2021-07-25 08:03:04     75757.0   \n",
              "225390            10049 2021-05-16 17:17:26 2021-05-16 17:17:26     50089.0   \n",
              "225039               22 2021-07-06 16:30:26 2021-07-06 16:30:26    177693.0   \n",
              "225377               13 2021-01-01 19:36:11 2021-07-07 16:04:20     33329.0   \n",
              "\n",
              "        created_by     id                        name  city_id  \\\n",
              "225399    119384.0  10034  North Karachi & Bufferzone        1   \n",
              "225395     75757.0  10034  North Karachi & Bufferzone        1   \n",
              "225390     50089.0  10049        DHA Badar & Clifton         1   \n",
              "225039    177693.0     22           Gulshan-e-Iqbal-3        1   \n",
              "225377         NaN     13          Jauhar Larger Zone        1   \n",
              "\n",
              "                                                 geofence  is_active  \\\n",
              "225399  [{\"x\":24.97881636288531,\"y\":67.0538929422144},...          1   \n",
              "225395  [{\"x\":24.97881636288531,\"y\":67.0538929422144},...          1   \n",
              "225390  [{\"x\":24.818331647782706,\"y\":66.99691238395944...          1   \n",
              "225039  [{\"x\":24.928016546527655,\"y\":67.08757546154371...          1   \n",
              "225377  [{\"x\":24.915947276345424,\"y\":67.13486143003671...          1   \n",
              "\n",
              "       dispatch_algo_id dispatch_radius         sort_type  \\\n",
              "225399             None            None  SORT_BY_DISTANCE   \n",
              "225395             None            None  SORT_BY_DISTANCE   \n",
              "225390             None            None           DEFAULT   \n",
              "225039             None            None  SORT_BY_DISTANCE   \n",
              "225377             None            None  SORT_BY_DISTANCE   \n",
              "\n",
              "                                     operational_time_msg          created_at  \\\n",
              "225399  Our operational timings are from 10:00am to 12... 2021-01-01 19:36:12   \n",
              "225395  Our operational timings are from 10:00am to 12... 2021-01-01 19:36:12   \n",
              "225390  Our operational timings are from 10:00am to 12... 2021-04-14 06:18:59   \n",
              "225039  Our operational timings are 10:00AM - 12:00AM.... 2021-01-01 19:36:12   \n",
              "225377  Our operational timings are 10:00AM - 12:00AM.... 2021-01-01 19:36:12   \n",
              "\n",
              "                updated_at  created_by  updated_by       accepted_at_P  \\\n",
              "225399 2021-08-04 15:57:33         NaN     24673.0 2021-07-08 21:22:47   \n",
              "225395 2021-08-04 15:57:33         NaN     24673.0 2021-07-08 21:21:25   \n",
              "225390 2021-07-23 19:48:38     40461.0    146550.0 2021-07-08 21:19:40   \n",
              "225039 2021-07-18 18:50:05         NaN     24673.0 2021-07-08 21:18:39   \n",
              "225377 2021-07-26 19:30:36         NaN    146550.0 2021-07-08 21:15:34   \n",
              "\n",
              "                   Time  Percential  \n",
              "225399 29 days 23:59:14    1.000000  \n",
              "225395 30 days 00:00:36    1.000000  \n",
              "225390 30 days 00:02:21    0.999975  \n",
              "225039 30 days 00:03:22    0.999950  \n",
              "225377 30 days 00:06:27    0.999925  "
            ]
          },
          "metadata": {
            "tags": []
          },
          "execution_count": 188
        }
      ]
    },
    {
      "cell_type": "code",
      "metadata": {
        "id": "4ZQse6haKQHk"
      },
      "source": [],
      "execution_count": null,
      "outputs": []
    },
    {
      "cell_type": "code",
      "metadata": {
        "id": "RHei3R9s6Wez",
        "colab": {
          "base_uri": "https://localhost:8080/"
        },
        "outputId": "9adf3a84-c8c5-46b1-f06e-2df194152b57"
      },
      "source": [
        "One_day=User_recency[User_recency['Time']<='1 day']\n",
        "two_seven=User_recency[(User_recency['Time']>'01 day') & (User_recency['Time']<='07 day')]\n",
        "seven_thirty=User_recency[(User_recency['Time']>'07 day') & (User_recency['Time']<='30 day')]\n",
        "above_thirty=User_recency[User_recency['Time']>='30 day']\n",
        "print(One_day.shape)\n",
        "print(two_seven.shape)\n",
        "print(seven_thirty.shape)\n",
        "print(above_thirty.shape)"
      ],
      "execution_count": null,
      "outputs": [
        {
          "output_type": "stream",
          "text": [
            "(899, 88)\n",
            "(3737, 88)\n",
            "(6341, 88)\n",
            "(40194, 88)\n"
          ],
          "name": "stdout"
        }
      ]
    },
    {
      "cell_type": "code",
      "metadata": {
        "id": "qncX7-yC6nmk"
      },
      "source": [],
      "execution_count": null,
      "outputs": []
    },
    {
      "cell_type": "code",
      "metadata": {
        "colab": {
          "base_uri": "https://localhost:8080/",
          "height": 69
        },
        "id": "imqu16Pl6WnK",
        "outputId": "dad52ed4-e6e0-4164-9493-0061137016e9"
      },
      "source": [
        "\"\"\"plt.figure(figsize=(16,9))\n",
        "One_day['service_area_id'].value_counts().plot(kind='bar');\n",
        "plt.figure(figsize=(16,9))\n",
        "two_seven['service_area_id'].value_counts().plot(kind='bar');\n",
        "plt.figure(figsize=(16,9))\n",
        "seven_thirty['service_area_id'].value_counts().plot(kind='bar');\n",
        "plt.figure(figsize=(16,9))\n",
        "above_thirty['service_area_id'].value_counts().plot(kind='bar');\n",
        "\"\"\"\n"
      ],
      "execution_count": null,
      "outputs": [
        {
          "output_type": "execute_result",
          "data": {
            "application/vnd.google.colaboratory.intrinsic+json": {
              "type": "string"
            },
            "text/plain": [
              "\"plt.figure(figsize=(16,9))\\nOne_day['service_area_id'].value_counts().plot(kind='bar');\\nplt.figure(figsize=(16,9))\\ntwo_seven['service_area_id'].value_counts().plot(kind='bar');\\nplt.figure(figsize=(16,9))\\nseven_thirty['service_area_id'].value_counts().plot(kind='bar');\\nplt.figure(figsize=(16,9))\\nabove_thirty['service_area_id'].value_counts().plot(kind='bar');\\n\""
            ]
          },
          "metadata": {
            "tags": []
          },
          "execution_count": 190
        }
      ]
    },
    {
      "cell_type": "code",
      "metadata": {
        "id": "2IZ-8nD5C4rq"
      },
      "source": [
        "#Frequency of all user:\n",
        "complete2=data2[data2['order_status']==9]\n",
        "complete2.dropna(axis=0,subset=['accepted_at'],inplace=True)\n",
        "complete2['freq'] = complete2.groupby('customer_id')['total'].transform('count')\n",
        "frquency_data=complete2\n",
        "frquency_data.drop_duplicates(subset =\"customer_id\",keep = 'first', inplace = True)\n",
        "frquency_data.sort_values('freq',inplace=True)\n",
        "frquency_data['Percential']=frquency_data['freq'].rank(pct=True,ascending=False)\n"
      ],
      "execution_count": null,
      "outputs": []
    },
    {
      "cell_type": "code",
      "metadata": {
        "colab": {
          "base_uri": "https://localhost:8080/"
        },
        "id": "zCThUXrr3cw9",
        "outputId": "02d83beb-1104-469c-cecd-3761c191c699"
      },
      "source": [
        "User_recency.shape"
      ],
      "execution_count": null,
      "outputs": [
        {
          "output_type": "execute_result",
          "data": {
            "text/plain": [
              "(51171, 88)"
            ]
          },
          "metadata": {
            "tags": []
          },
          "execution_count": 192
        }
      ]
    },
    {
      "cell_type": "code",
      "metadata": {
        "colab": {
          "base_uri": "https://localhost:8080/"
        },
        "id": "co6bW4zVOceF",
        "outputId": "8c0e1e4b-dbe8-4345-b851-4fab4c12de0a"
      },
      "source": [
        "frquency_data.shape"
      ],
      "execution_count": null,
      "outputs": [
        {
          "output_type": "execute_result",
          "data": {
            "text/plain": [
              "(51171, 88)"
            ]
          },
          "metadata": {
            "tags": []
          },
          "execution_count": 193
        }
      ]
    },
    {
      "cell_type": "code",
      "metadata": {
        "id": "yvOkT0vBQ8bF"
      },
      "source": [
        "cursors4=connection.cursor()\n",
        "cursors4.execute(\"\"\"\n",
        "\n",
        "select customer_id,sum(amount_received)As Mentory\n",
        "from\n",
        "(\n",
        "\tselect *,CONVERT_TZ(orders.accepted_at, '+00:00', '+5:00') As accepted_at_P from orders\n",
        "\twhere is_order_fake=0 and orders.status=9\n",
        ")as a group by customer_id;\n",
        "\"\"\")\n",
        "rows4=cursors4.fetchall()\n",
        "data4=pd.DataFrame(rows4)\n",
        "arra=[]\n",
        "for col in range(0,len(data4.columns)):\n",
        "  arra.append(cursors4.description[col][0])\n",
        "data4.columns=arra"
      ],
      "execution_count": null,
      "outputs": []
    },
    {
      "cell_type": "code",
      "metadata": {
        "id": "vWjD-6jhRfMS"
      },
      "source": [],
      "execution_count": null,
      "outputs": []
    },
    {
      "cell_type": "code",
      "metadata": {
        "id": "WroYnX6-Ri4H"
      },
      "source": [],
      "execution_count": null,
      "outputs": []
    },
    {
      "cell_type": "code",
      "metadata": {
        "colab": {
          "base_uri": "https://localhost:8080/",
          "height": 203
        },
        "id": "EW0KsklOiRyL",
        "outputId": "6c1502b8-fd3b-4f50-ad36-6e34c507259b"
      },
      "source": [],
      "execution_count": null,
      "outputs": [
        {
          "output_type": "execute_result",
          "data": {
            "text/html": [
              "<div>\n",
              "<style scoped>\n",
              "    .dataframe tbody tr th:only-of-type {\n",
              "        vertical-align: middle;\n",
              "    }\n",
              "\n",
              "    .dataframe tbody tr th {\n",
              "        vertical-align: top;\n",
              "    }\n",
              "\n",
              "    .dataframe thead th {\n",
              "        text-align: right;\n",
              "    }\n",
              "</style>\n",
              "<table border=\"1\" class=\"dataframe\">\n",
              "  <thead>\n",
              "    <tr style=\"text-align: right;\">\n",
              "      <th></th>\n",
              "      <th>customer_id</th>\n",
              "      <th>Mentory</th>\n",
              "      <th>montery_Percential</th>\n",
              "    </tr>\n",
              "  </thead>\n",
              "  <tbody>\n",
              "    <tr>\n",
              "      <th>14143</th>\n",
              "      <td>33732</td>\n",
              "      <td>9985171.0</td>\n",
              "      <td>1.000000</td>\n",
              "    </tr>\n",
              "    <tr>\n",
              "      <th>14293</th>\n",
              "      <td>34182</td>\n",
              "      <td>8327826.0</td>\n",
              "      <td>0.999980</td>\n",
              "    </tr>\n",
              "    <tr>\n",
              "      <th>29771</th>\n",
              "      <td>82928</td>\n",
              "      <td>6678664.0</td>\n",
              "      <td>0.999961</td>\n",
              "    </tr>\n",
              "    <tr>\n",
              "      <th>42681</th>\n",
              "      <td>141168</td>\n",
              "      <td>5602999.0</td>\n",
              "      <td>0.999941</td>\n",
              "    </tr>\n",
              "    <tr>\n",
              "      <th>4412</th>\n",
              "      <td>14351</td>\n",
              "      <td>5563536.0</td>\n",
              "      <td>0.999922</td>\n",
              "    </tr>\n",
              "  </tbody>\n",
              "</table>\n",
              "</div>"
            ],
            "text/plain": [
              "       customer_id    Mentory  montery_Percential\n",
              "14143        33732  9985171.0            1.000000\n",
              "14293        34182  8327826.0            0.999980\n",
              "29771        82928  6678664.0            0.999961\n",
              "42681       141168  5602999.0            0.999941\n",
              "4412         14351  5563536.0            0.999922"
            ]
          },
          "metadata": {
            "tags": []
          },
          "execution_count": 198
        }
      ]
    },
    {
      "cell_type": "code",
      "metadata": {
        "id": "sAcN6BE_PFcQ"
      },
      "source": [
        "recency_frequecy_data = pd.merge(left=User_recency, right=frquency_data, how='inner', left_on='customer_id', right_on='customer_id')\n",
        "recency_frequecy_data2=recency_frequecy_data[[\"id_x\",\"customer_id\",\"contact_person_phone_x\",\"accepted_at_P_x\",\"Time\",\"Percential_x\",\"freq\",\"Percential_y\"]]\n",
        "recency_frequecy_data2.columns = ['order_id', 'address_id', 'service_area_id','customer_id','customer_phone_no', 'aceepted_time', 'Time', 'recency_percential', 'frequency', 'freq_percential']"
      ],
      "execution_count": null,
      "outputs": []
    },
    {
      "cell_type": "code",
      "metadata": {
        "id": "3-lLHHPVQ6iC",
        "colab": {
          "base_uri": "https://localhost:8080/"
        },
        "outputId": "acca24c9-acdf-4330-94f5-36c14b9cfe63"
      },
      "source": [
        "recency_frequecy_data2['Total_Percential']=recency_frequecy_data2['recency_percential']*(recency_frequecy_data2['freq_percential'])\n",
        "recency_frequecy_data2['Total_Percential_2']=recency_frequecy_data2['Total_Percential'].rank(pct=True)\n",
        "recency_frequecy_data2['Total_Percential_2']=recency_frequecy_data2['Total_Percential_2']*100\n",
        "recency_frequecy_data2.sort_values('Total_Percential_2',inplace=True,ascending=False)"
      ],
      "execution_count": null,
      "outputs": [
        {
          "output_type": "stream",
          "text": [
            "/usr/local/lib/python3.7/dist-packages/ipykernel_launcher.py:1: SettingWithCopyWarning: \n",
            "A value is trying to be set on a copy of a slice from a DataFrame.\n",
            "Try using .loc[row_indexer,col_indexer] = value instead\n",
            "\n",
            "See the caveats in the documentation: https://pandas.pydata.org/pandas-docs/stable/user_guide/indexing.html#returning-a-view-versus-a-copy\n",
            "  \"\"\"Entry point for launching an IPython kernel.\n",
            "/usr/local/lib/python3.7/dist-packages/ipykernel_launcher.py:2: SettingWithCopyWarning: \n",
            "A value is trying to be set on a copy of a slice from a DataFrame.\n",
            "Try using .loc[row_indexer,col_indexer] = value instead\n",
            "\n",
            "See the caveats in the documentation: https://pandas.pydata.org/pandas-docs/stable/user_guide/indexing.html#returning-a-view-versus-a-copy\n",
            "  \n",
            "/usr/local/lib/python3.7/dist-packages/ipykernel_launcher.py:3: SettingWithCopyWarning: \n",
            "A value is trying to be set on a copy of a slice from a DataFrame.\n",
            "Try using .loc[row_indexer,col_indexer] = value instead\n",
            "\n",
            "See the caveats in the documentation: https://pandas.pydata.org/pandas-docs/stable/user_guide/indexing.html#returning-a-view-versus-a-copy\n",
            "  This is separate from the ipykernel package so we can avoid doing imports until\n",
            "/usr/local/lib/python3.7/dist-packages/ipykernel_launcher.py:4: SettingWithCopyWarning: \n",
            "A value is trying to be set on a copy of a slice from a DataFrame\n",
            "\n",
            "See the caveats in the documentation: https://pandas.pydata.org/pandas-docs/stable/user_guide/indexing.html#returning-a-view-versus-a-copy\n",
            "  after removing the cwd from sys.path.\n"
          ],
          "name": "stderr"
        }
      ]
    },
    {
      "cell_type": "code",
      "metadata": {
        "id": "oAOt2Q90GTNj"
      },
      "source": [
        "recency_frequecy_mentory_data = pd.merge(left=recency_frequecy_data2, right=complete4, how='inner', left_on='customer_id', right_on='customer_id')\n"
      ],
      "execution_count": null,
      "outputs": []
    },
    {
      "cell_type": "code",
      "metadata": {
        "id": "3LD7FuwVG8U1"
      },
      "source": [
        "recency_frequecy_mentory_data['Total_Percential_4']=(recency_frequecy_mentory_data['recency_percential']*recency_frequecy_mentory_data['freq_percential']*recency_frequecy_mentory_data['montery_Percential'])\n",
        "recency_frequecy_mentory_data['Total_Percential_3']=(recency_frequecy_mentory_data['recency_percential']*recency_frequecy_mentory_data['freq_percential']*recency_frequecy_mentory_data['montery_Percential']).rank(pct=True)"
      ],
      "execution_count": null,
      "outputs": []
    },
    {
      "cell_type": "code",
      "metadata": {
        "id": "fWi3OrtFHTc1"
      },
      "source": [
        "recency_frequecy_mentory_data.sort_values('Total_Percential_3',inplace=True,ascending=False)"
      ],
      "execution_count": null,
      "outputs": []
    },
    {
      "cell_type": "code",
      "metadata": {
        "colab": {
          "base_uri": "https://localhost:8080/",
          "height": 554
        },
        "id": "So4CdEHgDEKq",
        "outputId": "8e36a52c-3056-430e-c943-ecad80414bae"
      },
      "source": [
        "plt.figure(figsize=(19,9))\n",
        "plt.scatter(recency_frequecy_mentory_data['frequency'],recency_frequecy_mentory_data['freq_percential'])"
      ],
      "execution_count": null,
      "outputs": [
        {
          "output_type": "execute_result",
          "data": {
            "text/plain": [
              "<matplotlib.collections.PathCollection at 0x7efe9a1411d0>"
            ]
          },
          "metadata": {
            "tags": []
          },
          "execution_count": 204
        },
        {
          "output_type": "display_data",
          "data": {
            "image/png": "[encoded data removed]",
            "text/plain": [
              "<Figure size 1368x648 with 1 Axes>"
            ]
          },
          "metadata": {
            "tags": [],
            "needs_background": "light"
          }
        }
      ]
    },
    {
      "cell_type": "code",
      "metadata": {
        "colab": {
          "base_uri": "https://localhost:8080/",
          "height": 554
        },
        "id": "ej0nis0dDUZM",
        "outputId": "4855029c-3e47-41e4-e6b1-5008a5d8719f"
      },
      "source": [
        "plt.figure(figsize=\n",
        "           (19,9))\n",
        "a=recency_frequecy_mentory_data['Time'].astype('timedelta64[D]')\n",
        "plt.scatter(a,recency_frequecy_mentory_data['recency_percential'])"
      ],
      "execution_count": null,
      "outputs": [
        {
          "output_type": "execute_result",
          "data": {
            "text/plain": [
              "<matplotlib.collections.PathCollection at 0x7efe9a141210>"
            ]
          },
          "metadata": {
            "tags": []
          },
          "execution_count": 205
        },
        {
          "output_type": "display_data",
          "data": {
            "image/png": "[encoded data removed]",
            "text/plain": [
              "<Figure size 1368x648 with 1 Axes>"
            ]
          },
          "metadata": {
            "tags": [],
            "needs_background": "light"
          }
        }
      ]
    },
    {
      "cell_type": "code",
      "metadata": {
        "colab": {
          "base_uri": "https://localhost:8080/",
          "height": 567
        },
        "id": "eVZ0R_vGDUb2",
        "outputId": "ac2a09f8-d275-4ab6-84bf-847d2a27ffe0"
      },
      "source": [],
      "execution_count": null,
      "outputs": [
        {
          "output_type": "execute_result",
          "data": {
            "text/plain": [
              "<matplotlib.collections.PathCollection at 0x7efe99661b90>"
            ]
          },
          "metadata": {
            "tags": []
          },
          "execution_count": 206
        },
        {
          "output_type": "display_data",
          "data": {
            "image/png": "[encoded data removed]",
            "text/plain": [
              "<Figure size 1368x648 with 1 Axes>"
            ]
          },
          "metadata": {
            "tags": [],
            "needs_background": "light"
          }
        }
      ]
    },
    {
      "cell_type": "code",
      "metadata": {
        "colab": {
          "base_uri": "https://localhost:8080/",
          "height": 307
        },
        "id": "wnYlxlXCDUeM",
        "outputId": "76d8b3ac-69c0-4bca-d32d-16d90c98510d"
      },
      "source": [
        "recency_frequecy_mentory_data.head()"
      ],
      "execution_count": null,
      "outputs": [
        {
          "output_type": "execute_result",
          "data": {
            "text/html": [
              "<div>\n",
              "<style scoped>\n",
              "    .dataframe tbody tr th:only-of-type {\n",
              "        vertical-align: middle;\n",
              "    }\n",
              "\n",
              "    .dataframe tbody tr th {\n",
              "        vertical-align: top;\n",
              "    }\n",
              "\n",
              "    .dataframe thead th {\n",
              "        text-align: right;\n",
              "    }\n",
              "</style>\n",
              "<table border=\"1\" class=\"dataframe\">\n",
              "  <thead>\n",
              "    <tr style=\"text-align: right;\">\n",
              "      <th></th>\n",
              "      <th>order_id</th>\n",
              "      <th>address_id</th>\n",
              "      <th>service_area_id</th>\n",
              "      <th>customer_id</th>\n",
              "      <th>customer_phone_no</th>\n",
              "      <th>aceepted_time</th>\n",
              "      <th>Time</th>\n",
              "      <th>recency_percential</th>\n",
              "      <th>frequency</th>\n",
              "      <th>freq_percential</th>\n",
              "      <th>Total_Percential</th>\n",
              "      <th>Total_Percential_2</th>\n",
              "      <th>Mentory</th>\n",
              "      <th>montery_Percential</th>\n",
              "      <th>Total_Percential_4</th>\n",
              "      <th>Total_Percential_3</th>\n",
              "    </tr>\n",
              "  </thead>\n",
              "  <tbody>\n",
              "    <tr>\n",
              "      <th>889</th>\n",
              "      <td>663758</td>\n",
              "      <td>103769</td>\n",
              "      <td>10034</td>\n",
              "      <td>109652</td>\n",
              "      <td>+923111230470</td>\n",
              "      <td>2021-06-27 18:00:16</td>\n",
              "      <td>41 days 03:21:45</td>\n",
              "      <td>0.934368</td>\n",
              "      <td>1</td>\n",
              "      <td>0.776954</td>\n",
              "      <td>0.725961</td>\n",
              "      <td>98.262688</td>\n",
              "      <td>2432.0</td>\n",
              "      <td>0.835291</td>\n",
              "      <td>0.606389</td>\n",
              "      <td>1.000000</td>\n",
              "    </tr>\n",
              "    <tr>\n",
              "      <th>3704</th>\n",
              "      <td>586741</td>\n",
              "      <td>83810</td>\n",
              "      <td>10027</td>\n",
              "      <td>135714</td>\n",
              "      <td>+923332509765</td>\n",
              "      <td>2021-05-25 17:14:02</td>\n",
              "      <td>74 days 04:07:59</td>\n",
              "      <td>0.762950</td>\n",
              "      <td>1</td>\n",
              "      <td>0.776954</td>\n",
              "      <td>0.592777</td>\n",
              "      <td>92.761525</td>\n",
              "      <td>2009999.0</td>\n",
              "      <td>0.999491</td>\n",
              "      <td>0.592475</td>\n",
              "      <td>0.999980</td>\n",
              "    </tr>\n",
              "    <tr>\n",
              "      <th>1928</th>\n",
              "      <td>639465</td>\n",
              "      <td>100563</td>\n",
              "      <td>10023</td>\n",
              "      <td>167184</td>\n",
              "      <td>+923242330040</td>\n",
              "      <td>2021-06-15 16:33:48</td>\n",
              "      <td>53 days 04:48:13</td>\n",
              "      <td>0.868836</td>\n",
              "      <td>1</td>\n",
              "      <td>0.776954</td>\n",
              "      <td>0.675045</td>\n",
              "      <td>96.232241</td>\n",
              "      <td>3310.0</td>\n",
              "      <td>0.876870</td>\n",
              "      <td>0.591927</td>\n",
              "      <td>0.999961</td>\n",
              "    </tr>\n",
              "    <tr>\n",
              "      <th>2200</th>\n",
              "      <td>632868</td>\n",
              "      <td>95640</td>\n",
              "      <td>10046</td>\n",
              "      <td>39330</td>\n",
              "      <td>+923330222952</td>\n",
              "      <td>2021-06-11 21:32:21</td>\n",
              "      <td>56 days 23:49:40</td>\n",
              "      <td>0.852466</td>\n",
              "      <td>1</td>\n",
              "      <td>0.776954</td>\n",
              "      <td>0.662326</td>\n",
              "      <td>95.700690</td>\n",
              "      <td>3375.0</td>\n",
              "      <td>0.879357</td>\n",
              "      <td>0.582421</td>\n",
              "      <td>0.999941</td>\n",
              "    </tr>\n",
              "    <tr>\n",
              "      <th>1326</th>\n",
              "      <td>655020</td>\n",
              "      <td>102657</td>\n",
              "      <td>10053</td>\n",
              "      <td>139978</td>\n",
              "      <td>+923342403762</td>\n",
              "      <td>2021-06-22 20:14:58</td>\n",
              "      <td>46 days 01:07:03</td>\n",
              "      <td>0.907374</td>\n",
              "      <td>1</td>\n",
              "      <td>0.776954</td>\n",
              "      <td>0.704988</td>\n",
              "      <td>97.408689</td>\n",
              "      <td>2200.0</td>\n",
              "      <td>0.819666</td>\n",
              "      <td>0.577855</td>\n",
              "      <td>0.999922</td>\n",
              "    </tr>\n",
              "  </tbody>\n",
              "</table>\n",
              "</div>"
            ],
            "text/plain": [
              "      order_id  address_id  service_area_id  customer_id customer_phone_no  \\\n",
              "889     663758      103769            10034       109652     +923111230470   \n",
              "3704    586741       83810            10027       135714     +923332509765   \n",
              "1928    639465      100563            10023       167184     +923242330040   \n",
              "2200    632868       95640            10046        39330     +923330222952   \n",
              "1326    655020      102657            10053       139978     +923342403762   \n",
              "\n",
              "           aceepted_time             Time  recency_percential  frequency  \\\n",
              "889  2021-06-27 18:00:16 41 days 03:21:45            0.934368          1   \n",
              "3704 2021-05-25 17:14:02 74 days 04:07:59            0.762950          1   \n",
              "1928 2021-06-15 16:33:48 53 days 04:48:13            0.868836          1   \n",
              "2200 2021-06-11 21:32:21 56 days 23:49:40            0.852466          1   \n",
              "1326 2021-06-22 20:14:58 46 days 01:07:03            0.907374          1   \n",
              "\n",
              "      freq_percential  Total_Percential  Total_Percential_2    Mentory  \\\n",
              "889          0.776954          0.725961           98.262688     2432.0   \n",
              "3704         0.776954          0.592777           92.761525  2009999.0   \n",
              "1928         0.776954          0.675045           96.232241     3310.0   \n",
              "2200         0.776954          0.662326           95.700690     3375.0   \n",
              "1326         0.776954          0.704988           97.408689     2200.0   \n",
              "\n",
              "      montery_Percential  Total_Percential_4  Total_Percential_3  \n",
              "889             0.835291            0.606389            1.000000  \n",
              "3704            0.999491            0.592475            0.999980  \n",
              "1928            0.876870            0.591927            0.999961  \n",
              "2200            0.879357            0.582421            0.999941  \n",
              "1326            0.819666            0.577855            0.999922  "
            ]
          },
          "metadata": {
            "tags": []
          },
          "execution_count": 207
        }
      ]
    },
    {
      "cell_type": "code",
      "metadata": {
        "colab": {
          "base_uri": "https://localhost:8080/"
        },
        "id": "2CgtLKqri3Vv",
        "outputId": "a232bcf7-f126-4e35-bd04-1b781a9fcd49"
      },
      "source": [
        "recency_frequecy_mentory_data.shape"
      ],
      "execution_count": null,
      "outputs": [
        {
          "output_type": "execute_result",
          "data": {
            "text/plain": [
              "(51171, 16)"
            ]
          },
          "metadata": {
            "tags": []
          },
          "execution_count": 208
        }
      ]
    },
    {
      "cell_type": "code",
      "metadata": {
        "colab": {
          "base_uri": "https://localhost:8080/",
          "height": 117
        },
        "id": "JtDaFtKRiqso",
        "outputId": "8e393e3b-c077-4f34-c4de-d5d8a68db805"
      },
      "source": [
        "recency_frequecy_mentory_data[recency_frequecy_mentory_data['customer_id']==165036]"
      ],
      "execution_count": null,
      "outputs": [
        {
          "output_type": "execute_result",
          "data": {
            "text/html": [
              "<div>\n",
              "<style scoped>\n",
              "    .dataframe tbody tr th:only-of-type {\n",
              "        vertical-align: middle;\n",
              "    }\n",
              "\n",
              "    .dataframe tbody tr th {\n",
              "        vertical-align: top;\n",
              "    }\n",
              "\n",
              "    .dataframe thead th {\n",
              "        text-align: right;\n",
              "    }\n",
              "</style>\n",
              "<table border=\"1\" class=\"dataframe\">\n",
              "  <thead>\n",
              "    <tr style=\"text-align: right;\">\n",
              "      <th></th>\n",
              "      <th>order_id</th>\n",
              "      <th>address_id</th>\n",
              "      <th>service_area_id</th>\n",
              "      <th>customer_id</th>\n",
              "      <th>customer_phone_no</th>\n",
              "      <th>aceepted_time</th>\n",
              "      <th>Time</th>\n",
              "      <th>recency_percential</th>\n",
              "      <th>frequency</th>\n",
              "      <th>freq_percential</th>\n",
              "      <th>Total_Percential</th>\n",
              "      <th>Total_Percential_2</th>\n",
              "      <th>Mentory</th>\n",
              "      <th>montery_Percential</th>\n",
              "      <th>Total_Percential_4</th>\n",
              "      <th>Total_Percential_3</th>\n",
              "    </tr>\n",
              "  </thead>\n",
              "  <tbody>\n",
              "    <tr>\n",
              "      <th>51169</th>\n",
              "      <td>780080</td>\n",
              "      <td>104635</td>\n",
              "      <td>22</td>\n",
              "      <td>165036</td>\n",
              "      <td>+923116589868</td>\n",
              "      <td>2021-08-07 18:38:53</td>\n",
              "      <td>0 days 02:43:08</td>\n",
              "      <td>0.021499</td>\n",
              "      <td>201</td>\n",
              "      <td>0.000078</td>\n",
              "      <td>0.000002</td>\n",
              "      <td>0.003908</td>\n",
              "      <td>142260.0</td>\n",
              "      <td>0.999256</td>\n",
              "      <td>0.000002</td>\n",
              "      <td>0.000059</td>\n",
              "    </tr>\n",
              "  </tbody>\n",
              "</table>\n",
              "</div>"
            ],
            "text/plain": [
              "       order_id  address_id  service_area_id  customer_id customer_phone_no  \\\n",
              "51169    780080      104635               22       165036     +923116589868   \n",
              "\n",
              "            aceepted_time            Time  recency_percential  frequency  \\\n",
              "51169 2021-08-07 18:38:53 0 days 02:43:08            0.021499        201   \n",
              "\n",
              "       freq_percential  Total_Percential  Total_Percential_2   Mentory  \\\n",
              "51169         0.000078          0.000002            0.003908  142260.0   \n",
              "\n",
              "       montery_Percential  Total_Percential_4  Total_Percential_3  \n",
              "51169            0.999256            0.000002            0.000059  "
            ]
          },
          "metadata": {
            "tags": []
          },
          "execution_count": 209
        }
      ]
    },
    {
      "cell_type": "code",
      "metadata": {
        "id": "PaKc57dOp0kI"
      },
      "source": [
        "cursors3=connection.cursor()\n",
        "cursors3.execute(\"\"\"\n",
        "select\n",
        "BuddyData.IdServiceArea,\n",
        "ABS(sum(if(BuddyData.status = 1,1,0))) as OnlineBuddy,\n",
        "ABS(sum(if(BuddyData.status = 2,1,0)))as Offlinebuddy,\n",
        "ABS(sum(if(BuddyData.status = 3,1,0))) as OnJob\n",
        "from\n",
        "(\n",
        "\tselect buddy.status,bsa.service_area_id as 'IdServiceArea'\n",
        "\tfrom buddy\n",
        "\tleft join buddy_service_areas bsa on buddy.id = bsa.buddy_id\n",
        ")as BuddyData\n",
        "group by 1;\"\"\")\n",
        "rows3=cursors3.fetchall()\n",
        "data3=pd.DataFrame(rows3)\n",
        "arra=[]\n",
        "for col in range(0,len(data3.columns)):\n",
        "  arra.append(cursors3.description[col][0])\n",
        "\n",
        "data3.columns=arra"
      ],
      "execution_count": null,
      "outputs": []
    },
    {
      "cell_type": "code",
      "metadata": {
        "id": "xLlgyRNjXezG"
      },
      "source": [
        "data3.dropna(inplace=True)\n",
        "Area=data3[data3['OnlineBuddy']>0]\n",
        "Area['Invite']=Area['OnlineBuddy']*100/5"
      ],
      "execution_count": null,
      "outputs": []
    },
    {
      "cell_type": "code",
      "metadata": {
        "id": "pUPloOu1ZrPH"
      },
      "source": [
        "Area"
      ],
      "execution_count": null,
      "outputs": []
    },
    {
      "cell_type": "code",
      "metadata": {
        "id": "1TOa1-IMdPbh"
      },
      "source": [],
      "execution_count": null,
      "outputs": []
    },
    {
      "cell_type": "code",
      "metadata": {
        "id": "QcY-M6uuZxXE"
      },
      "source": [
        "temp={}\n",
        "i=0\n",
        "for x in Area['IdServiceArea']:\n",
        "  inverUserCount=int(Area[Area['IdServiceArea']==x]['Invite'])\n",
        "  temp[i]=pd.DataFrame(recency_frequecy_data2[(recency_frequecy_data2['service_area_id']==x)].head(inverUserCount))\n",
        "  i=i+1\n"
      ],
      "execution_count": null,
      "outputs": []
    },
    {
      "cell_type": "code",
      "metadata": {
        "id": "9Op-T2Zbeqsa"
      },
      "source": [
        "temp[0]"
      ],
      "execution_count": null,
      "outputs": []
    },
    {
      "cell_type": "code",
      "metadata": {
        "id": "m2SlaRhw3s-N"
      },
      "source": [],
      "execution_count": null,
      "outputs": []
    }
  ]
}