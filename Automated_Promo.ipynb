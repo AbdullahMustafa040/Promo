{
  "cells": [
    {
      "cell_type": "markdown",
      "metadata": {
        "id": "ZPEDDfSilrdc"
      },
      "source": [
        "# Import"
      ]
    },
    {
      "cell_type": "code",
      "execution_count": null,
      "metadata": {
        "colab": {
          "base_uri": "https://localhost:8080/"
        },
        "id": "RjnZtzGKqCMi",
        "outputId": "86f368ee-56bb-4b2e-94c5-6b1119eaacc9"
      },
      "outputs": [
        {
          "name": "stdout",
          "output_type": "stream",
          "text": [
            "Requirement already satisfied: pymysql in /usr/local/lib/python3.7/dist-packages (1.0.2)\n",
            "Requirement already satisfied: requests in /usr/local/lib/python3.7/dist-packages (2.23.0)\n",
            "Requirement already satisfied: certifi>=2017.4.17 in /usr/local/lib/python3.7/dist-packages (from requests) (2021.5.30)\n",
            "Requirement already satisfied: idna<3,>=2.5 in /usr/local/lib/python3.7/dist-packages (from requests) (2.10)\n",
            "Requirement already satisfied: urllib3!=1.25.0,!=1.25.1,<1.26,>=1.21.1 in /usr/local/lib/python3.7/dist-packages (from requests) (1.24.3)\n",
            "Requirement already satisfied: chardet<4,>=3.0.2 in /usr/local/lib/python3.7/dist-packages (from requests) (3.0.4)\n"
          ]
        }
      ],
      "source": [
        "!pip install pymysql\n",
        "!pip install requests\n",
        "\n",
        "import pymysql #Mysql\n",
        "import pandas as pd #Dataframe Operation\n",
        "import numpy as np #calculation\n",
        "import matplotlib.pyplot as plt #ploting\n",
        "from datetime import date #date\n",
        "import datetime\n",
        "import seaborn as sns  #ploting\n",
        "from datetime import datetime\n",
        "from itertools import chain\n",
        "import requests\n",
        "import json\n",
        "from decimal import Decimal\n",
        "\n",
        "from datetime import datetime,timedelta\n",
        "e='RDS link'\n",
        "u='user name'\n",
        "p='password'\n",
        "db='daatabase LINK'\n",
        "connection=pymysql.connect(host=e,user=u,passwd=p,db=db)"
      ]
    },
    {
      "cell_type": "code",
      "execution_count": null,
      "metadata": {
        "colab": {
          "base_uri": "https://localhost:8080/"
        },
        "id": "BT7Za3a7sS3w",
        "outputId": "8e040f7a-0d3a-4afe-9aef-ef75589d0f50"
      },
      "outputs": [
        {
          "name": "stdout",
          "output_type": "stream",
          "text": [
            "Enter the Conv % : 0.5\n"
          ]
        }
      ],
      "source": [
        "per=input(\"Enter the Conv % : \")\n",
        "per=Decimal(per)"
      ]
    },
    {
      "cell_type": "code",
      "execution_count": null,
      "metadata": {
        "id": "UTjWIslFKiLA"
      },
      "outputs": [],
      "source": [
        "per=Decimal(per)"
      ]
    },
    {
      "cell_type": "code",
      "execution_count": null,
      "metadata": {
        "colab": {
          "base_uri": "https://localhost:8080/",
          "height": 802
        },
        "id": "aVdoIarZrSnM",
        "outputId": "7bca94eb-3de3-451f-aec9-f2715ff4e7ba"
      },
      "outputs": [
        {
          "name": "stderr",
          "output_type": "stream",
          "text": [
            "/usr/local/lib/python3.7/dist-packages/ipykernel_launcher.py:34: SettingWithCopyWarning: \n",
            "A value is trying to be set on a copy of a slice from a DataFrame.\n",
            "Try using .loc[row_indexer,col_indexer] = value instead\n",
            "\n",
            "See the caveats in the documentation: https://pandas.pydata.org/pandas-docs/stable/user_guide/indexing.html#returning-a-view-versus-a-copy\n",
            "/usr/local/lib/python3.7/dist-packages/ipykernel_launcher.py:37: SettingWithCopyWarning: \n",
            "A value is trying to be set on a copy of a slice from a DataFrame.\n",
            "Try using .loc[row_indexer,col_indexer] = value instead\n",
            "\n",
            "See the caveats in the documentation: https://pandas.pydata.org/pandas-docs/stable/user_guide/indexing.html#returning-a-view-versus-a-copy\n"
          ]
        },
        {
          "data": {
            "text/html": [
              "<div>\n",
              "<style scoped>\n",
              "    .dataframe tbody tr th:only-of-type {\n",
              "        vertical-align: middle;\n",
              "    }\n",
              "\n",
              "    .dataframe tbody tr th {\n",
              "        vertical-align: top;\n",
              "    }\n",
              "\n",
              "    .dataframe thead th {\n",
              "        text-align: right;\n",
              "    }\n",
              "</style>\n",
              "<table border=\"1\" class=\"dataframe\">\n",
              "  <thead>\n",
              "    <tr style=\"text-align: right;\">\n",
              "      <th></th>\n",
              "      <th>level_0</th>\n",
              "      <th>index</th>\n",
              "      <th>Zone</th>\n",
              "      <th>service_area_name</th>\n",
              "      <th>FreeBuddies</th>\n",
              "      <th>Offlinebuddy</th>\n",
              "      <th>OnJob</th>\n",
              "      <th>Invite</th>\n",
              "    </tr>\n",
              "  </thead>\n",
              "  <tbody>\n",
              "    <tr>\n",
              "      <th>0</th>\n",
              "      <td>0</td>\n",
              "      <td>6</td>\n",
              "      <td>10058</td>\n",
              "      <td>Gulshan -1</td>\n",
              "      <td>2</td>\n",
              "      <td>16</td>\n",
              "      <td>0</td>\n",
              "      <td>400.0</td>\n",
              "    </tr>\n",
              "    <tr>\n",
              "      <th>1</th>\n",
              "      <td>1</td>\n",
              "      <td>7</td>\n",
              "      <td>10059</td>\n",
              "      <td>Gulshan 2</td>\n",
              "      <td>7</td>\n",
              "      <td>28</td>\n",
              "      <td>0</td>\n",
              "      <td>1400.0</td>\n",
              "    </tr>\n",
              "    <tr>\n",
              "      <th>2</th>\n",
              "      <td>2</td>\n",
              "      <td>8</td>\n",
              "      <td>10060</td>\n",
              "      <td>Gulshan -3</td>\n",
              "      <td>7</td>\n",
              "      <td>25</td>\n",
              "      <td>0</td>\n",
              "      <td>1400.0</td>\n",
              "    </tr>\n",
              "    <tr>\n",
              "      <th>3</th>\n",
              "      <td>3</td>\n",
              "      <td>9</td>\n",
              "      <td>10061</td>\n",
              "      <td>Gulshan 4</td>\n",
              "      <td>6</td>\n",
              "      <td>23</td>\n",
              "      <td>0</td>\n",
              "      <td>1200.0</td>\n",
              "    </tr>\n",
              "    <tr>\n",
              "      <th>4</th>\n",
              "      <td>4</td>\n",
              "      <td>10</td>\n",
              "      <td>10023</td>\n",
              "      <td>PECHS - Naheed Supermarket</td>\n",
              "      <td>10</td>\n",
              "      <td>35</td>\n",
              "      <td>3</td>\n",
              "      <td>2000.0</td>\n",
              "    </tr>\n",
              "    <tr>\n",
              "      <th>5</th>\n",
              "      <td>5</td>\n",
              "      <td>11</td>\n",
              "      <td>10026</td>\n",
              "      <td>Shell Embassy Inn (Model)</td>\n",
              "      <td>10</td>\n",
              "      <td>36</td>\n",
              "      <td>3</td>\n",
              "      <td>2000.0</td>\n",
              "    </tr>\n",
              "    <tr>\n",
              "      <th>6</th>\n",
              "      <td>6</td>\n",
              "      <td>12</td>\n",
              "      <td>10053</td>\n",
              "      <td>PECHS - AKU &amp; KDA</td>\n",
              "      <td>10</td>\n",
              "      <td>32</td>\n",
              "      <td>3</td>\n",
              "      <td>2000.0</td>\n",
              "    </tr>\n",
              "    <tr>\n",
              "      <th>7</th>\n",
              "      <td>7</td>\n",
              "      <td>13</td>\n",
              "      <td>10057</td>\n",
              "      <td>PECHS - Shahrae Qaideen</td>\n",
              "      <td>1</td>\n",
              "      <td>0</td>\n",
              "      <td>0</td>\n",
              "      <td>200.0</td>\n",
              "    </tr>\n",
              "    <tr>\n",
              "      <th>8</th>\n",
              "      <td>8</td>\n",
              "      <td>14</td>\n",
              "      <td>26</td>\n",
              "      <td>Soldier Bazar - Pick &amp; Save Supermarket</td>\n",
              "      <td>7</td>\n",
              "      <td>54</td>\n",
              "      <td>10</td>\n",
              "      <td>1400.0</td>\n",
              "    </tr>\n",
              "    <tr>\n",
              "      <th>9</th>\n",
              "      <td>9</td>\n",
              "      <td>15</td>\n",
              "      <td>10017</td>\n",
              "      <td>Saddar Area</td>\n",
              "      <td>1</td>\n",
              "      <td>36</td>\n",
              "      <td>4</td>\n",
              "      <td>200.0</td>\n",
              "    </tr>\n",
              "    <tr>\n",
              "      <th>10</th>\n",
              "      <td>10</td>\n",
              "      <td>16</td>\n",
              "      <td>10027</td>\n",
              "      <td>Garden - Garden &amp; Diamond Supermarket</td>\n",
              "      <td>1</td>\n",
              "      <td>47</td>\n",
              "      <td>8</td>\n",
              "      <td>200.0</td>\n",
              "    </tr>\n",
              "    <tr>\n",
              "      <th>11</th>\n",
              "      <td>11</td>\n",
              "      <td>17</td>\n",
              "      <td>10043</td>\n",
              "      <td>Ranchorline</td>\n",
              "      <td>1</td>\n",
              "      <td>39</td>\n",
              "      <td>6</td>\n",
              "      <td>200.0</td>\n",
              "    </tr>\n",
              "    <tr>\n",
              "      <th>12</th>\n",
              "      <td>12</td>\n",
              "      <td>18</td>\n",
              "      <td>10044</td>\n",
              "      <td>Shell - Soldier Bazar</td>\n",
              "      <td>1</td>\n",
              "      <td>44</td>\n",
              "      <td>8</td>\n",
              "      <td>200.0</td>\n",
              "    </tr>\n",
              "    <tr>\n",
              "      <th>13</th>\n",
              "      <td>13</td>\n",
              "      <td>24</td>\n",
              "      <td>22</td>\n",
              "      <td>Gulshan-e-Iqbal-3</td>\n",
              "      <td>1</td>\n",
              "      <td>12</td>\n",
              "      <td>0</td>\n",
              "      <td>200.0</td>\n",
              "    </tr>\n",
              "    <tr>\n",
              "      <th>14</th>\n",
              "      <td>14</td>\n",
              "      <td>25</td>\n",
              "      <td>10051</td>\n",
              "      <td>Nazimabad Larger Zone</td>\n",
              "      <td>3</td>\n",
              "      <td>22</td>\n",
              "      <td>5</td>\n",
              "      <td>600.0</td>\n",
              "    </tr>\n",
              "    <tr>\n",
              "      <th>15</th>\n",
              "      <td>15</td>\n",
              "      <td>33</td>\n",
              "      <td>10002</td>\n",
              "      <td>Nazimabad &amp; Liaqtabad</td>\n",
              "      <td>1</td>\n",
              "      <td>11</td>\n",
              "      <td>4</td>\n",
              "      <td>200.0</td>\n",
              "    </tr>\n",
              "    <tr>\n",
              "      <th>16</th>\n",
              "      <td>16</td>\n",
              "      <td>36</td>\n",
              "      <td>10034</td>\n",
              "      <td>North Karachi &amp; Bufferzone</td>\n",
              "      <td>2</td>\n",
              "      <td>18</td>\n",
              "      <td>5</td>\n",
              "      <td>400.0</td>\n",
              "    </tr>\n",
              "    <tr>\n",
              "      <th>17</th>\n",
              "      <td>17</td>\n",
              "      <td>37</td>\n",
              "      <td>10052</td>\n",
              "      <td>North Nazimabad &amp; FB Area</td>\n",
              "      <td>6</td>\n",
              "      <td>29</td>\n",
              "      <td>5</td>\n",
              "      <td>1200.0</td>\n",
              "    </tr>\n",
              "    <tr>\n",
              "      <th>18</th>\n",
              "      <td>18</td>\n",
              "      <td>41</td>\n",
              "      <td>10038</td>\n",
              "      <td>FB Area Larger Zone</td>\n",
              "      <td>4</td>\n",
              "      <td>18</td>\n",
              "      <td>3</td>\n",
              "      <td>800.0</td>\n",
              "    </tr>\n",
              "  </tbody>\n",
              "</table>\n",
              "</div>"
            ],
            "text/plain": [
              "    level_0  index   Zone  ... Offlinebuddy OnJob  Invite\n",
              "0         0      6  10058  ...           16     0   400.0\n",
              "1         1      7  10059  ...           28     0  1400.0\n",
              "2         2      8  10060  ...           25     0  1400.0\n",
              "3         3      9  10061  ...           23     0  1200.0\n",
              "4         4     10  10023  ...           35     3  2000.0\n",
              "5         5     11  10026  ...           36     3  2000.0\n",
              "6         6     12  10053  ...           32     3  2000.0\n",
              "7         7     13  10057  ...            0     0   200.0\n",
              "8         8     14     26  ...           54    10  1400.0\n",
              "9         9     15  10017  ...           36     4   200.0\n",
              "10       10     16  10027  ...           47     8   200.0\n",
              "11       11     17  10043  ...           39     6   200.0\n",
              "12       12     18  10044  ...           44     8   200.0\n",
              "13       13     24     22  ...           12     0   200.0\n",
              "14       14     25  10051  ...           22     5   600.0\n",
              "15       15     33  10002  ...           11     4   200.0\n",
              "16       16     36  10034  ...           18     5   400.0\n",
              "17       17     37  10052  ...           29     5  1200.0\n",
              "18       18     41  10038  ...           18     3   800.0\n",
              "\n",
              "[19 rows x 8 columns]"
            ]
          },
          "execution_count": 19,
          "metadata": {},
          "output_type": "execute_result"
        }
      ],
      "source": [
        "cursors3=connection.cursor()\n",
        "cursors3.execute(\"\"\"\n",
        "select\n",
        "BuddyData.Zone,\n",
        "sename As service_area_name,\n",
        "ABS(sum(if(BuddyData.status = 1,1,0))) as FreeBuddies,\n",
        "ABS(sum(if(BuddyData.status = 2,1,0)))as Offlinebuddy,\n",
        "ABS(sum(if(BuddyData.status = 3,1,0))) as OnJob\n",
        "from\n",
        "(\n",
        "\tselect buddy.status,service_area.name as sename,bsa.service_area_id as 'Zone'\n",
        "\tfrom buddy\n",
        "\tleft join buddy_service_areas bsa\n",
        "    on buddy.id = bsa.buddy_id\n",
        "    left join user\n",
        "    on user.id = buddy.user_id\n",
        "    left join service_area\n",
        "    on bsa.service_area_id = service_area.id\n",
        "\n",
        "    where user.is_active=1 and user.role_id=5\n",
        ")as BuddyData where zone is  not null\n",
        "group by 1;\n",
        "\n",
        "\"\"\")\n",
        "rows3=cursors3.fetchall()\n",
        "data3=pd.DataFrame(rows3)\n",
        "arra=[]\n",
        "for col in range(0,len(data3.columns)):\n",
        "  arra.append(cursors3.description[col][0])\n",
        "\n",
        "data3.columns=arra\n",
        "data3.dropna(inplace=True)\n",
        "Area=data3[data3['FreeBuddies']>0]\n",
        "Area['Invite']=Area['FreeBuddies']*100/per\n",
        "Area.reset_index(inplace=True)\n",
        "Area.reset_index(inplace=True)\n",
        "Area['Invite']=Area['Invite'].astype('float')\n",
        "Area"
      ]
    },
    {
      "cell_type": "code",
      "execution_count": null,
      "metadata": {
        "colab": {
          "base_uri": "https://localhost:8080/"
        },
        "id": "ekWHqGxHuKB_",
        "outputId": "5a809411-ad30-4338-c948-c2261ad5828b"
      },
      "outputs": [
        {
          "name": "stdout",
          "output_type": "stream",
          "text": [
            "Total User will get Promo :  16200.0\n"
          ]
        }
      ],
      "source": [
        "print(\"Total User will get Promo : \",Area['Invite'].sum())"
      ]
    },
    {
      "cell_type": "markdown",
      "metadata": {
        "id": "0eKhBopDlx7u"
      },
      "source": [
        "# Fields"
      ]
    },
    {
      "cell_type": "code",
      "execution_count": null,
      "metadata": {
        "id": "_aCTbS35yRhQ"
      },
      "outputs": [],
      "source": [
        "Code = 'HAPPYSNACKING' #@param {type:\"string\"}\n",
        "Title = 'Extra snacking TODAY!' #@param {type:\"string\"}\n",
        "Description = 'Use code HAPPYSNACKING and get 30% off on all snacks' #@param {type:\"string\"}\n",
        "Next_Hours = '2' #@param {type:\"string\"}\n",
        "Discount_Percentage = '30' #@param {type:\"string\"}\n",
        "Minimum_Order_Amount = '200' #@param {type:\"string\"}\n",
        "max_Discount_Per_Order = '150' #@param {type:\"string\"}\n",
        "Max_Promo_Code_Usage_Count = '1000' #@param {type:\"string\"}\n",
        "Max_Promo_Code_Usage_Count_per_user = '1' #@param {type:\"string\"}\n",
        "title = 'Extra snacking TODAY!' #@param {type:\"string\"}\n",
        "body = 'Use code HAPPYSNACKING and get 30% off on all snacks' #@param {type:\"string\"}\n",
        "name = 'SNACKS' #@param {type:\"string\"}\n",
        "\n"
      ]
    },
    {
      "cell_type": "markdown",
      "metadata": {
        "id": "LxRbK6Ryl41w"
      },
      "source": [
        "# Trigger"
      ]
    },
    {
      "cell_type": "code",
      "execution_count": null,
      "metadata": {
        "id": "RksIyRE6LxXG"
      },
      "outputs": [],
      "source": [
        "def Run():\n",
        "  cursors2=connection.cursor()\n",
        "  cursors2.execute(\"\"\"\n",
        "  select *,CONVERT_TZ(orders.accepted_at, '+00:00', '+5:00') As accepted_at_P from orders\n",
        "  inner join address\n",
        "  on orders.address_id=address.id\n",
        "  inner join service_area\n",
        "  on address.service_area_id=service_area.id\n",
        "  where is_order_fake=0 and orders.status=9;\"\"\")\n",
        "  rows2=cursors2.fetchall()\n",
        "  data2=pd.DataFrame(rows2)\n",
        "  arra1=[]\n",
        "  for col in range(0,len(data2.columns)):\n",
        "    arra1.append(cursors2.description[col][0])\n",
        "  arra1[5]='order_status'\n",
        "  arra1[72]='area_id'\n",
        "  data2.columns=arra1\n",
        "  cursors2=connection.cursor()\n",
        "  cursors2.execute(\"\"\"\n",
        "  select *,CONVERT_TZ(user.created_at, '+00:00', '+5:00') As created_at_p\n",
        "  from user\n",
        "  inner join address\n",
        "  on user.id=address.user_id\n",
        "  inner join service_area\n",
        "  on address.service_area_id=service_area.id\n",
        "  where user.role_id=3 and user.id not in (select customer_id from orders) and CONVERT_TZ(user.created_at, '+00:00', '+5:00')<  now() - interval 24 hour;\n",
        "  \"\"\")\n",
        "  rows2=cursors2.fetchall()\n",
        "  user_never_order=pd.DataFrame(rows2)\n",
        "  arra1=[]\n",
        "  for col in range(0,len(user_never_order.columns)):\n",
        "    arra1.append(cursors2.description[col][0])\n",
        "  user_never_order.columns=arra1\n",
        "  user_never_order['Time']=datetime.now()-user_never_order['created_at_p']\n",
        "\n",
        "  user_never_order['percential']=user_never_order['Time'].rank(pct=True,ascending=False)\n",
        "  user_never_order.sort_values('percential',inplace=True,ascending=False)\n",
        "  complete=data2[data2['order_status']==9]\n",
        "  complete.dropna(axis=0,subset=['accepted_at'],inplace=True)\n",
        "  max_date = max(complete['accepted_at_P'])\n",
        "  complete['Time']=max_date-complete['accepted_at_P']\n",
        "  User_recency=complete.loc[complete.groupby(\"customer_id\")[\"Time\"].idxmin()]\n",
        "  fisrt_thirty_data=User_recency[User_recency['Time']<='30 days']\n",
        "  fisrt_thirty_data['Percential']=fisrt_thirty_data['Time'].rank(pct=True)\n",
        "  fisrt_thirty_data['rececy_Percential']=fisrt_thirty_data['Time'].rank(pct=True)\n",
        "  #Frequency of all user:\n",
        "  complete2=data2[data2['order_status']==9]\n",
        "  complete2.dropna(axis=0,subset=['accepted_at'],inplace=True)\n",
        "  complete2['freq'] = complete2.groupby('customer_id')['total'].transform('count')\n",
        "  frquency_data=complete2\n",
        "  frquency_data.drop_duplicates(subset =\"customer_id\",keep = 'first', inplace = True)\n",
        "  frquency_data.sort_values('freq',inplace=True)\n",
        "  recency_frequecy_data = pd.merge(left=fisrt_thirty_data, right=frquency_data, how='inner', left_on='customer_id', right_on='customer_id')\n",
        "  recency_frequecy_data['Percential_freq']=recency_frequecy_data['freq'].rank(pct=True,ascending=False)\n",
        "  recency_frequecy_data['reatation Time']=recency_frequecy_data['Time']\n",
        "  recency_frequecy_data['reatation Percential']=recency_frequecy_data['Percential']\n",
        "  recency_frequecy_data['freq User']=recency_frequecy_data['freq']\n",
        "  recency_frequecy_data['frequency percential']=recency_frequecy_data['Percential_freq']\n",
        "  recency_frequecy_data['Final Percential']=recency_frequecy_data['reatation Percential']*0.8+recency_frequecy_data['frequency percential']*0.20\n",
        "  recency_frequecy_data.sort_values('Final Percential',inplace=True,ascending=False)\n",
        "  above_thirty=User_recency[User_recency['Time']>'30 days']\n",
        "  above_thirty['Percential']=above_thirty['Time'].rank(pct=True,ascending=False)\n",
        "  reactivation_frequency = pd.merge(left=above_thirty, right=frquency_data, how='inner', left_on='customer_id', right_on='customer_id')\n",
        "  reactivation_frequency['Percential_freq']=reactivation_frequency['freq'].rank(pct=True,ascending=True)\n",
        "  reactivation_frequency['reatation Time']=reactivation_frequency['Time']\n",
        "  reactivation_frequency['reatation Percential']=reactivation_frequency['Percential']\n",
        "  reactivation_frequency['freq User']=reactivation_frequency['freq']\n",
        "  reactivation_frequency['frequency percential']=reactivation_frequency['Percential_freq']\n",
        "  reactivation_frequency['Final Percential']=reactivation_frequency['reatation Percential']*0.50+reactivation_frequency['frequency percential']*0.50\n",
        "  reactivation_frequency.sort_values('Final Percential',inplace=True,ascending=False)\n",
        "  user_never_order.columns=['customer_id', 'user_uuid', 'name', 'email', 'phone', 'role_id', 'locale_id','created_at', 'updated_at', 'password', 'is_active', 'avatar','phone_verified', 'device_token', 'sign_up_type', 'is_password_set','balance', 'organization_id', 'signup_discount_count', 'device_type','device_id', 'social_account_id', 'is_email_invitation_received','is_email_verified', 'inactive_comment', 'inactive_reason_id', 'id','user_id', 'location_name', 'poi', 'address', 'city_id', 'latitude','longitude', 'status', 'additional_details', 'service_area_id','created_at', 'updated_at', 'updated_by', 'created_by', 'id', 'name','city_id', 'geofence', 'is_active', 'dispatch_algo_id','dispatch_radius', 'sort_type', 'operational_time_msg', 'created_at','updated_at', 'created_by', 'updated_by', 'area_id', 'created_at_p','Time', 'percential']\n",
        "  retained_user_cohort=0.45\n",
        "  reactivated_user_cohort=0.45\n",
        "  new_user_cohort=0.10\n",
        "  Retention_reactivation={}\n",
        "  new_user={}\n",
        "  i=0\n",
        "  recency_frequecy_data_log={}\n",
        "  reactivation_frequency_log={}\n",
        "  df=pd.DataFrame()\n",
        "  for x in Area['Zone']:\n",
        "    inverUserCount=int(float(Area[Area['Zone']==x]['Invite'])*retained_user_cohort)\n",
        "    a=pd.DataFrame(recency_frequecy_data[(recency_frequecy_data['service_area_id_y']==x)].head(inverUserCount))\n",
        "    inverUserCount=int(float(Area[Area['Zone']==x]['Invite'])*reactivated_user_cohort)\n",
        "    b=pd.DataFrame(reactivation_frequency[(reactivation_frequency['service_area_id_y']==x)].head(inverUserCount))\n",
        "    inverUserCount=int(float(Area[Area['Zone']==x]['Invite'])*new_user_cohort)\n",
        "    c=pd.DataFrame(user_never_order[(user_never_order['service_area_id']==x)].head(inverUserCount))\n",
        "    recency_frequecy_data_log[i]=pd.DataFrame(a)\n",
        "    reactivation_frequency_log[i]=pd.DataFrame(b)\n",
        "\n",
        "\n",
        "    new_user[i]=pd.DataFrame(c)\n",
        "    i=i+1\n",
        "  retentionData=pd.DataFrame()\n",
        "  reactivationData=pd.DataFrame()\n",
        "  NewUserData=pd.DataFrame()\n",
        "\n",
        "  for x in range(0,i):\n",
        "    #print(x)\n",
        "    df2=pd.DataFrame(recency_frequecy_data_log[x]['customer_id'])\n",
        "    df3=pd.DataFrame(reactivation_frequency_log[x]['customer_id'])\n",
        "    df1=pd.DataFrame(new_user[x]['customer_id'])\n",
        "    #df1.rename(columns={'id': 'customer_id'})\n",
        "    retentionData=retentionData.append(df2)\n",
        "    reactivationData=reactivationData.append(df3)\n",
        "    NewUserData=NewUserData.append(df1)\n",
        "    df=df.append(df1)\n",
        "    df=df.append(df2)\n",
        "    df=df.append(df3)\n",
        "\n",
        "  df=df.reset_index(drop=True)\n"
      ]
    },
    {
      "cell_type": "code",
      "execution_count": null,
      "metadata": {
        "colab": {
          "base_uri": "https://localhost:8080/",
          "height": 162
        },
        "id": "eqQCJLXCO-nb",
        "outputId": "3ea2753f-5ed4-4f28-df09-6faa98c2bdff"
      },
      "outputs": [
        {
          "ename": "NameError",
          "evalue": "ignored",
          "output_type": "error",
          "traceback": [
            "\u001b[0;31m---------------------------------------------------------------------------\u001b[0m",
            "\u001b[0;31mNameError\u001b[0m                                 Traceback (most recent call last)",
            "\u001b[0;32m<ipython-input-28-00cf07b74dcd>\u001b[0m in \u001b[0;36m<module>\u001b[0;34m()\u001b[0m\n\u001b[0;32m----> 1\u001b[0;31m \u001b[0mdf\u001b[0m\u001b[0;34m\u001b[0m\u001b[0;34m\u001b[0m\u001b[0m\n\u001b[0m",
            "\u001b[0;31mNameError\u001b[0m: name 'df' is not defined"
          ]
        }
      ],
      "source": [
        "df"
      ]
    },
    {
      "cell_type": "code",
      "execution_count": null,
      "metadata": {
        "id": "tgJfoqBE-Cll"
      },
      "outputs": [],
      "source": [
        "retentionData=pd.DataFrame()\n",
        "reactivationData=pd.DataFrame()\n",
        "NewUserData=pd.DataFrame()\n",
        "\n",
        "retentionData.to_csv('retentionData.csv')\n",
        "!cp retentionData.csv \"drive/My Drive/\"\n",
        "reactivationData.to_csv('reactivationData.csv')\n",
        "!cp reactivationData.csv \"drive/My Drive/\"\n",
        "NewUserData.to_csv('NewUserData.csv')\n",
        "!cp NewUserData.csv \"drive/My Drive/\""
      ]
    },
    {
      "cell_type": "code",
      "execution_count": null,
      "metadata": {
        "colab": {
          "base_uri": "https://localhost:8080/",
          "height": 162
        },
        "id": "pmb9FpatN6Lr",
        "outputId": "50bc1597-7831-47e4-d366-0d2567ab9508"
      },
      "outputs": [
        {
          "ename": "NameError",
          "evalue": "ignored",
          "output_type": "error",
          "traceback": [
            "\u001b[0;31m---------------------------------------------------------------------------\u001b[0m",
            "\u001b[0;31mNameError\u001b[0m                                 Traceback (most recent call last)",
            "\u001b[0;32m<ipython-input-26-ff3ab4be34eb>\u001b[0m in \u001b[0;36m<module>\u001b[0;34m()\u001b[0m\n\u001b[0;32m----> 1\u001b[0;31m \u001b[0mreactivation_frequency_log\u001b[0m\u001b[0;34m[\u001b[0m\u001b[0;36m1\u001b[0m\u001b[0;34m]\u001b[0m\u001b[0;34m.\u001b[0m\u001b[0mshape\u001b[0m\u001b[0;34m\u001b[0m\u001b[0;34m\u001b[0m\u001b[0m\n\u001b[0m",
            "\u001b[0;31mNameError\u001b[0m: name 'reactivation_frequency_log' is not defined"
          ]
        }
      ],
      "source": [
        "reactivation_frequency_log[1].shape"
      ]
    },
    {
      "cell_type": "code",
      "execution_count": null,
      "metadata": {
        "colab": {
          "base_uri": "https://localhost:8080/"
        },
        "id": "TIGbMayVOQHL",
        "outputId": "5aaea89b-b441-4f6a-dd87-fd630c3371b1"
      },
      "outputs": [
        {
          "name": "stdout",
          "output_type": "stream",
          "text": [
            "Mounted at /content/drive\n"
          ]
        }
      ],
      "source": [
        "from google.colab import drive\n",
        "drive.mount('/content/drive')"
      ]
    },
    {
      "cell_type": "code",
      "execution_count": null,
      "metadata": {
        "colab": {
          "base_uri": "https://localhost:8080/"
        },
        "id": "IcPOsHCTOQyi",
        "outputId": "267772c4-2134-47a9-99e0-06f62b28ab49"
      },
      "outputs": [
        {
          "data": {
            "text/plain": [
              "(0, 0)"
            ]
          },
          "execution_count": 25,
          "metadata": {},
          "output_type": "execute_result"
        }
      ],
      "source": [
        "retentionData.shape"
      ]
    },
    {
      "cell_type": "code",
      "execution_count": null,
      "metadata": {
        "colab": {
          "base_uri": "https://localhost:8080/",
          "height": 162
        },
        "id": "kETBLKDgOkhg",
        "outputId": "0f922bcc-963d-4054-f0d3-eae36848d8f4"
      },
      "outputs": [
        {
          "ename": "NameError",
          "evalue": "ignored",
          "output_type": "error",
          "traceback": [
            "\u001b[0;31m---------------------------------------------------------------------------\u001b[0m",
            "\u001b[0;31mNameError\u001b[0m                                 Traceback (most recent call last)",
            "\u001b[0;32m<ipython-input-27-633337079cd0>\u001b[0m in \u001b[0;36m<module>\u001b[0;34m()\u001b[0m\n\u001b[0;32m----> 1\u001b[0;31m \u001b[0mdf\u001b[0m\u001b[0;34m.\u001b[0m\u001b[0mshape\u001b[0m\u001b[0;34m\u001b[0m\u001b[0;34m\u001b[0m\u001b[0m\n\u001b[0m",
            "\u001b[0;31mNameError\u001b[0m: name 'df' is not defined"
          ]
        }
      ],
      "source": [
        "df.shape"
      ]
    },
    {
      "cell_type": "code",
      "execution_count": null,
      "metadata": {
        "id": "q68GoAfMO5q0"
      },
      "outputs": [],
      "source": []
    }
  ],
  "metadata": {
    "colab": {
      "provenance": []
    },
    "kernelspec": {
      "display_name": "Python 3",
      "name": "python3"
    },
    "language_info": {
      "name": "python"
    }
  },
  "nbformat": 4,
  "nbformat_minor": 0
}
